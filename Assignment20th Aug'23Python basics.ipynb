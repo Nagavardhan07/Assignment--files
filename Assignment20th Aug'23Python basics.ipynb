{
 "cells": [
  {
   "cell_type": "code",
   "execution_count": 287,
   "id": "030d5d50-fa0a-4a3e-ac42-b9581452aa28",
   "metadata": {},
   "outputs": [],
   "source": [
    "# String based assignment based questions."
   ]
  },
  {
   "cell_type": "code",
   "execution_count": 80,
   "id": "7d4a1050-5488-4bc1-8bfc-76266fc800fb",
   "metadata": {},
   "outputs": [
    {
     "name": "stdout",
     "output_type": "stream",
     "text": [
      "Reversed String: !dlroW olleH\n"
     ]
    }
   ],
   "source": [
    "# 1. Reverse a string\n",
    "# Explanation: This program takes a string input and reverses it using slicing.\n",
    "string = \"Hello World!\"\n",
    "reversed_string = string[::-1]\n",
    "print(\"Reversed String:\", reversed_string)\n"
   ]
  },
  {
   "cell_type": "code",
   "execution_count": 81,
   "id": "349466aa-067b-48f7-89b0-bca1566e156c",
   "metadata": {},
   "outputs": [
    {
     "name": "stdout",
     "output_type": "stream",
     "text": [
      "Is Palindrome: True\n"
     ]
    }
   ],
   "source": [
    "\n",
    "# 2. Check if a string is a palindrome\n",
    "# Explanation: A string is a palindrome if it reads the same backward as forward.\n",
    "string = \"madam\"\n",
    "is_palindrome = string == string[::-1]\n",
    "print(\"Is Palindrome:\", is_palindrome)"
   ]
  },
  {
   "cell_type": "code",
   "execution_count": 82,
   "id": "e30f3f4a-6885-48ea-b751-a248de5802b3",
   "metadata": {},
   "outputs": [
    {
     "name": "stdout",
     "output_type": "stream",
     "text": [
      "Uppercase String: HELLO WORLD\n"
     ]
    }
   ],
   "source": [
    "# 3. Convert a string to uppercase\n",
    "# Explanation: Using the built-in upper() method to convert the string to uppercase.\n",
    "string = \"hello world\"\n",
    "uppercase_string = string.upper()\n",
    "print(\"Uppercase String:\", uppercase_string)\n"
   ]
  },
  {
   "cell_type": "code",
   "execution_count": 83,
   "id": "69f7078a-d7b0-4e08-a3ff-cdd3763a4a09",
   "metadata": {},
   "outputs": [
    {
     "name": "stdout",
     "output_type": "stream",
     "text": [
      "Lowercase String: hello world\n"
     ]
    }
   ],
   "source": [
    "# 4. Convert a string to lowercase\n",
    "# Explanation: Using the lower() method to convert the string to lowercase.\n",
    "string = \"Hello World\"\n",
    "lowercase_string = string.lower()\n",
    "print(\"Lowercase String:\", lowercase_string)\n"
   ]
  },
  {
   "cell_type": "code",
   "execution_count": 84,
   "id": "e03847fa-476b-4975-bf82-a39b21ee723e",
   "metadata": {},
   "outputs": [
    {
     "name": "stdout",
     "output_type": "stream",
     "text": [
      "Number of Vowels: 3\n"
     ]
    }
   ],
   "source": [
    "# 5. Count the number of vowels in a string\n",
    "# Explanation: Iterating through the string and counting vowels.\n",
    "string = \"Hello World\"\n",
    "vowels = \"aeiouAEIOU\"\n",
    "vowel_count = sum(1 for char in string if char in vowels)\n",
    "print(\"Number of Vowels:\", vowel_count)"
   ]
  },
  {
   "cell_type": "code",
   "execution_count": 85,
   "id": "2a3c45f2-fc5d-4f5f-b60e-bbdbd836427f",
   "metadata": {},
   "outputs": [
    {
     "name": "stdout",
     "output_type": "stream",
     "text": [
      "Number of Consonants: 7\n"
     ]
    }
   ],
   "source": [
    "# 6. Count the number of consonants in a string\n",
    "# Explanation: Filtering out vowels and spaces to count consonants.\n",
    "consonant_count = sum(1 for char in string if char.isalpha() and char not in vowels)\n",
    "print(\"Number of Consonants:\", consonant_count)\n"
   ]
  },
  {
   "cell_type": "code",
   "execution_count": 86,
   "id": "5ec03f1e-1387-4c46-a543-e6ffc7736012",
   "metadata": {},
   "outputs": [
    {
     "name": "stdout",
     "output_type": "stream",
     "text": [
      "String without Whitespaces: HelloWorld\n"
     ]
    }
   ],
   "source": [
    "# 7. Remove all whitespaces from a string\n",
    "# Explanation: Using the replace method to remove spaces.\n",
    "no_whitespace = string.replace(\" \", \"\")\n",
    "print(\"String without Whitespaces:\", no_whitespace)\n"
   ]
  },
  {
   "cell_type": "code",
   "execution_count": 87,
   "id": "a9d29d47-5e0f-4619-9102-49ba63f91636",
   "metadata": {},
   "outputs": [
    {
     "name": "stdout",
     "output_type": "stream",
     "text": [
      "Length of String: 11\n"
     ]
    }
   ],
   "source": [
    "# 8. Find the length of a string without using the len() function\n",
    "# Explanation: Counting characters manually using a loop.\n",
    "length = sum(1 for char in string)\n",
    "print(\"Length of String:\", length)\n"
   ]
  },
  {
   "cell_type": "code",
   "execution_count": 88,
   "id": "de8ace9e-f2e1-4131-9d3c-61962331f678",
   "metadata": {},
   "outputs": [
    {
     "name": "stdout",
     "output_type": "stream",
     "text": [
      "Contains Specific Word: True\n"
     ]
    }
   ],
   "source": [
    "# 9. Check if a string contains a specific word\n",
    "# Explanation: Using the `in` operator to check for a word.\n",
    "specific_word = \"World\"\n",
    "contains_word = specific_word in string\n",
    "print(\"Contains Specific Word:\", contains_word)\n",
    "\n",
    "\n"
   ]
  },
  {
   "cell_type": "code",
   "execution_count": 89,
   "id": "9cb7c285-e642-4c95-9593-c86414d93c48",
   "metadata": {},
   "outputs": [
    {
     "name": "stdout",
     "output_type": "stream",
     "text": [
      "Replaced String: Hello Universe\n"
     ]
    }
   ],
   "source": [
    "# 10. Replace a word in a string with another word\n",
    "# Explanation: Using the replace method.\n",
    "replaced_string = string.replace(\"World\", \"Universe\")\n",
    "print(\"Replaced String:\", replaced_string)\n"
   ]
  },
  {
   "cell_type": "code",
   "execution_count": 90,
   "id": "46e8f2e0-b0ba-4a12-b2d5-8a5a8235f8fe",
   "metadata": {},
   "outputs": [
    {
     "name": "stdout",
     "output_type": "stream",
     "text": [
      "Occurrences of 'Hello': 1\n"
     ]
    }
   ],
   "source": [
    "# 11. Count the occurrences of a word in a string\n",
    "# Explanation: Using the count() method.\n",
    "occurrences = string.count(\"Hello\")\n",
    "print(\"Occurrences of 'Hello':\", occurrences)\n"
   ]
  },
  {
   "cell_type": "code",
   "execution_count": 91,
   "id": "c70e2711-72e5-4cee-8823-b4fea3622a51",
   "metadata": {},
   "outputs": [
    {
     "name": "stdout",
     "output_type": "stream",
     "text": [
      "First Occurrence of 'World': 6\n"
     ]
    }
   ],
   "source": [
    "# 12. Find the first occurrence of a word in a string\n",
    "# Explanation: Using the find() method.\n",
    "first_occurrence = string.find(\"World\")\n",
    "print(\"First Occurrence of 'World':\", first_occurrence)"
   ]
  },
  {
   "cell_type": "code",
   "execution_count": 92,
   "id": "ff1fbeea-606c-48b4-9109-8c72ea8f5bbb",
   "metadata": {},
   "outputs": [
    {
     "name": "stdout",
     "output_type": "stream",
     "text": [
      "Last Occurrence of 'World': 6\n"
     ]
    }
   ],
   "source": [
    "# 13. Find the last occurrence of a word in a string\n",
    "# Explanation: Using the rfind() method.\n",
    "last_occurrence = string.rfind(\"World\")\n",
    "print(\"Last Occurrence of 'World':\", last_occurrence)\n"
   ]
  },
  {
   "cell_type": "code",
   "execution_count": 93,
   "id": "81e68fe2-72e5-4cd8-8f6e-1c644a7c6645",
   "metadata": {},
   "outputs": [
    {
     "name": "stdout",
     "output_type": "stream",
     "text": [
      "List of Words: ['Hello', 'World']\n"
     ]
    }
   ],
   "source": [
    "# 14. Split a string into a list of words\n",
    "# Explanation: Using the split() method to break the string by spaces.\n",
    "split_list = string.split()\n",
    "print(\"List of Words:\", split_list)"
   ]
  },
  {
   "cell_type": "code",
   "execution_count": 94,
   "id": "19bd9197-d47f-45d6-99d9-d4872fa209a5",
   "metadata": {},
   "outputs": [
    {
     "name": "stdout",
     "output_type": "stream",
     "text": [
      "Joined String: Hello World\n"
     ]
    }
   ],
   "source": [
    "# 15. Join a list of words into a string\n",
    "# Explanation: Using the join() method.\n",
    "joined_string = \" \".join(split_list)\n",
    "print(\"Joined String:\", joined_string)"
   ]
  },
  {
   "cell_type": "code",
   "execution_count": 95,
   "id": "914fcc2c-2e0b-4abe-b3e8-9b5147bb0c28",
   "metadata": {},
   "outputs": [
    {
     "name": "stdout",
     "output_type": "stream",
     "text": [
      "Underscored String: Hello_World\n"
     ]
    }
   ],
   "source": [
    "# 16. Convert spaces to underscores\n",
    "# Explanation: Replacing spaces with underscores.\n",
    "underscored_string = string.replace(\" \", \"_\")\n",
    "print(\"Underscored String:\", underscored_string)\n"
   ]
  },
  {
   "cell_type": "code",
   "execution_count": 96,
   "id": "3f77123a-8c07-4997-b5af-9114ab41d9a4",
   "metadata": {},
   "outputs": [
    {
     "name": "stdout",
     "output_type": "stream",
     "text": [
      "Starts with 'Hello': True\n"
     ]
    }
   ],
   "source": [
    "# 17. Check if a string starts with a specific word\n",
    "# Explanation: Using the startswith() method.\n",
    "starts_with_hello = string.startswith(\"Hello\")\n",
    "print(\"Starts with 'Hello':\", starts_with_hello)\n"
   ]
  },
  {
   "cell_type": "code",
   "execution_count": 97,
   "id": "7863c875-aea1-49bc-9516-0174ff775734",
   "metadata": {},
   "outputs": [
    {
     "name": "stdout",
     "output_type": "stream",
     "text": [
      "Ends with 'World': True\n"
     ]
    }
   ],
   "source": [
    "# 18. Check if a string ends with a specific word\n",
    "# Explanation: Using the endswith() method.\n",
    "ends_with_world = string.endswith(\"World\")\n",
    "print(\"Ends with 'World':\", ends_with_world)\n"
   ]
  },
  {
   "cell_type": "code",
   "execution_count": 98,
   "id": "139dda7c-8ce6-44be-8844-b6f46b7c2ac6",
   "metadata": {},
   "outputs": [
    {
     "name": "stdout",
     "output_type": "stream",
     "text": [
      "Title Case String: Hello World\n"
     ]
    }
   ],
   "source": [
    "# 19. Convert a string to title case\n",
    "# Explanation: Using the title() method.\n",
    "title_case_string = string.title()\n",
    "print(\"Title Case String:\", title_case_string)"
   ]
  },
  {
   "cell_type": "code",
   "execution_count": 99,
   "id": "6b04bb65-fca8-4826-8629-5876321cafc2",
   "metadata": {},
   "outputs": [
    {
     "name": "stdout",
     "output_type": "stream",
     "text": [
      "Longest Word: Hello\n"
     ]
    }
   ],
   "source": [
    "# 20. Find the longest word in a string\n",
    "# Explanation: Splitting the string and using max() with key=len.\n",
    "longest_word = max(split_list, key=len)\n",
    "print(\"Longest Word:\", longest_word)"
   ]
  },
  {
   "cell_type": "code",
   "execution_count": 100,
   "id": "c63cfaa2-784c-4430-be2e-78e13842ece2",
   "metadata": {},
   "outputs": [
    {
     "name": "stdout",
     "output_type": "stream",
     "text": [
      "Shortest Word: Hello\n"
     ]
    }
   ],
   "source": [
    "# 21. Find the shortest word in a string\n",
    "# Explanation: Splitting and using min() with key=len.\n",
    "shortest_word = min(split_list, key=len)\n",
    "print(\"Shortest Word:\", shortest_word)"
   ]
  },
  {
   "cell_type": "code",
   "execution_count": 101,
   "id": "b3cc084a-571f-4d83-972e-ba6e81eb7449",
   "metadata": {},
   "outputs": [
    {
     "name": "stdout",
     "output_type": "stream",
     "text": [
      "Reversed Order of Words: World Hello\n"
     ]
    }
   ],
   "source": [
    "# 22. Reverse the order of words\n",
    "# Explanation: Reversing the list of words and joining.\n",
    "reversed_order = \" \".join(reversed(split_list))\n",
    "print(\"Reversed Order of Words:\", reversed_order)"
   ]
  },
  {
   "cell_type": "code",
   "execution_count": 102,
   "id": "724ad8d4-2526-4f67-8b27-1f2e99aacc82",
   "metadata": {},
   "outputs": [
    {
     "name": "stdout",
     "output_type": "stream",
     "text": [
      "Is Alphanumeric: True\n"
     ]
    }
   ],
   "source": [
    "# 23. Check if a string is alphanumeric\n",
    "# Explanation: Using isalnum() method.\n",
    "is_alphanumeric = string.replace(\" \", \"\").isalnum()\n",
    "print(\"Is Alphanumeric:\", is_alphanumeric)\n"
   ]
  },
  {
   "cell_type": "code",
   "execution_count": 103,
   "id": "d5d1066b-8d86-414c-9c1e-23c624ba4955",
   "metadata": {},
   "outputs": [
    {
     "name": "stdout",
     "output_type": "stream",
     "text": [
      "Digits Extracted: \n"
     ]
    }
   ],
   "source": [
    "# 24. Extract all digits from a string\n",
    "# Explanation: Filtering characters that are digits.\n",
    "digits = \"\".join(char for char in string if char.isdigit())\n",
    "print(\"Digits Extracted:\", digits)"
   ]
  },
  {
   "cell_type": "code",
   "execution_count": 104,
   "id": "e67cc730-58ee-4008-bcc7-f11c070c6e64",
   "metadata": {},
   "outputs": [
    {
     "name": "stdout",
     "output_type": "stream",
     "text": [
      "Alphabets Extracted: HelloWorld\n"
     ]
    }
   ],
   "source": [
    "# 25. Extract all alphabets from a string\n",
    "# Explanation: Filtering characters that are alphabets.\n",
    "alphabets = \"\".join(char for char in string if char.isalpha())\n",
    "print(\"Alphabets Extracted:\", alphabets)\n"
   ]
  },
  {
   "cell_type": "code",
   "execution_count": 105,
   "id": "74ec24a0-ff97-400d-afa3-fcf13a2742bd",
   "metadata": {},
   "outputs": [
    {
     "name": "stdout",
     "output_type": "stream",
     "text": [
      "Uppercase Count: 2\n"
     ]
    }
   ],
   "source": [
    "# 26. Count uppercase letters in a string\n",
    "# Explanation: Filtering and counting uppercase letters.\n",
    "uppercase_count = sum(1 for char in string if char.isupper())\n",
    "print(\"Uppercase Count:\", uppercase_count)"
   ]
  },
  {
   "cell_type": "code",
   "execution_count": 106,
   "id": "4bd380c2-2105-4164-82d1-5b35935ab135",
   "metadata": {},
   "outputs": [
    {
     "name": "stdout",
     "output_type": "stream",
     "text": [
      "Lowercase Count: 8\n"
     ]
    }
   ],
   "source": [
    "# 27. Count lowercase letters in a string\n",
    "# Explanation: Filtering and counting lowercase letters.\n",
    "lowercase_count = sum(1 for char in string if char.islower())\n",
    "print(\"Lowercase Count:\", lowercase_count)\n"
   ]
  },
  {
   "cell_type": "code",
   "execution_count": 107,
   "id": "5b5bee05-b413-4720-bc58-7e6b36b5aca3",
   "metadata": {},
   "outputs": [
    {
     "name": "stdout",
     "output_type": "stream",
     "text": [
      "Swapped Case String: hELLO wORLD\n"
     ]
    }
   ],
   "source": [
    "# 28. Swap the case of each character in a string\n",
    "# Explanation: Using swapcase() method.\n",
    "swapped_case_string = string.swapcase()\n",
    "print(\"Swapped Case String:\", swapped_case_string)"
   ]
  },
  {
   "cell_type": "code",
   "execution_count": 108,
   "id": "bbfbd337-2783-4e09-8e93-b9d18b7cb365",
   "metadata": {},
   "outputs": [
    {
     "name": "stdout",
     "output_type": "stream",
     "text": [
      "String after Removing Word:  World\n"
     ]
    }
   ],
   "source": [
    "# 29. Remove a specific word from a string\n",
    "word_to_remove = \"Hello\"\n",
    "removed_word_string = string.replace(word_to_remove, \"\")\n",
    "print(\"String after Removing Word:\", removed_word_string)"
   ]
  },
  {
   "cell_type": "code",
   "execution_count": 109,
   "id": "61608bfb-28e6-4e55-a4b3-f3925fd1817d",
   "metadata": {},
   "outputs": [
    {
     "name": "stdout",
     "output_type": "stream",
     "text": [
      "Is Valid Email: True\n"
     ]
    }
   ],
   "source": [
    "# 30. Check if a string is a valid email address\n",
    "import re\n",
    "email = \"test@example.com\"\n",
    "is_valid_email = re.match(r\"^[\\w.-]+@[\\w.-]+\\.\\w+$\", email) is not None\n",
    "print(\"Is Valid Email:\", is_valid_email)\n"
   ]
  },
  {
   "cell_type": "code",
   "execution_count": 110,
   "id": "f78fb451-65b5-4d5f-997b-3caff37f906c",
   "metadata": {},
   "outputs": [
    {
     "name": "stdout",
     "output_type": "stream",
     "text": [
      "Username: test\n"
     ]
    }
   ],
   "source": [
    "# 31. Extract the username from an email address\n",
    "username = email.split(\"@\")[0]\n",
    "print(\"Username:\", username)\n"
   ]
  },
  {
   "cell_type": "code",
   "execution_count": 111,
   "id": "d9d3ff44-c21b-452f-aef1-bbe17afb614c",
   "metadata": {},
   "outputs": [
    {
     "name": "stdout",
     "output_type": "stream",
     "text": [
      "Domain: example.com\n"
     ]
    }
   ],
   "source": [
    "# 32. Extract the domain name from an email address\n",
    "domain = email.split(\"@\")[1]\n",
    "print(\"Domain:\", domain)\n"
   ]
  },
  {
   "cell_type": "code",
   "execution_count": 112,
   "id": "00bf7059-fe22-423c-a9eb-d86bb4b367ac",
   "metadata": {},
   "outputs": [
    {
     "name": "stdout",
     "output_type": "stream",
     "text": [
      "Single Space String: Hello World Test\n"
     ]
    }
   ],
   "source": [
    "# 33. Replace multiple spaces in a string with a single space\n",
    "string_with_spaces = \"Hello   World   Test\"\n",
    "single_space_string = re.sub(r\" +\", \" \", string_with_spaces)\n",
    "print(\"Single Space String:\", single_space_string)"
   ]
  },
  {
   "cell_type": "code",
   "execution_count": 113,
   "id": "cef0689b-27a3-41c0-9e29-d91c22fc1006",
   "metadata": {},
   "outputs": [
    {
     "name": "stdout",
     "output_type": "stream",
     "text": [
      "Is Valid URL: True\n"
     ]
    }
   ],
   "source": [
    "# 34. Check if a string is a valid URL\n",
    "url = \"https://example.com\"\n",
    "is_valid_url = re.match(r\"https?://[\\w.-]+\", url) is not None\n",
    "print(\"Is Valid URL:\", is_valid_url)\n"
   ]
  },
  {
   "cell_type": "code",
   "execution_count": 114,
   "id": "881f2f9e-a7ca-4713-8e2c-84befa6980cc",
   "metadata": {},
   "outputs": [
    {
     "name": "stdout",
     "output_type": "stream",
     "text": [
      "Protocol: https\n"
     ]
    }
   ],
   "source": [
    "# 35. Extract the protocol from a URL string\n",
    "protocol = url.split(\":\")[0]\n",
    "print(\"Protocol:\", protocol)"
   ]
  },
  {
   "cell_type": "code",
   "execution_count": 115,
   "id": "b1da809a-d495-42ec-aada-159c825752a0",
   "metadata": {},
   "outputs": [
    {
     "name": "stdout",
     "output_type": "stream",
     "text": [
      "Character Frequency: {'H': 1, 'e': 1, 'l': 3, 'o': 2, ' ': 1, 'W': 1, 'r': 1, 'd': 1}\n"
     ]
    }
   ],
   "source": [
    "# 36. Find the frequency of each character in a string\n",
    "from collections import Counter\n",
    "frequency = Counter(string)\n",
    "print(\"Character Frequency:\", dict(frequency))"
   ]
  },
  {
   "cell_type": "code",
   "execution_count": 116,
   "id": "f9484386-a3c9-435b-b39f-856f2b764815",
   "metadata": {},
   "outputs": [
    {
     "name": "stdout",
     "output_type": "stream",
     "text": [
      "No Punctuation String: Hello World\n"
     ]
    }
   ],
   "source": [
    "# 37. Remove all punctuation from a string\n",
    "import string as s\n",
    "string_no_punctuation = re.sub(f\"[{s.punctuation}]\", \"\", \"Hello, World!\")\n",
    "print(\"No Punctuation String:\", string_no_punctuation)\n"
   ]
  },
  {
   "cell_type": "code",
   "execution_count": 117,
   "id": "a77759f7-f529-473c-b8d8-4a66f9e3c7f1",
   "metadata": {},
   "outputs": [
    {
     "name": "stdout",
     "output_type": "stream",
     "text": [
      "Contains Only Digits: True\n"
     ]
    }
   ],
   "source": [
    "# 38. Check if a string contains only digits\n",
    "only_digits = \"12345\".isdigit()\n",
    "print(\"Contains Only Digits:\", only_digits)\n"
   ]
  },
  {
   "cell_type": "code",
   "execution_count": 118,
   "id": "2238444b-fd12-4d28-9c4b-11d9de725ef0",
   "metadata": {},
   "outputs": [
    {
     "name": "stdout",
     "output_type": "stream",
     "text": [
      "Contains Only Alphabets: True\n"
     ]
    }
   ],
   "source": [
    "# 39. Check if a string contains only alphabets\n",
    "only_alphabets = \"HelloWorld\".isalpha()\n",
    "print(\"Contains Only Alphabets:\", only_alphabets)\n"
   ]
  },
  {
   "cell_type": "code",
   "execution_count": 119,
   "id": "d2c303da-54d6-41d6-ac28-b880bbf03eaf",
   "metadata": {},
   "outputs": [
    {
     "name": "stdout",
     "output_type": "stream",
     "text": [
      "List of Characters: ['H', 'e', 'l', 'l', 'o', ' ', 'W', 'o', 'r', 'l', 'd']\n"
     ]
    }
   ],
   "source": [
    "# 40. Convert a string to a list of characters\n",
    "char_list = list(string)\n",
    "print(\"List of Characters:\", char_list)\n"
   ]
  },
  {
   "cell_type": "code",
   "execution_count": 120,
   "id": "80147e62-3356-4a2d-ba8b-b2f9de3317e5",
   "metadata": {},
   "outputs": [
    {
     "name": "stdout",
     "output_type": "stream",
     "text": [
      "Are Anagrams: True\n"
     ]
    }
   ],
   "source": [
    "# 41. Check if two strings are anagrams\n",
    "string1, string2 = \"listen\", \"silent\"\n",
    "are_anagrams = sorted(string1) == sorted(string2)\n",
    "print(\"Are Anagrams:\", are_anagrams)"
   ]
  },
  {
   "cell_type": "code",
   "execution_count": 121,
   "id": "dfdefd43-1a79-4638-bfce-a2ac61198670",
   "metadata": {},
   "outputs": [
    {
     "name": "stdout",
     "output_type": "stream",
     "text": [
      "Encoded String: Khoor Zruog\n"
     ]
    }
   ],
   "source": [
    "# 42. Encode a string using a Caesar cipher\n",
    "def caesar_cipher(text, shift):\n",
    "    result = \"\"\n",
    "    for char in text:\n",
    "        if char.isalpha():\n",
    "            shift_base = ord('A') if char.isupper() else ord('a')\n",
    "            result += chr((ord(char) - shift_base + shift) % 26 + shift_base)\n",
    "        else:\n",
    "            result += char\n",
    "    return result\n",
    "\n",
    "encoded_string = caesar_cipher(\"Hello World\", 3)\n",
    "print(\"Encoded String:\", encoded_string)"
   ]
  },
  {
   "cell_type": "code",
   "execution_count": 122,
   "id": "77d04538-c6c4-406a-8810-b1af4979f2e2",
   "metadata": {},
   "outputs": [
    {
     "name": "stdout",
     "output_type": "stream",
     "text": [
      "Decoded String: Hello World\n"
     ]
    }
   ],
   "source": [
    "# 43. Decode a Caesar cipher encoded string\n",
    "decoded_string = caesar_cipher(encoded_string, -3)\n",
    "print(\"Decoded String:\", decoded_string)\n"
   ]
  },
  {
   "cell_type": "code",
   "execution_count": 125,
   "id": "16064daf-8b34-4491-bb82-eb6eda0fbcc5",
   "metadata": {},
   "outputs": [
    {
     "name": "stdout",
     "output_type": "stream",
     "text": [
      "Most Frequent Word: apple\n"
     ]
    }
   ],
   "source": [
    "# 44. Find the most frequent word in a string\n",
    "from collections import Counter\n",
    "\n",
    "# Example input string\n",
    "input_string = \"apple banana apple orange banana apple\"\n",
    "\n",
    "# Split the string into a list of words\n",
    "words_list = input_string.split()\n",
    "\n",
    "# Find the most frequent word\n",
    "most_frequent_word = Counter(words_list).most_common(1)[0][0]\n",
    "print(\"Most Frequent Word:\", most_frequent_word)\n"
   ]
  },
  {
   "cell_type": "code",
   "execution_count": 126,
   "id": "ea49e430-ce9c-43f7-8f31-193056d93d4f",
   "metadata": {},
   "outputs": [
    {
     "name": "stdout",
     "output_type": "stream",
     "text": [
      "Unique Words: {'orange', 'apple', 'banana'}\n"
     ]
    }
   ],
   "source": [
    "# 45. Find all unique words in a string\n",
    "unique_words = set(words_list)\n",
    "print(\"Unique Words:\", unique_words)\n"
   ]
  },
  {
   "cell_type": "code",
   "execution_count": 127,
   "id": "d8f1e79a-ee56-4080-80aa-63a862e58968",
   "metadata": {},
   "outputs": [
    {
     "name": "stdout",
     "output_type": "stream",
     "text": [
      "Number of Syllables: 15\n"
     ]
    }
   ],
   "source": [
    "# 46. Count the number of syllables in a string\n",
    "def count_syllables(word):\n",
    "    return len(re.findall(r\"[aeiouAEIOU]+\", word))\n",
    "\n",
    "syllable_count = sum(count_syllables(word) for word in words_list)\n",
    "print(\"Number of Syllables:\", syllable_count)\n"
   ]
  },
  {
   "cell_type": "code",
   "execution_count": 128,
   "id": "95faa522-6e5c-45c4-8a2c-0780ba4d6242",
   "metadata": {},
   "outputs": [
    {
     "name": "stdout",
     "output_type": "stream",
     "text": [
      "Special Characters Found: []\n"
     ]
    }
   ],
   "source": [
    "# 47. Check if a string contains any special characters\n",
    "special_characters = re.findall(r\"[^a-zA-Z0-9 ]\", string)\n",
    "print(\"Special Characters Found:\", special_characters)\n"
   ]
  },
  {
   "cell_type": "code",
   "execution_count": 129,
   "id": "a16af81a-2cf0-48eb-94c9-323769d2075e",
   "metadata": {},
   "outputs": [
    {
     "name": "stdout",
     "output_type": "stream",
     "text": [
      "String after Removing nth Word: apple apple orange banana apple\n"
     ]
    }
   ],
   "source": [
    "# 48. Remove the nth word from a string\n",
    "n = 1\n",
    "removed_nth_word = \" \".join(word for i, word in enumerate(words_list) if i != n)\n",
    "print(\"String after Removing nth Word:\", removed_nth_word)"
   ]
  },
  {
   "cell_type": "code",
   "execution_count": 130,
   "id": "9a5fb481-df87-4096-953b-84e6ddff2291",
   "metadata": {},
   "outputs": [
    {
     "name": "stdout",
     "output_type": "stream",
     "text": [
      "String after Inserting Word: apple Beautiful banana apple orange banana apple\n"
     ]
    }
   ],
   "source": [
    "# 49. Insert a word at the nth position in a string\n",
    "n = 1\n",
    "word_to_insert = \"Beautiful\"\n",
    "inserted_word_string = \" \".join(words_list[:n] + [word_to_insert] + words_list[n:])\n",
    "print(\"String after Inserting Word:\", inserted_word_string)\n"
   ]
  },
  {
   "cell_type": "code",
   "execution_count": 131,
   "id": "cec38f8e-32fa-42c3-bf85-0da097d9536b",
   "metadata": {},
   "outputs": [
    {
     "name": "stdout",
     "output_type": "stream",
     "text": [
      "CSV as List of Lists: [['name', 'age'], ['Alice', '30'], ['Bob', '25']]\n"
     ]
    }
   ],
   "source": [
    "# 50. Convert a CSV string to a list of lists\n",
    "csv_string = \"name,age\\nAlice,30\\nBob,25\"\n",
    "csv_list = [line.split(',') for line in csv_string.split('\\n')]\n",
    "print(\"CSV as List of Lists:\", csv_list)\n"
   ]
  },
  {
   "cell_type": "code",
   "execution_count": 132,
   "id": "de80fca4-8498-443a-aef8-0a977db5712a",
   "metadata": {},
   "outputs": [],
   "source": [
    "# List Based Practice Problems with Solutions in Python\n"
   ]
  },
  {
   "cell_type": "code",
   "execution_count": null,
   "id": "feefdbaa-5079-482c-a825-f0cb602a8435",
   "metadata": {},
   "outputs": [],
   "source": []
  },
  {
   "cell_type": "code",
   "execution_count": 133,
   "id": "4b68da45-d335-48af-b893-9b864c8981f4",
   "metadata": {},
   "outputs": [
    {
     "name": "stdout",
     "output_type": "stream",
     "text": [
      "List from 1 to 10: [1, 2, 3, 4, 5, 6, 7, 8, 9, 10]\n"
     ]
    }
   ],
   "source": [
    "\n",
    "# 1. Create a list with integers from 1 to 10.\n",
    "list_1_to_10 = list(range(1, 11))\n",
    "print(\"List from 1 to 10:\", list_1_to_10)"
   ]
  },
  {
   "cell_type": "code",
   "execution_count": 134,
   "id": "87c1c47b-c928-4442-929c-b77971330d90",
   "metadata": {},
   "outputs": [
    {
     "name": "stdout",
     "output_type": "stream",
     "text": [
      "Length of list: 10\n"
     ]
    }
   ],
   "source": [
    "# 2. Find the length of a list without using the `len()` function.\n",
    "count = sum(1 for _ in list_1_to_10)\n",
    "print(\"Length of list:\", count)\n"
   ]
  },
  {
   "cell_type": "code",
   "execution_count": 135,
   "id": "909ef056-4b4d-4926-8e78-682071ecf78c",
   "metadata": {},
   "outputs": [
    {
     "name": "stdout",
     "output_type": "stream",
     "text": [
      "After appending 11: [1, 2, 3, 4, 5, 6, 7, 8, 9, 10, 11]\n"
     ]
    }
   ],
   "source": [
    "# 3. Append an element to the end of a list.\n",
    "list_1_to_10.append(11)\n",
    "print(\"After appending 11:\", list_1_to_10)"
   ]
  },
  {
   "cell_type": "code",
   "execution_count": 136,
   "id": "6a2e8050-0672-4d20-9442-95798755716c",
   "metadata": {},
   "outputs": [
    {
     "name": "stdout",
     "output_type": "stream",
     "text": [
      "After inserting 100 at index 5: [1, 2, 3, 4, 5, 100, 6, 7, 8, 9, 10, 11]\n"
     ]
    }
   ],
   "source": [
    "# 4. Insert an element at a specific index in a list.\n",
    "list_1_to_10.insert(5, 100)\n",
    "print(\"After inserting 100 at index 5:\", list_1_to_10)\n"
   ]
  },
  {
   "cell_type": "code",
   "execution_count": 137,
   "id": "f1d2b0ad-14fd-434b-b02e-541e3a432cdb",
   "metadata": {},
   "outputs": [
    {
     "name": "stdout",
     "output_type": "stream",
     "text": [
      "After removing 100: [1, 2, 3, 4, 5, 6, 7, 8, 9, 10, 11]\n"
     ]
    }
   ],
   "source": [
    "# 5. Remove an element from a list by its value.\n",
    "list_1_to_10.remove(100)\n",
    "print(\"After removing 100:\", list_1_to_10)\n"
   ]
  },
  {
   "cell_type": "code",
   "execution_count": 138,
   "id": "59ffd7e1-bd0e-4403-bf41-513a61b079de",
   "metadata": {},
   "outputs": [
    {
     "name": "stdout",
     "output_type": "stream",
     "text": [
      "Removed element at index 5: 6\n",
      "List after removal: [1, 2, 3, 4, 5, 7, 8, 9, 10, 11]\n"
     ]
    }
   ],
   "source": [
    "# 6. Remove an element from a list by its index.\n",
    "removed_element = list_1_to_10.pop(5)\n",
    "print(\"Removed element at index 5:\", removed_element)\n",
    "print(\"List after removal:\", list_1_to_10)\n"
   ]
  },
  {
   "cell_type": "code",
   "execution_count": 139,
   "id": "15ff8dca-8660-48d3-8d68-c1500135a316",
   "metadata": {},
   "outputs": [
    {
     "name": "stdout",
     "output_type": "stream",
     "text": [
      "Does 5 exist in the list? True\n"
     ]
    }
   ],
   "source": [
    "# 7. Check if an element exists in a list.\n",
    "exists = 5 in list_1_to_10\n",
    "print(\"Does 5 exist in the list?\", exists)\n"
   ]
  },
  {
   "cell_type": "code",
   "execution_count": 140,
   "id": "0ff78c80-e972-4599-891b-dc04bb073eeb",
   "metadata": {},
   "outputs": [
    {
     "name": "stdout",
     "output_type": "stream",
     "text": [
      "Index of first occurrence of 5: 4\n"
     ]
    }
   ],
   "source": [
    "# 8. Find the index of the first occurrence of an element in a list.\n",
    "index_of_5 = list_1_to_10.index(5)\n",
    "print(\"Index of first occurrence of 5:\", index_of_5)"
   ]
  },
  {
   "cell_type": "code",
   "execution_count": 141,
   "id": "88cd1368-1bef-42c0-9b3c-8e1184cdedf0",
   "metadata": {},
   "outputs": [
    {
     "name": "stdout",
     "output_type": "stream",
     "text": [
      "Count of 5 in list: 1\n"
     ]
    }
   ],
   "source": [
    "# 9. Count the occurrences of an element in a list.\n",
    "count_of_5 = list_1_to_10.count(5)\n",
    "print(\"Count of 5 in list:\", count_of_5)"
   ]
  },
  {
   "cell_type": "code",
   "execution_count": 142,
   "id": "45cfece4-a550-43ed-be42-f1aa58251bf1",
   "metadata": {},
   "outputs": [
    {
     "name": "stdout",
     "output_type": "stream",
     "text": [
      "Reversed list: [11, 10, 9, 8, 7, 5, 4, 3, 2, 1]\n"
     ]
    }
   ],
   "source": [
    "# 10. Reverse the order of elements in a list.\n",
    "list_1_to_10.reverse()\n",
    "print(\"Reversed list:\", list_1_to_10)"
   ]
  },
  {
   "cell_type": "code",
   "execution_count": 143,
   "id": "a510c09e-1b31-4349-a3f4-7b48a6874910",
   "metadata": {},
   "outputs": [
    {
     "name": "stdout",
     "output_type": "stream",
     "text": [
      "Sorted list (ascending): [1, 2, 3, 4, 5, 7, 8, 9, 10, 11]\n"
     ]
    }
   ],
   "source": [
    "# 11. Sort a list in ascending order.\n",
    "list_1_to_10.sort()\n",
    "print(\"Sorted list (ascending):\", list_1_to_10)\n",
    "\n"
   ]
  },
  {
   "cell_type": "code",
   "execution_count": 144,
   "id": "76aa8570-d3f7-48eb-bcd0-1a6765b244ff",
   "metadata": {},
   "outputs": [
    {
     "name": "stdout",
     "output_type": "stream",
     "text": [
      "Sorted list (descending): [11, 10, 9, 8, 7, 5, 4, 3, 2, 1]\n"
     ]
    }
   ],
   "source": [
    "# 12. Sort a list in descending order.\n",
    "list_1_to_10.sort(reverse=True)\n",
    "print(\"Sorted list (descending):\", list_1_to_10)\n"
   ]
  },
  {
   "cell_type": "code",
   "execution_count": 145,
   "id": "5cd6d6b8-7592-4d59-aa99-af5635cc8638",
   "metadata": {},
   "outputs": [
    {
     "name": "stdout",
     "output_type": "stream",
     "text": [
      "Even numbers from 1 to 20: [2, 4, 6, 8, 10, 12, 14, 16, 18, 20]\n"
     ]
    }
   ],
   "source": [
    "# 13. Create a list of even numbers from 1 to 20.\n",
    "even_numbers = [x for x in range(1, 21) if x % 2 == 0]\n",
    "print(\"Even numbers from 1 to 20:\", even_numbers)"
   ]
  },
  {
   "cell_type": "code",
   "execution_count": 146,
   "id": "87b94613-4761-452d-9b0b-ca2971b851cd",
   "metadata": {},
   "outputs": [
    {
     "name": "stdout",
     "output_type": "stream",
     "text": [
      "Odd numbers from 1 to 20: [1, 3, 5, 7, 9, 11, 13, 15, 17, 19]\n"
     ]
    }
   ],
   "source": [
    "# 14. Create a list of odd numbers from 1 to 20.\n",
    "odd_numbers = [x for x in range(1, 21) if x % 2 != 0]\n",
    "print(\"Odd numbers from 1 to 20:\", odd_numbers)\n"
   ]
  },
  {
   "cell_type": "code",
   "execution_count": 147,
   "id": "5e17d454-e1ca-478f-8f23-77ff15ecec62",
   "metadata": {},
   "outputs": [
    {
     "name": "stdout",
     "output_type": "stream",
     "text": [
      "Sum of elements: 60\n"
     ]
    }
   ],
   "source": [
    "# 15. Find the sum of all elements in a list.\n",
    "sum_of_elements = sum(list_1_to_10)\n",
    "print(\"Sum of elements:\", sum_of_elements)\n"
   ]
  },
  {
   "cell_type": "code",
   "execution_count": 148,
   "id": "f4c75f92-e5a9-4018-960e-a08957c6ed3a",
   "metadata": {},
   "outputs": [
    {
     "name": "stdout",
     "output_type": "stream",
     "text": [
      "Maximum value: 11\n"
     ]
    }
   ],
   "source": [
    "# 16. Find the maximum value in a list.\n",
    "max_value = max(list_1_to_10)\n",
    "print(\"Maximum value:\", max_value)"
   ]
  },
  {
   "cell_type": "code",
   "execution_count": 149,
   "id": "82fc67f1-c748-4825-8f79-d7c050cddeab",
   "metadata": {},
   "outputs": [
    {
     "name": "stdout",
     "output_type": "stream",
     "text": [
      "Minimum value: 1\n"
     ]
    }
   ],
   "source": [
    "# 17. Find the minimum value in a list.\n",
    "min_value = min(list_1_to_10)\n",
    "print(\"Minimum value:\", min_value)"
   ]
  },
  {
   "cell_type": "code",
   "execution_count": 150,
   "id": "e90e3f73-004b-4247-afd9-f3379319e7b9",
   "metadata": {},
   "outputs": [
    {
     "name": "stdout",
     "output_type": "stream",
     "text": [
      "Squares from 1 to 10: [1, 4, 9, 16, 25, 36, 49, 64, 81, 100]\n"
     ]
    }
   ],
   "source": [
    "# 18. Create a list of squares of numbers from 1 to 10.\n",
    "squares = [x ** 2 for x in range(1, 11)]\n",
    "print(\"Squares from 1 to 10:\", squares)\n"
   ]
  },
  {
   "cell_type": "code",
   "execution_count": 151,
   "id": "8c967def-ded8-4c33-85d3-433082a49d89",
   "metadata": {},
   "outputs": [
    {
     "name": "stdout",
     "output_type": "stream",
     "text": [
      "Random numbers: [89, 63, 60, 92, 97]\n"
     ]
    }
   ],
   "source": [
    "# 19. Create a list of random numbers.\n",
    "import random\n",
    "random_numbers = [random.randint(1, 100) for _ in range(5)]\n",
    "print(\"Random numbers:\", random_numbers)\n"
   ]
  },
  {
   "cell_type": "code",
   "execution_count": 152,
   "id": "fcb5c3ce-36d8-40e0-a697-37b90b53f5e8",
   "metadata": {},
   "outputs": [
    {
     "name": "stdout",
     "output_type": "stream",
     "text": [
      "Unique list: [1, 2, 3, 4, 5]\n"
     ]
    }
   ],
   "source": [
    "# 20. Remove duplicates from a list.\n",
    "list_with_duplicates = [1, 2, 2, 3, 4, 4, 5]\n",
    "unique_list = list(set(list_with_duplicates))\n",
    "print(\"Unique list:\", unique_list)"
   ]
  },
  {
   "cell_type": "code",
   "execution_count": 153,
   "id": "969ae0a1-3703-44fd-890e-a612e789a3d6",
   "metadata": {},
   "outputs": [
    {
     "name": "stdout",
     "output_type": "stream",
     "text": [
      "Common elements: [4, 5]\n"
     ]
    }
   ],
   "source": [
    "# 21. Find the common elements between two lists.\n",
    "list_a = [1, 2, 3, 4, 5]\n",
    "list_b = [4, 5, 6, 7, 8]\n",
    "common_elements = list(set(list_a) & set(list_b))\n",
    "print(\"Common elements:\", common_elements)\n"
   ]
  },
  {
   "cell_type": "code",
   "execution_count": 154,
   "id": "f704475c-faa9-4eb2-a2c6-69a6160109f5",
   "metadata": {},
   "outputs": [
    {
     "name": "stdout",
     "output_type": "stream",
     "text": [
      "Difference between lists: [1, 2, 3]\n"
     ]
    }
   ],
   "source": [
    "# 22. Find the difference between two lists.\n",
    "difference_elements = list(set(list_a) - set(list_b))\n",
    "print(\"Difference between lists:\", difference_elements)\n"
   ]
  },
  {
   "cell_type": "code",
   "execution_count": 155,
   "id": "dbd650ec-a771-42aa-9d2d-58a0bcff66d3",
   "metadata": {},
   "outputs": [
    {
     "name": "stdout",
     "output_type": "stream",
     "text": [
      "Merged list: [1, 2, 3, 4, 5, 4, 5, 6, 7, 8]\n"
     ]
    }
   ],
   "source": [
    "# 23. Merge two lists.\n",
    "merged_list = list_a + list_b\n",
    "print(\"Merged list:\", merged_list)"
   ]
  },
  {
   "cell_type": "code",
   "execution_count": 156,
   "id": "665294c3-19da-484a-9dcb-8bcd0166471f",
   "metadata": {},
   "outputs": [
    {
     "name": "stdout",
     "output_type": "stream",
     "text": [
      "List after multiplying by 2: [2, 4, 6, 8, 10]\n"
     ]
    }
   ],
   "source": [
    "# 24. Multiply all elements in a list by 2.\n",
    "multiplied_list = [x * 2 for x in list_a]\n",
    "print(\"List after multiplying by 2:\", multiplied_list)\n",
    "\n"
   ]
  },
  {
   "cell_type": "code",
   "execution_count": 157,
   "id": "6a7894ec-1f59-4262-aa01-4f1f8add5ba5",
   "metadata": {},
   "outputs": [
    {
     "name": "stdout",
     "output_type": "stream",
     "text": [
      "Filtered odd numbers: [1, 3, 5]\n"
     ]
    }
   ],
   "source": [
    "# 25. Filter out all even numbers from a list.\n",
    "filtered_list = [x for x in list_a if x % 2 != 0]\n",
    "print(\"Filtered odd numbers:\", filtered_list)"
   ]
  },
  {
   "cell_type": "code",
   "execution_count": 158,
   "id": "ddad6c14-eda0-45cc-bc12-58de0dc2264f",
   "metadata": {},
   "outputs": [
    {
     "name": "stdout",
     "output_type": "stream",
     "text": [
      "Converted to integers: [1, 2, 3, 4]\n"
     ]
    }
   ],
   "source": [
    "# 26. Convert a list of strings to a list of integers.\n",
    "list_of_strings = [\"1\", \"2\", \"3\", \"4\"]\n",
    "list_of_integers = list(map(int, list_of_strings))\n",
    "print(\"Converted to integers:\", list_of_integers)\n"
   ]
  },
  {
   "cell_type": "code",
   "execution_count": 159,
   "id": "7406fd91-7d63-404c-b31e-f96deb396f74",
   "metadata": {},
   "outputs": [
    {
     "name": "stdout",
     "output_type": "stream",
     "text": [
      "Converted to strings: ['1', '2', '3', '4']\n"
     ]
    }
   ],
   "source": [
    "# 27. Convert a list of integers to a list of strings.\n",
    "converted_to_strings = list(map(str, list_of_integers))\n",
    "print(\"Converted to strings:\", converted_to_strings)\n"
   ]
  },
  {
   "cell_type": "code",
   "execution_count": 160,
   "id": "aec76d2c-9f0e-4c9b-9f38-374cffa676bc",
   "metadata": {},
   "outputs": [
    {
     "name": "stdout",
     "output_type": "stream",
     "text": [
      "Flattened list: [1, 2, 3, 4, 5]\n"
     ]
    }
   ],
   "source": [
    "# 28. Flatten a nested list.\n",
    "nested_list = [[1, 2], [3, 4], [5]]\n",
    "flattened_list = [item for sublist in nested_list for item in sublist]\n",
    "print(\"Flattened list:\", flattened_list)\n"
   ]
  },
  {
   "cell_type": "code",
   "execution_count": 161,
   "id": "0d6b6a34-e380-4e82-ac21-baf79b888619",
   "metadata": {},
   "outputs": [
    {
     "name": "stdout",
     "output_type": "stream",
     "text": [
      "First 10 Fibonacci numbers: [0, 1, 1, 2, 3, 5, 8, 13, 21, 34]\n"
     ]
    }
   ],
   "source": [
    "# 29. Create a list of the first 10 Fibonacci numbers.\n",
    "fibonacci = [0, 1]\n",
    "for i in range(2, 10):\n",
    "    fibonacci.append(fibonacci[i - 1] + fibonacci[i - 2])\n",
    "print(\"First 10 Fibonacci numbers:\", fibonacci)\n"
   ]
  },
  {
   "cell_type": "code",
   "execution_count": 162,
   "id": "ab898d29-cd8a-455f-b6c2-3e80d938bede",
   "metadata": {},
   "outputs": [
    {
     "name": "stdout",
     "output_type": "stream",
     "text": [
      "Is the list sorted? False\n"
     ]
    }
   ],
   "source": [
    "# 30. Check if a list is sorted.\n",
    "is_sorted = all(list_1_to_10[i] <= list_1_to_10[i + 1] for i in range(len(list_1_to_10) - 1))\n",
    "print(\"Is the list sorted?\", is_sorted)"
   ]
  },
  {
   "cell_type": "code",
   "execution_count": 163,
   "id": "4b752129-ecde-4280-b0a6-a0dd675a1b73",
   "metadata": {},
   "outputs": [
    {
     "name": "stdout",
     "output_type": "stream",
     "text": [
      "List rotated left by 2 positions: [9, 8, 7, 5, 4, 3, 2, 1, 11, 10]\n"
     ]
    }
   ],
   "source": [
    "# 31. Rotate a list to the left by `n` positions.\n",
    "n = 2\n",
    "rotated_left = list_1_to_10[n:] + list_1_to_10[:n]\n",
    "print(\"List rotated left by 2 positions:\", rotated_left)\n"
   ]
  },
  {
   "cell_type": "code",
   "execution_count": 164,
   "id": "ef7fbd39-446d-4ed0-8b5c-47792591b78d",
   "metadata": {},
   "outputs": [
    {
     "name": "stdout",
     "output_type": "stream",
     "text": [
      "List rotated right by 2 positions: [2, 1, 11, 10, 9, 8, 7, 5, 4, 3]\n"
     ]
    }
   ],
   "source": [
    "# 32. Rotate a list to the right by `n` positions.\n",
    "rotated_right = list_1_to_10[-n:] + list_1_to_10[:-n]\n",
    "print(\"List rotated right by 2 positions:\", rotated_right)\n"
   ]
  },
  {
   "cell_type": "code",
   "execution_count": 165,
   "id": "c2e2b607-23ef-46dc-8001-ffc64614e0ea",
   "metadata": {},
   "outputs": [
    {
     "name": "stdout",
     "output_type": "stream",
     "text": [
      "Primes up to 50: [2, 3, 5, 7, 11, 13, 17, 19, 23, 29, 31, 37, 41, 43, 47]\n"
     ]
    }
   ],
   "source": [
    "# 33. Create a list of prime numbers up to 50.\n",
    "def is_prime(num):\n",
    "    if num < 2:\n",
    "        return False\n",
    "    for i in range(2, int(num ** 0.5) + 1):\n",
    "        if num % i == 0:\n",
    "            return False\n",
    "    return True\n",
    "\n",
    "primes_up_to_50 = [x for x in range(1, 51) if is_prime(x)]\n",
    "print(\"Primes up to 50:\", primes_up_to_50)"
   ]
  },
  {
   "cell_type": "code",
   "execution_count": 166,
   "id": "06854ef6-8ff8-48fa-902d-ee9cdf5db6f2",
   "metadata": {},
   "outputs": [
    {
     "name": "stdout",
     "output_type": "stream",
     "text": [
      "List chunks of size 3: [[11, 10, 9], [8, 7, 5], [4, 3, 2], [1]]\n"
     ]
    }
   ],
   "source": [
    "# 34. Split a list into chunks of size `n`.\n",
    "n = 3\n",
    "chunks = [list_1_to_10[i:i + n] for i in range(0, len(list_1_to_10), n)]\n",
    "print(\"List chunks of size 3:\", chunks)"
   ]
  },
  {
   "cell_type": "code",
   "execution_count": 167,
   "id": "778ab5f2-5d13-4382-a059-79af01b3631a",
   "metadata": {},
   "outputs": [
    {
     "name": "stdout",
     "output_type": "stream",
     "text": [
      "Second largest number: 10\n"
     ]
    }
   ],
   "source": [
    "# 35. Find the second largest number in a list.\n",
    "second_largest = sorted(set(list_1_to_10))[-2]\n",
    "print(\"Second largest number:\", second_largest)"
   ]
  },
  {
   "cell_type": "code",
   "execution_count": 168,
   "id": "df722083-d7cc-4065-8506-7b9f7c0ffa99",
   "metadata": {},
   "outputs": [
    {
     "name": "stdout",
     "output_type": "stream",
     "text": [
      "List with elements squared: [1, 4, 9, 16, 25]\n"
     ]
    }
   ],
   "source": [
    "# 36. Replace every element in a list with its square.\n",
    "squared_list = [x ** 2 for x in list_a]\n",
    "print(\"List with elements squared:\", squared_list)"
   ]
  },
  {
   "cell_type": "code",
   "execution_count": 169,
   "id": "139d9b42-c877-48e5-bca6-865909d63654",
   "metadata": {},
   "outputs": [
    {
     "name": "stdout",
     "output_type": "stream",
     "text": [
      "Dictionary from list: {1: 0, 2: 1, 3: 2, 4: 3, 5: 4}\n"
     ]
    }
   ],
   "source": [
    "# 37. Convert a list to a dictionary where list elements become keys and their indices become values.\n",
    "dict_from_list = {value: index for index, value in enumerate(list_a)}\n",
    "print(\"Dictionary from list:\", dict_from_list)"
   ]
  },
  {
   "cell_type": "code",
   "execution_count": 170,
   "id": "95f825ec-2c0e-4bb0-8bb5-91b7447ab897",
   "metadata": {},
   "outputs": [
    {
     "name": "stdout",
     "output_type": "stream",
     "text": [
      "Shuffled list: [4, 1, 5, 3, 2]\n"
     ]
    }
   ],
   "source": [
    "# 38. Shuffle the elements of a list randomly.\n",
    "random.shuffle(list_a)\n",
    "print(\"Shuffled list:\", list_a)\n"
   ]
  },
  {
   "cell_type": "code",
   "execution_count": 171,
   "id": "9b55bf38-d9f3-4324-b3e8-8be8a72def07",
   "metadata": {},
   "outputs": [
    {
     "name": "stdout",
     "output_type": "stream",
     "text": [
      "First 10 factorial numbers: [1, 1, 2, 6, 24, 120, 720, 5040, 40320, 362880]\n"
     ]
    }
   ],
   "source": [
    "# 39. Create a list of the first 10 factorial numbers.\n",
    "def factorial(n):\n",
    "    return 1 if n == 0 else n * factorial(n - 1)\n",
    "\n",
    "factorial_list = [factorial(x) for x in range(10)]\n",
    "print(\"First 10 factorial numbers:\", factorial_list)"
   ]
  },
  {
   "cell_type": "code",
   "execution_count": 172,
   "id": "93853840-d85b-4d2e-85ca-1253ac6cc3b9",
   "metadata": {},
   "outputs": [
    {
     "name": "stdout",
     "output_type": "stream",
     "text": [
      "Do the lists have common elements? True\n"
     ]
    }
   ],
   "source": [
    "# 40. Check if two lists have at least one element in common.\n",
    "common = any(x in list_b for x in list_a)\n",
    "print(\"Do the lists have common elements?\", common)\n"
   ]
  },
  {
   "cell_type": "code",
   "execution_count": 173,
   "id": "cac8b028-9d17-488f-9d8c-ef7ac3f5e68a",
   "metadata": {},
   "outputs": [
    {
     "name": "stdout",
     "output_type": "stream",
     "text": [
      "List after clearing: []\n"
     ]
    }
   ],
   "source": [
    "# 41. Remove all elements from a list.\n",
    "list_a.clear()\n",
    "print(\"List after clearing:\", list_a)"
   ]
  },
  {
   "cell_type": "code",
   "execution_count": 174,
   "id": "139c5dcd-f927-4258-a3d0-d9cd3049181e",
   "metadata": {},
   "outputs": [
    {
     "name": "stdout",
     "output_type": "stream",
     "text": [
      "List after replacing negatives with 0: [0, 2, 0, 4]\n"
     ]
    }
   ],
   "source": [
    "# 42. Replace negative numbers in a list with 0.\n",
    "list_with_negatives = [-1, 2, -3, 4]\n",
    "replaced_negatives = [x if x >= 0 else 0 for x in list_with_negatives]\n",
    "print(\"List after replacing negatives with 0:\", replaced_negatives)"
   ]
  },
  {
   "cell_type": "code",
   "execution_count": 175,
   "id": "547f8897-a40f-4b82-b00c-dbb29eae046f",
   "metadata": {},
   "outputs": [
    {
     "name": "stdout",
     "output_type": "stream",
     "text": [
      "List of words: ['This', 'is', 'an', 'example', 'string']\n"
     ]
    }
   ],
   "source": [
    "# 43. Convert a string into a list of words.\n",
    "string_example = \"This is an example string\"\n",
    "list_of_words = string_example.split()\n",
    "print(\"List of words:\", list_of_words)"
   ]
  },
  {
   "cell_type": "code",
   "execution_count": 176,
   "id": "c1f0dd5c-dca0-44aa-b973-90234f32d1e5",
   "metadata": {},
   "outputs": [
    {
     "name": "stdout",
     "output_type": "stream",
     "text": [
      "Reconstructed string: This is an example string\n"
     ]
    }
   ],
   "source": [
    "# 44. Convert a list of words into a string.\n",
    "reconstructed_string = \" \".join(list_of_words)\n",
    "print(\"Reconstructed string:\", reconstructed_string)"
   ]
  },
  {
   "cell_type": "code",
   "execution_count": 177,
   "id": "7dacdce1-1311-42db-a088-1c499804fff5",
   "metadata": {},
   "outputs": [
    {
     "name": "stdout",
     "output_type": "stream",
     "text": [
      "First 10 powers of 2: [1, 2, 4, 8, 16, 32, 64, 128, 256, 512]\n"
     ]
    }
   ],
   "source": [
    "# 45. Create a list of the first `n` powers of 2.\n",
    "n = 10\n",
    "powers_of_2 = [2 ** x for x in range(n)]\n",
    "print(\"First 10 powers of 2:\", powers_of_2)"
   ]
  },
  {
   "cell_type": "code",
   "execution_count": 178,
   "id": "c88dc8af-7ba3-4b5b-a13a-5f5cacb92961",
   "metadata": {},
   "outputs": [
    {
     "name": "stdout",
     "output_type": "stream",
     "text": [
      "Longest string: watermelon\n"
     ]
    }
   ],
   "source": [
    "# 46. Find the longest string in a list of strings.\n",
    "string_list = [\"apple\", \"banana\", \"cherry\", \"watermelon\"]\n",
    "longest_string = max(string_list, key=len)\n",
    "print(\"Longest string:\", longest_string)\n"
   ]
  },
  {
   "cell_type": "code",
   "execution_count": 179,
   "id": "221bdcb0-e5dc-4170-ba0a-b8ff323e4370",
   "metadata": {},
   "outputs": [
    {
     "name": "stdout",
     "output_type": "stream",
     "text": [
      "Shortest string: apple\n"
     ]
    }
   ],
   "source": [
    "# 47. Find the shortest string in a list of strings.\n",
    "shortest_string = min(string_list, key=len)\n",
    "print(\"Shortest string:\", shortest_string)\n"
   ]
  },
  {
   "cell_type": "code",
   "execution_count": 180,
   "id": "7adfa960-9bf9-4201-80fb-24eca78dd2d3",
   "metadata": {},
   "outputs": [
    {
     "name": "stdout",
     "output_type": "stream",
     "text": [
      "First 10 triangular numbers: [1, 3, 6, 10, 15, 21, 28, 36, 45, 55]\n"
     ]
    }
   ],
   "source": [
    "# 48. Create a list of the first `n` triangular numbers.\n",
    "n = 10\n",
    "triangular_numbers = [int(x * (x + 1) / 2) for x in range(1, n + 1)]\n",
    "print(\"First 10 triangular numbers:\", triangular_numbers)\n"
   ]
  },
  {
   "cell_type": "code",
   "execution_count": 181,
   "id": "ee4db3cd-ab59-4e1c-8bda-e103719eafac",
   "metadata": {},
   "outputs": [
    {
     "name": "stdout",
     "output_type": "stream",
     "text": [
      "List contains subsequence: True\n"
     ]
    }
   ],
   "source": [
    "# 49. Check if a list contains another list as a subsequence.\n",
    "def contains_subsequence(lst, sub_lst):\n",
    "    sub_len = len(sub_lst)\n",
    "    return any(lst[i:i + sub_len] == sub_lst for i in range(len(lst) - sub_len + 1))\n",
    "\n",
    "list_main = [1, 2, 3, 4, 5]\n",
    "sub_list = [3, 4]\n",
    "print(\"List contains subsequence:\", contains_subsequence(list_main, sub_list))\n",
    "\n"
   ]
  },
  {
   "cell_type": "code",
   "execution_count": 183,
   "id": "3e88ba3e-ba66-439b-8fae-a309c431724f",
   "metadata": {},
   "outputs": [
    {
     "name": "stdout",
     "output_type": "stream",
     "text": [
      "List after swapping: [1, 4, 3, 2, 5]\n"
     ]
    }
   ],
   "source": [
    "# 50. Swap two elements in a list by their indices.\n",
    "list_to_swap = [1, 2, 3, 4, 5]\n",
    "i, j = 1, 3\n",
    "\n",
    "# Correct swap with complete assignment\n",
    "list_to_swap[i], list_to_swap[j] = list_to_swap[j], list_to_swap[i]\n",
    "\n",
    "print(\"List after swapping:\", list_to_swap)\n"
   ]
  },
  {
   "cell_type": "code",
   "execution_count": 184,
   "id": "5773222d-8894-4a2e-a99c-aa8dc0664232",
   "metadata": {},
   "outputs": [],
   "source": [
    "# Tuple Based Practice Problems with Solutions in Python\n"
   ]
  },
  {
   "cell_type": "code",
   "execution_count": 185,
   "id": "26d62821-6e6c-4b2e-8422-6dd9f8e028f3",
   "metadata": {},
   "outputs": [
    {
     "name": "stdout",
     "output_type": "stream",
     "text": [
      "Tuple from 1 to 5: (1, 2, 3, 4, 5)\n"
     ]
    }
   ],
   "source": [
    "# 1. Create a tuple with integers from 1 to 5.\n",
    "tuple_1_to_5 = (1, 2, 3, 4, 5)\n",
    "print(\"Tuple from 1 to 5:\", tuple_1_to_5)"
   ]
  },
  {
   "cell_type": "code",
   "execution_count": 186,
   "id": "20986616-7cd5-4d77-b485-7290ff8cc877",
   "metadata": {},
   "outputs": [
    {
     "name": "stdout",
     "output_type": "stream",
     "text": [
      "Third element of the tuple: 3\n"
     ]
    }
   ],
   "source": [
    "# 2. Access the third element of a tuple.\n",
    "third_element = tuple_1_to_5[2]\n",
    "print(\"Third element of the tuple:\", third_element)\n"
   ]
  },
  {
   "cell_type": "code",
   "execution_count": 187,
   "id": "9703cb11-bcd4-4ab0-9327-595b27c34b02",
   "metadata": {},
   "outputs": [
    {
     "name": "stdout",
     "output_type": "stream",
     "text": [
      "Length of the tuple: 5\n"
     ]
    }
   ],
   "source": [
    "# 3. Find the length of a tuple without using the `len()` function.\n",
    "count = sum(1 for _ in tuple_1_to_5)\n",
    "print(\"Length of the tuple:\", count)\n"
   ]
  },
  {
   "cell_type": "code",
   "execution_count": 188,
   "id": "6fea918d-9e99-40c1-a7ea-a733aff0d705",
   "metadata": {},
   "outputs": [
    {
     "name": "stdout",
     "output_type": "stream",
     "text": [
      "Occurrences of 3 in the tuple: 1\n"
     ]
    }
   ],
   "source": [
    "# 4. Count the occurrences of an element in a tuple.\n",
    "count_of_3 = tuple_1_to_5.count(3)\n",
    "print(\"Occurrences of 3 in the tuple:\", count_of_3)\n"
   ]
  },
  {
   "cell_type": "code",
   "execution_count": 189,
   "id": "5f8880d5-e00b-4af3-a198-515d191b8eba",
   "metadata": {},
   "outputs": [
    {
     "name": "stdout",
     "output_type": "stream",
     "text": [
      "Index of first occurrence of 4: 3\n"
     ]
    }
   ],
   "source": [
    "# 5. Find the index of the first occurrence of an element in a tuple.\n",
    "index_of_4 = tuple_1_to_5.index(4)\n",
    "print(\"Index of first occurrence of 4:\", index_of_4)\n"
   ]
  },
  {
   "cell_type": "code",
   "execution_count": 190,
   "id": "31368253-7262-4b67-a3c2-141645eb6f3d",
   "metadata": {},
   "outputs": [
    {
     "name": "stdout",
     "output_type": "stream",
     "text": [
      "Does 3 exist in the tuple? True\n"
     ]
    }
   ],
   "source": [
    "# 6. Check if an element exists in a tuple.\n",
    "exists = 3 in tuple_1_to_5\n",
    "print(\"Does 3 exist in the tuple?\", exists)"
   ]
  },
  {
   "cell_type": "code",
   "execution_count": 191,
   "id": "282ef10b-55b5-4f12-b3f5-9daaf684f44a",
   "metadata": {},
   "outputs": [
    {
     "name": "stdout",
     "output_type": "stream",
     "text": [
      "List from tuple: [1, 2, 3, 4, 5]\n"
     ]
    }
   ],
   "source": [
    "# 7. Convert a tuple to a list.\n",
    "list_from_tuple = list(tuple_1_to_5)\n",
    "print(\"List from tuple:\", list_from_tuple)\n"
   ]
  },
  {
   "cell_type": "code",
   "execution_count": 192,
   "id": "0fee9134-bcbb-493b-997f-bb49d26e57b7",
   "metadata": {},
   "outputs": [
    {
     "name": "stdout",
     "output_type": "stream",
     "text": [
      "Tuple from list: (1, 2, 3, 4, 5)\n"
     ]
    }
   ],
   "source": [
    "# 8. Convert a list to a tuple.\n",
    "tuple_from_list = tuple(list_from_tuple)\n",
    "print(\"Tuple from list:\", tuple_from_list)\n",
    "\n"
   ]
  },
  {
   "cell_type": "code",
   "execution_count": 193,
   "id": "663c1200-1b12-4fa0-bab2-42742c049480",
   "metadata": {},
   "outputs": [
    {
     "name": "stdout",
     "output_type": "stream",
     "text": [
      "Unpacked values: 1 2 3 4 5\n"
     ]
    }
   ],
   "source": [
    "# 9. Unpack the elements of a tuple into variables.\n",
    "a, b, c, d, e = tuple_1_to_5\n",
    "print(\"Unpacked values:\", a, b, c, d, e)\n"
   ]
  },
  {
   "cell_type": "code",
   "execution_count": 194,
   "id": "b7acb0c8-6b7c-4ada-a158-3f5ba2118e87",
   "metadata": {},
   "outputs": [
    {
     "name": "stdout",
     "output_type": "stream",
     "text": [
      "Even numbers tuple: (2, 4, 6, 8, 10)\n"
     ]
    }
   ],
   "source": [
    "# 10. Create a tuple of even numbers from 1 to 10.\n",
    "even_numbers_tuple = tuple(x for x in range(1, 11) if x % 2 == 0)\n",
    "print(\"Even numbers tuple:\", even_numbers_tuple)\n"
   ]
  },
  {
   "cell_type": "code",
   "execution_count": 195,
   "id": "b073c2c7-75bb-45d7-a285-10a02fdae0d2",
   "metadata": {},
   "outputs": [
    {
     "name": "stdout",
     "output_type": "stream",
     "text": [
      "Odd numbers tuple: (1, 3, 5, 7, 9)\n"
     ]
    }
   ],
   "source": [
    "# 11. Create a tuple of odd numbers from 1 to 10.\n",
    "odd_numbers_tuple = tuple(x for x in range(1, 11) if x % 2 != 0)\n",
    "print(\"Odd numbers tuple:\", odd_numbers_tuple)\n"
   ]
  },
  {
   "cell_type": "code",
   "execution_count": 196,
   "id": "77b51ba7-1d8c-4232-a801-28a54c1d3dcf",
   "metadata": {},
   "outputs": [
    {
     "name": "stdout",
     "output_type": "stream",
     "text": [
      "Concatenated tuple: (1, 2, 3, 4, 5, 2, 4, 6, 8, 10)\n"
     ]
    }
   ],
   "source": [
    "# 12. Concatenate two tuples.\n",
    "concatenated_tuple = tuple_1_to_5 + even_numbers_tuple\n",
    "print(\"Concatenated tuple:\", concatenated_tuple)\n"
   ]
  },
  {
   "cell_type": "code",
   "execution_count": 197,
   "id": "db377f1c-244e-40af-8bc5-2d78570841f1",
   "metadata": {},
   "outputs": [
    {
     "name": "stdout",
     "output_type": "stream",
     "text": [
      "Repeated tuple: (1, 2, 3, 4, 5, 1, 2, 3, 4, 5, 1, 2, 3, 4, 5)\n"
     ]
    }
   ],
   "source": [
    "# 13. Repeat a tuple three times.\n",
    "repeated_tuple = tuple_1_to_5 * 3\n",
    "print(\"Repeated tuple:\", repeated_tuple)\n"
   ]
  },
  {
   "cell_type": "code",
   "execution_count": 198,
   "id": "d46262d2-a9cd-4a5e-b5d0-df6df91d5307",
   "metadata": {},
   "outputs": [
    {
     "name": "stdout",
     "output_type": "stream",
     "text": [
      "Is the tuple empty? True\n"
     ]
    }
   ],
   "source": [
    "# 14. Check if a tuple is empty.\n",
    "empty_tuple = ()\n",
    "print(\"Is the tuple empty?\", not empty_tuple)"
   ]
  },
  {
   "cell_type": "code",
   "execution_count": 199,
   "id": "4dfb6370-eea1-4d17-a7ad-9e135264f762",
   "metadata": {},
   "outputs": [
    {
     "name": "stdout",
     "output_type": "stream",
     "text": [
      "Nested tuple: (1, (2, 3), (4, 5))\n"
     ]
    }
   ],
   "source": [
    "# 15. Create a nested tuple.\n",
    "nested_tuple = (1, (2, 3), (4, 5))\n",
    "print(\"Nested tuple:\", nested_tuple)\n"
   ]
  },
  {
   "cell_type": "code",
   "execution_count": 200,
   "id": "6ae38a3e-2297-4924-8570-f18c705c18f2",
   "metadata": {},
   "outputs": [
    {
     "name": "stdout",
     "output_type": "stream",
     "text": [
      "First element of nested tuple: 2\n"
     ]
    }
   ],
   "source": [
    "# 16. Access the first element of a nested tuple.\n",
    "first_nested_element = nested_tuple[1][0]\n",
    "print(\"First element of nested tuple:\", first_nested_element)\n"
   ]
  },
  {
   "cell_type": "code",
   "execution_count": 201,
   "id": "38575024-ed51-4dc9-a8d2-dd7a189614a5",
   "metadata": {},
   "outputs": [
    {
     "name": "stdout",
     "output_type": "stream",
     "text": [
      "Single element tuple: (42,)\n"
     ]
    }
   ],
   "source": [
    "# 17. Create a tuple with a single element.\n",
    "single_element_tuple = (42,)\n",
    "print(\"Single element tuple:\", single_element_tuple)\n"
   ]
  },
  {
   "cell_type": "code",
   "execution_count": 202,
   "id": "beb7a77c-063f-4872-aaff-45435f72b148",
   "metadata": {},
   "outputs": [
    {
     "name": "stdout",
     "output_type": "stream",
     "text": [
      "Is tuple_a less than tuple_b? True\n"
     ]
    }
   ],
   "source": [
    "# 18. Compare two tuples.\n",
    "tuple_a = (1, 2, 3)\n",
    "tuple_b = (1, 2, 4)\n",
    "comparison = tuple_a < tuple_b\n",
    "print(\"Is tuple_a less than tuple_b?\", comparison)\n",
    "\n"
   ]
  },
  {
   "cell_type": "code",
   "execution_count": 203,
   "id": "7fe4fd80-dd14-4d2e-9fd3-05a2d1271ec3",
   "metadata": {},
   "outputs": [
    {
     "name": "stdout",
     "output_type": "stream",
     "text": [
      "Deleted nested_tuple.\n"
     ]
    }
   ],
   "source": [
    "# 19. Delete a tuple.\n",
    "del nested_tuple\n",
    "print(\"Deleted nested_tuple.\")\n"
   ]
  },
  {
   "cell_type": "code",
   "execution_count": 204,
   "id": "0e533994-3378-49f0-a48f-691e9749b21f",
   "metadata": {},
   "outputs": [
    {
     "name": "stdout",
     "output_type": "stream",
     "text": [
      "Sliced tuple: (2, 3, 4)\n"
     ]
    }
   ],
   "source": [
    "# 20. Slice a tuple.\n",
    "sliced_tuple = tuple_1_to_5[1:4]\n",
    "print(\"Sliced tuple:\", sliced_tuple)\n"
   ]
  },
  {
   "cell_type": "code",
   "execution_count": 205,
   "id": "2261161d-5b7c-4dbe-87d0-6e2c81c90648",
   "metadata": {},
   "outputs": [
    {
     "name": "stdout",
     "output_type": "stream",
     "text": [
      "Maximum value in tuple: 5\n"
     ]
    }
   ],
   "source": [
    "# 21. Find the maximum value in a tuple.\n",
    "max_value = max(tuple_1_to_5)\n",
    "print(\"Maximum value in tuple:\", max_value)\n",
    "\n"
   ]
  },
  {
   "cell_type": "code",
   "execution_count": 206,
   "id": "878ce3f9-0301-46a0-852b-14cbf9ba5255",
   "metadata": {},
   "outputs": [
    {
     "name": "stdout",
     "output_type": "stream",
     "text": [
      "Minimum value in tuple: 1\n"
     ]
    }
   ],
   "source": [
    "# 22. Find the minimum value in a tuple.\n",
    "min_value = min(tuple_1_to_5)\n",
    "print(\"Minimum value in tuple:\", min_value)\n"
   ]
  },
  {
   "cell_type": "code",
   "execution_count": 207,
   "id": "1e1e2bc1-34d6-418f-b7c5-51174f1f50e6",
   "metadata": {},
   "outputs": [
    {
     "name": "stdout",
     "output_type": "stream",
     "text": [
      "Tuple from string: ('h', 'e', 'l', 'l', 'o')\n"
     ]
    }
   ],
   "source": [
    "# 23. Convert a string to a tuple of characters.\n",
    "string_tuple = tuple(\"hello\")\n",
    "print(\"Tuple from string:\", string_tuple)\n",
    "\n"
   ]
  },
  {
   "cell_type": "code",
   "execution_count": 208,
   "id": "9050672d-7f64-4778-af54-f2076403b87a",
   "metadata": {},
   "outputs": [
    {
     "name": "stdout",
     "output_type": "stream",
     "text": [
      "Reconstructed string: hello\n"
     ]
    }
   ],
   "source": [
    "# 24. Convert a tuple of characters to a string.\n",
    "reconstructed_string = \"\".join(string_tuple)\n",
    "print(\"Reconstructed string:\", reconstructed_string)\n"
   ]
  },
  {
   "cell_type": "code",
   "execution_count": 209,
   "id": "9822ad66-b40d-4012-9464-2944e3733902",
   "metadata": {},
   "outputs": [
    {
     "name": "stdout",
     "output_type": "stream",
     "text": [
      "Mixed data type tuple: (1, 'hello', 3.14, True)\n"
     ]
    }
   ],
   "source": [
    "# 25. Create a tuple from multiple data types.\n",
    "mixed_tuple = (1, \"hello\", 3.14, True)\n",
    "print(\"Mixed data type tuple:\", mixed_tuple)\n"
   ]
  },
  {
   "cell_type": "code",
   "execution_count": 210,
   "id": "f20d67b2-7561-4977-9789-8426e2db0822",
   "metadata": {},
   "outputs": [
    {
     "name": "stdout",
     "output_type": "stream",
     "text": [
      "Are the tuples identical? False\n"
     ]
    }
   ],
   "source": [
    "# 26. Check if two tuples are identical.\n",
    "identical_check = tuple_a == tuple_b\n",
    "print(\"Are the tuples identical?\", identical_check)\n"
   ]
  },
  {
   "cell_type": "code",
   "execution_count": 211,
   "id": "889f9d4a-3a73-4295-ba61-9f7b5f5cf297",
   "metadata": {},
   "outputs": [
    {
     "name": "stdout",
     "output_type": "stream",
     "text": [
      "Sorted tuple: (1, 2, 3, 4, 5)\n"
     ]
    }
   ],
   "source": [
    "# 27. Sort the elements of a tuple.\n",
    "sorted_tuple = tuple(sorted(tuple_1_to_5))\n",
    "print(\"Sorted tuple:\", sorted_tuple)"
   ]
  },
  {
   "cell_type": "code",
   "execution_count": 212,
   "id": "281aa743-7389-4857-8c28-635d3db4b8fe",
   "metadata": {},
   "outputs": [
    {
     "name": "stdout",
     "output_type": "stream",
     "text": [
      "Tuple of strings: ('1', '2', '3', '4', '5')\n"
     ]
    }
   ],
   "source": [
    "# 28. Convert a tuple of integers to a tuple of strings.\n",
    "string_tuple = tuple(map(str, tuple_1_to_5))\n",
    "print(\"Tuple of strings:\", string_tuple)\n"
   ]
  },
  {
   "cell_type": "code",
   "execution_count": 213,
   "id": "82090905-e847-4bc6-97fd-eb3bc13d0b74",
   "metadata": {},
   "outputs": [
    {
     "name": "stdout",
     "output_type": "stream",
     "text": [
      "Tuple of integers: (1, 2, 3, 4, 5)\n"
     ]
    }
   ],
   "source": [
    "# 29. Convert a tuple of strings to a tuple of integers.\n",
    "converted_tuple = tuple(map(int, string_tuple))\n",
    "print(\"Tuple of integers:\", converted_tuple)\n",
    "\n"
   ]
  },
  {
   "cell_type": "code",
   "execution_count": 214,
   "id": "ff242bd2-6fc2-4ea1-8824-795c31ba8c31",
   "metadata": {},
   "outputs": [
    {
     "name": "stdout",
     "output_type": "stream",
     "text": [
      "Merged tuple: (1, 2, 3, 1, 2, 4)\n"
     ]
    }
   ],
   "source": [
    "# 30. Merge two tuples.\n",
    "merged_tuple = tuple_a + tuple_b\n",
    "print(\"Merged tuple:\", merged_tuple)\n"
   ]
  },
  {
   "cell_type": "code",
   "execution_count": 215,
   "id": "3c9822b4-27e7-4f03-ab4f-45f3abd8147d",
   "metadata": {},
   "outputs": [
    {
     "name": "stdout",
     "output_type": "stream",
     "text": [
      "Flattened tuple: (1, 2, 3, 4, 5)\n"
     ]
    }
   ],
   "source": [
    "# 31. Flatten a nested tuple.\n",
    "nested_tuple = (1, (2, 3), (4, 5))\n",
    "flattened_tuple = tuple(x for subtuple in nested_tuple for x in (subtuple if isinstance(subtuple, tuple) else (subtuple,)))\n",
    "print(\"Flattened tuple:\", flattened_tuple)\n"
   ]
  },
  {
   "cell_type": "code",
   "execution_count": 216,
   "id": "35abe6e7-563d-4295-9100-9bc783343fd0",
   "metadata": {},
   "outputs": [
    {
     "name": "stdout",
     "output_type": "stream",
     "text": [
      "First 5 prime numbers tuple: (2, 3, 5, 7, 11)\n"
     ]
    }
   ],
   "source": [
    "# 32. Create a tuple of the first 5 prime numbers.\n",
    "primes = (2, 3, 5, 7, 11)\n",
    "print(\"First 5 prime numbers tuple:\", primes)\n"
   ]
  },
  {
   "cell_type": "code",
   "execution_count": 217,
   "id": "426c4e1c-c4f3-4e37-96d1-4505c38a2147",
   "metadata": {},
   "outputs": [
    {
     "name": "stdout",
     "output_type": "stream",
     "text": [
      "Is the tuple a palindrome? True\n"
     ]
    }
   ],
   "source": [
    "# 33. Check if a tuple is a palindrome.\n",
    "palindrome_tuple = (1, 2, 3, 2, 1)\n",
    "is_palindrome = palindrome_tuple == palindrome_tuple[::-1]\n",
    "print(\"Is the tuple a palindrome?\", is_palindrome)\n"
   ]
  },
  {
   "cell_type": "code",
   "execution_count": 218,
   "id": "c59841bd-0062-4454-8f2e-d5b40eb9eacd",
   "metadata": {},
   "outputs": [
    {
     "name": "stdout",
     "output_type": "stream",
     "text": [
      "Squares tuple: (1, 4, 9, 16, 25)\n"
     ]
    }
   ],
   "source": [
    "# 34. Create a tuple of squares of numbers from 1 to 5.\n",
    "squares_tuple = tuple(x ** 2 for x in range(1, 6))\n",
    "print(\"Squares tuple:\", squares_tuple)\n"
   ]
  },
  {
   "cell_type": "code",
   "execution_count": 219,
   "id": "9f146234-ebe2-4e15-af66-c677a27b71a0",
   "metadata": {},
   "outputs": [
    {
     "name": "stdout",
     "output_type": "stream",
     "text": [
      "Filtered odd numbers tuple: (1, 3, 5)\n"
     ]
    }
   ],
   "source": [
    "# 35. Filter out all even numbers from a tuple.\n",
    "even_filtered_tuple = tuple(x for x in tuple_1_to_5 if x % 2 != 0)\n",
    "print(\"Filtered odd numbers tuple:\", even_filtered_tuple)\n"
   ]
  },
  {
   "cell_type": "code",
   "execution_count": 220,
   "id": "b192436d-385c-4ee7-a8ff-258b4b54f252",
   "metadata": {},
   "outputs": [
    {
     "name": "stdout",
     "output_type": "stream",
     "text": [
      "Multiplied tuple: (2, 4, 6, 8, 10)\n"
     ]
    }
   ],
   "source": [
    "# 36. Multiply all elements in a tuple by 2.\n",
    "multiplied_tuple = tuple(x * 2 for x in tuple_1_to_5)\n",
    "print(\"Multiplied tuple:\", multiplied_tuple)\n"
   ]
  },
  {
   "cell_type": "code",
   "execution_count": 221,
   "id": "870b7529-7eda-478e-a347-87547c64715d",
   "metadata": {},
   "outputs": [
    {
     "name": "stdout",
     "output_type": "stream",
     "text": [
      "Random numbers tuple: (60, 3, 80, 6, 58)\n"
     ]
    }
   ],
   "source": [
    "# 37. Create a tuple of random numbers.\n",
    "import random\n",
    "random_tuple = tuple(random.randint(1, 100) for _ in range(5))\n",
    "print(\"Random numbers tuple:\", random_tuple)\n",
    "\n"
   ]
  },
  {
   "cell_type": "code",
   "execution_count": 222,
   "id": "af5daf25-f002-4e83-8c17-4abc5588ab54",
   "metadata": {},
   "outputs": [
    {
     "name": "stdout",
     "output_type": "stream",
     "text": [
      "Is the tuple sorted? True\n"
     ]
    }
   ],
   "source": [
    "# 38. Check if a tuple is sorted.\n",
    "is_sorted = all(tuple_1_to_5[i] <= tuple_1_to_5[i + 1] for i in range(len(tuple_1_to_5) - 1))\n",
    "print(\"Is the tuple sorted?\", is_sorted)\n"
   ]
  },
  {
   "cell_type": "code",
   "execution_count": 223,
   "id": "fa204b9e-9a60-4823-ac77-04ebbdd3a84a",
   "metadata": {},
   "outputs": [
    {
     "name": "stdout",
     "output_type": "stream",
     "text": [
      "Left rotated tuple: (3, 4, 5, 1, 2)\n"
     ]
    }
   ],
   "source": [
    "# 39. Rotate a tuple to the left by `n` positions.\n",
    "n = 2\n",
    "rotated_left_tuple = tuple_1_to_5[n:] + tuple_1_to_5[:n]\n",
    "print(\"Left rotated tuple:\", rotated_left_tuple)"
   ]
  },
  {
   "cell_type": "code",
   "execution_count": 224,
   "id": "2e57f396-fc9f-4a39-96a6-fb5e54f87e44",
   "metadata": {},
   "outputs": [
    {
     "name": "stdout",
     "output_type": "stream",
     "text": [
      "Right rotated tuple: (4, 5, 1, 2, 3)\n"
     ]
    }
   ],
   "source": [
    "# 40. Rotate a tuple to the right by `n` positions.\n",
    "rotated_right_tuple = tuple_1_to_5[-n:] + tuple_1_to_5[:-n]\n",
    "print(\"Right rotated tuple:\", rotated_right_tuple)\n",
    "\n"
   ]
  },
  {
   "cell_type": "code",
   "execution_count": 225,
   "id": "53d84f8a-5c40-4de0-ba10-d3a6a307bfa9",
   "metadata": {},
   "outputs": [
    {
     "name": "stdout",
     "output_type": "stream",
     "text": [
      "First 5 Fibonacci numbers tuple: (0, 1, 1, 2, 3)\n"
     ]
    }
   ],
   "source": [
    "# 41. Create a tuple of the first 5 Fibonacci numbers.\n",
    "fibonacci_tuple = (0, 1)\n",
    "while len(fibonacci_tuple) < 5:\n",
    "    fibonacci_tuple += (fibonacci_tuple[-1] + fibonacci_tuple[-2],)\n",
    "print(\"First 5 Fibonacci numbers tuple:\", fibonacci_tuple)\n"
   ]
  },
  {
   "cell_type": "code",
   "execution_count": 226,
   "id": "69ceafcd-e17c-417d-8fe8-d4336d8e3dff",
   "metadata": {},
   "outputs": [
    {
     "name": "stdin",
     "output_type": "stream",
     "text": [
      "Enter comma-separated values:  2,3,4,55\n"
     ]
    },
    {
     "name": "stdout",
     "output_type": "stream",
     "text": [
      "User input tuple: ('2', '3', '4', '55')\n"
     ]
    }
   ],
   "source": [
    "# 42. Create a tuple from user input.\n",
    "user_input_tuple = tuple(input(\"Enter comma-separated values: \").split(\",\"))\n",
    "print(\"User input tuple:\", user_input_tuple)\n"
   ]
  },
  {
   "cell_type": "code",
   "execution_count": 227,
   "id": "e6e615f9-6bbd-46cb-942d-be6a3e50343a",
   "metadata": {},
   "outputs": [
    {
     "name": "stdout",
     "output_type": "stream",
     "text": [
      "Tuple after swapping: (5, 2, 3, 4, 1)\n"
     ]
    }
   ],
   "source": [
    "# 43. Swap two elements in a tuple.\n",
    "swap_tuple = list(tuple_1_to_5)\n",
    "swap_tuple[0], swap_tuple[4] = swap_tuple[4], swap_tuple[0]\n",
    "swap_tuple = tuple(swap_tuple)\n",
    "print(\"Tuple after swapping:\", swap_tuple)\n"
   ]
  },
  {
   "cell_type": "code",
   "execution_count": 228,
   "id": "c257e482-b898-4c59-9897-a65b017b7206",
   "metadata": {},
   "outputs": [
    {
     "name": "stdout",
     "output_type": "stream",
     "text": [
      "Reversed tuple: (5, 4, 3, 2, 1)\n"
     ]
    }
   ],
   "source": [
    "# 44. Reverse the elements of a tuple.\n",
    "reversed_tuple = tuple_1_to_5[::-1]\n",
    "print(\"Reversed tuple:\", reversed_tuple)"
   ]
  },
  {
   "cell_type": "code",
   "execution_count": 229,
   "id": "ff3beed7-09b8-4491-9392-3b90ed5e6d03",
   "metadata": {},
   "outputs": [
    {
     "name": "stdout",
     "output_type": "stream",
     "text": [
      "Powers of 2 tuple: (1, 2, 4, 8, 16)\n"
     ]
    }
   ],
   "source": [
    "# 45. Create a tuple of the first `n` powers of 2.\n",
    "n = 5\n",
    "powers_of_2_tuple = tuple(2 ** x for x in range(n))\n",
    "print(\"Powers of 2 tuple:\", powers_of_2_tuple)\n"
   ]
  },
  {
   "cell_type": "code",
   "execution_count": 230,
   "id": "72f343ae-b204-4679-873c-a218aac7034a",
   "metadata": {},
   "outputs": [
    {
     "name": "stdout",
     "output_type": "stream",
     "text": [
      "Longest string in tuple: watermelon\n"
     ]
    }
   ],
   "source": [
    "# 46. Find the longest string in a tuple of strings.\n",
    "string_tuple = (\"apple\", \"banana\", \"watermelon\", \"cherry\")\n",
    "longest_string = max(string_tuple, key=len)\n",
    "print(\"Longest string in tuple:\", longest_string)\n"
   ]
  },
  {
   "cell_type": "code",
   "execution_count": 231,
   "id": "8672b1f3-1387-4fbc-b14b-d699c71b20b1",
   "metadata": {},
   "outputs": [
    {
     "name": "stdout",
     "output_type": "stream",
     "text": [
      "Shortest string in tuple: apple\n"
     ]
    }
   ],
   "source": [
    "# 47. Find the shortest string in a tuple of strings.\n",
    "shortest_string = min(string_tuple, key=len)\n",
    "print(\"Shortest string in tuple:\", shortest_string)\n"
   ]
  },
  {
   "cell_type": "code",
   "execution_count": 232,
   "id": "693b3e3e-943c-4482-a89f-bc63bb3fd475",
   "metadata": {},
   "outputs": [
    {
     "name": "stdout",
     "output_type": "stream",
     "text": [
      "Triangular numbers tuple: (1, 3, 6, 10, 15)\n"
     ]
    }
   ],
   "source": [
    "# 48. Create a tuple of the first `n` triangular numbers.\n",
    "n = 5\n",
    "triangular_numbers_tuple = tuple(sum(range(1, x + 1)) for x in range(1, n + 1))\n",
    "print(\"Triangular numbers tuple:\", triangular_numbers_tuple)\n"
   ]
  },
  {
   "cell_type": "code",
   "execution_count": 233,
   "id": "6404c69f-94a3-4361-acd1-29b6b805f9bd",
   "metadata": {},
   "outputs": [
    {
     "name": "stdout",
     "output_type": "stream",
     "text": [
      "Is sub_tuple a subsequence? True\n"
     ]
    }
   ],
   "source": [
    "# 49. Check if a tuple contains another tuple as a subsequence.\n",
    "main_tuple = (1, 2, 3, 4, 5)\n",
    "sub_tuple = (3, 4)\n",
    "is_subsequence = any(main_tuple[i:i + len(sub_tuple)] == sub_tuple for i in range(len(main_tuple) - len(sub_tuple) + 1))\n",
    "print(\"Is sub_tuple a subsequence?\", is_subsequence)\n",
    "\n"
   ]
  },
  {
   "cell_type": "code",
   "execution_count": 234,
   "id": "2053aafb-0e40-43ea-9a70-f65b73472859",
   "metadata": {},
   "outputs": [
    {
     "name": "stdout",
     "output_type": "stream",
     "text": [
      "Alternating 1s and 0s tuple: (1, 0, 1, 0, 1, 0, 1, 0, 1, 0)\n"
     ]
    }
   ],
   "source": [
    "# 50. Create a tuple of alternating 1s and 0s of length `n`.\n",
    "n = 10\n",
    "alternating_tuple = tuple(1 if x % 2 == 0 else 0 for x in range(n))\n",
    "print(\"Alternating 1s and 0s tuple:\", alternating_tuple)\n"
   ]
  },
  {
   "cell_type": "code",
   "execution_count": 235,
   "id": "8ac55d9c-ce8c-4138-8b44-f0e58a0827c8",
   "metadata": {},
   "outputs": [],
   "source": [
    "# Set Based Practice Problems with Solutions in Python\n"
   ]
  },
  {
   "cell_type": "code",
   "execution_count": 236,
   "id": "0b939615-3fc3-4c54-b43b-a3d9fdf43f58",
   "metadata": {},
   "outputs": [
    {
     "name": "stdout",
     "output_type": "stream",
     "text": [
      "Set from 1 to 5: {1, 2, 3, 4, 5}\n"
     ]
    }
   ],
   "source": [
    "\n",
    "# 1. Create a set with integers from 1 to 5.\n",
    "set_1_to_5 = set(range(1, 6))\n",
    "print(\"Set from 1 to 5:\", set_1_to_5)"
   ]
  },
  {
   "cell_type": "code",
   "execution_count": 237,
   "id": "24df90ac-3171-4e89-8990-44c3e57d7d8a",
   "metadata": {},
   "outputs": [
    {
     "name": "stdout",
     "output_type": "stream",
     "text": [
      "After adding 6: {1, 2, 3, 4, 5, 6}\n"
     ]
    }
   ],
   "source": [
    "# 2. Add an element to a set.\n",
    "set_1_to_5.add(6)\n",
    "print(\"After adding 6:\", set_1_to_5)\n"
   ]
  },
  {
   "cell_type": "code",
   "execution_count": 238,
   "id": "5e9e0057-8afa-43d2-b71e-3afcbf1bb5aa",
   "metadata": {},
   "outputs": [
    {
     "name": "stdout",
     "output_type": "stream",
     "text": [
      "After removing 6: {1, 2, 3, 4, 5}\n"
     ]
    }
   ],
   "source": [
    "# 3. Remove an element from a set.\n",
    "set_1_to_5.remove(6)  # Throws an error if the element does not exist.\n",
    "print(\"After removing 6:\", set_1_to_5)\n"
   ]
  },
  {
   "cell_type": "code",
   "execution_count": 239,
   "id": "3fde5d27-3829-43f5-818c-528ecc8ba051",
   "metadata": {},
   "outputs": [
    {
     "name": "stdout",
     "output_type": "stream",
     "text": [
      "Does 3 exist in the set? True\n"
     ]
    }
   ],
   "source": [
    "# 4. Check if an element exists in a set.\n",
    "exists = 3 in set_1_to_5\n",
    "print(\"Does 3 exist in the set?\", exists)"
   ]
  },
  {
   "cell_type": "code",
   "execution_count": 240,
   "id": "8f65d223-ef98-4142-8042-bdbcdafaa46d",
   "metadata": {},
   "outputs": [
    {
     "name": "stdout",
     "output_type": "stream",
     "text": [
      "Length of set: 5\n"
     ]
    }
   ],
   "source": [
    "# 5. Find the length of a set without using the `len()` function.\n",
    "count = sum(1 for _ in set_1_to_5)\n",
    "print(\"Length of set:\", count)\n"
   ]
  },
  {
   "cell_type": "code",
   "execution_count": 241,
   "id": "ad545c03-c0df-41cd-b882-1547f03e3217",
   "metadata": {},
   "outputs": [
    {
     "name": "stdout",
     "output_type": "stream",
     "text": [
      "Set after clearing: set()\n"
     ]
    }
   ],
   "source": [
    "# 6. Clear all elements from a set.\n",
    "set_1_to_5.clear()\n",
    "print(\"Set after clearing:\", set_1_to_5)\n",
    "\n"
   ]
  },
  {
   "cell_type": "code",
   "execution_count": 242,
   "id": "032b8384-086e-42a1-9c01-74143be9d407",
   "metadata": {},
   "outputs": [
    {
     "name": "stdout",
     "output_type": "stream",
     "text": [
      "Set of even numbers from 1 to 10: {2, 4, 6, 8, 10}\n"
     ]
    }
   ],
   "source": [
    "# 7. Create a set of even numbers from 1 to 10.\n",
    "even_set = {x for x in range(1, 11) if x % 2 == 0}\n",
    "print(\"Set of even numbers from 1 to 10:\", even_set)\n"
   ]
  },
  {
   "cell_type": "code",
   "execution_count": 243,
   "id": "417d8773-f12e-4bc1-9a62-f9c540889d8f",
   "metadata": {},
   "outputs": [
    {
     "name": "stdout",
     "output_type": "stream",
     "text": [
      "Set of odd numbers from 1 to 10: {1, 3, 5, 7, 9}\n"
     ]
    }
   ],
   "source": [
    "# 8. Create a set of odd numbers from 1 to 10.\n",
    "odd_set = {x for x in range(1, 11) if x % 2 != 0}\n",
    "print(\"Set of odd numbers from 1 to 10:\", odd_set)\n"
   ]
  },
  {
   "cell_type": "code",
   "execution_count": 244,
   "id": "bdf3fff6-412c-42f4-9180-973a9a70256e",
   "metadata": {},
   "outputs": [
    {
     "name": "stdout",
     "output_type": "stream",
     "text": [
      "Union of even and odd sets: {1, 2, 3, 4, 5, 6, 7, 8, 9, 10}\n"
     ]
    }
   ],
   "source": [
    "# 9. Find the union of two sets.\n",
    "union_set = even_set | odd_set\n",
    "print(\"Union of even and odd sets:\", union_set)\n"
   ]
  },
  {
   "cell_type": "code",
   "execution_count": 245,
   "id": "d9fe5bb1-5a3c-48f2-89df-3dd26900bf75",
   "metadata": {},
   "outputs": [
    {
     "name": "stdout",
     "output_type": "stream",
     "text": [
      "Intersection of even and odd sets: set()\n"
     ]
    }
   ],
   "source": [
    "# 10. Find the intersection of two sets.\n",
    "intersection_set = even_set & odd_set\n",
    "print(\"Intersection of even and odd sets:\", intersection_set)"
   ]
  },
  {
   "cell_type": "code",
   "execution_count": 246,
   "id": "807c8140-5ead-474c-8617-c3e80f51ad05",
   "metadata": {},
   "outputs": [
    {
     "name": "stdout",
     "output_type": "stream",
     "text": [
      "Difference between even and odd sets: {2, 4, 6, 8, 10}\n"
     ]
    }
   ],
   "source": [
    "# 11. Find the difference between two sets.\n",
    "difference_set = even_set - odd_set\n",
    "print(\"Difference between even and odd sets:\", difference_set)\n"
   ]
  },
  {
   "cell_type": "code",
   "execution_count": 247,
   "id": "3996f12a-61c4-4442-bdc9-5218ad9df139",
   "metadata": {},
   "outputs": [
    {
     "name": "stdout",
     "output_type": "stream",
     "text": [
      "Is odd_set a subset of union_set? True\n"
     ]
    }
   ],
   "source": [
    "# 12. Check if a set is a subset of another set.\n",
    "print(\"Is odd_set a subset of union_set?\", odd_set.issubset(union_set))\n",
    "\n"
   ]
  },
  {
   "cell_type": "code",
   "execution_count": 248,
   "id": "94b2d9f5-0bd0-4b22-b74e-9da18e03d8aa",
   "metadata": {},
   "outputs": [
    {
     "name": "stdout",
     "output_type": "stream",
     "text": [
      "Is union_set a superset of odd_set? True\n"
     ]
    }
   ],
   "source": [
    "# 13. Check if a set is a superset of another set.\n",
    "print(\"Is union_set a superset of odd_set?\", union_set.issuperset(odd_set))\n"
   ]
  },
  {
   "cell_type": "code",
   "execution_count": 249,
   "id": "0d76d0b5-673b-4c53-a62b-4acd9e036d8d",
   "metadata": {},
   "outputs": [
    {
     "name": "stdout",
     "output_type": "stream",
     "text": [
      "Set created from list: {1, 2, 3, 4, 5}\n"
     ]
    }
   ],
   "source": [
    "# 14. Create a set from a list.\n",
    "list_to_set = set([1, 2, 3, 4, 5])\n",
    "print(\"Set created from list:\", list_to_set)\n"
   ]
  },
  {
   "cell_type": "code",
   "execution_count": 250,
   "id": "978f7f45-99ac-4fe5-a6cc-37f750a3df1f",
   "metadata": {},
   "outputs": [
    {
     "name": "stdout",
     "output_type": "stream",
     "text": [
      "List created from set: [1, 2, 3, 4, 5]\n"
     ]
    }
   ],
   "source": [
    "# 15. Convert a set to a list.\n",
    "set_to_list = list(list_to_set)\n",
    "print(\"List created from set:\", set_to_list)\n"
   ]
  },
  {
   "cell_type": "code",
   "execution_count": 251,
   "id": "13e4aa49-8a1a-4ca7-b56e-35db25f8e9d8",
   "metadata": {},
   "outputs": [
    {
     "name": "stdout",
     "output_type": "stream",
     "text": [
      "Removed element: 1 Remaining set: {2, 3, 4, 5}\n"
     ]
    }
   ],
   "source": [
    "# 16. Remove a random element from a set.\n",
    "removed_element = list_to_set.pop() if list_to_set else None\n",
    "print(\"Removed element:\", removed_element, \"Remaining set:\", list_to_set)\n"
   ]
  },
  {
   "cell_type": "code",
   "execution_count": 252,
   "id": "8054e163-ead3-4211-aded-b21959f697f6",
   "metadata": {},
   "outputs": [
    {
     "name": "stdout",
     "output_type": "stream",
     "text": [
      "Popped element: 2 Remaining set: {4, 6, 8, 10}\n"
     ]
    }
   ],
   "source": [
    "# 17. Pop an element from a set.\n",
    "popped_element = even_set.pop() if even_set else None\n",
    "print(\"Popped element:\", popped_element, \"Remaining set:\", even_set)\n",
    "\n"
   ]
  },
  {
   "cell_type": "code",
   "execution_count": 253,
   "id": "57c2ecdd-4649-4483-826a-b146ee0621c8",
   "metadata": {},
   "outputs": [
    {
     "name": "stdout",
     "output_type": "stream",
     "text": [
      "Do even_set and odd_set have no elements in common? True\n"
     ]
    }
   ],
   "source": [
    "# 18. Check if two sets have no elements in common.\n",
    "print(\"Do even_set and odd_set have no elements in common?\", even_set.isdisjoint(odd_set))\n"
   ]
  },
  {
   "cell_type": "code",
   "execution_count": 254,
   "id": "0056f351-44ce-4af8-b4ef-d66fab5feb32",
   "metadata": {},
   "outputs": [
    {
     "name": "stdout",
     "output_type": "stream",
     "text": [
      "Symmetric difference between sets: {1, 3, 4, 5, 6, 7, 8, 9, 10}\n"
     ]
    }
   ],
   "source": [
    "# 19. Find the symmetric difference between two sets.\n",
    "symmetric_difference = odd_set ^ even_set\n",
    "print(\"Symmetric difference between sets:\", symmetric_difference)\n"
   ]
  },
  {
   "cell_type": "code",
   "execution_count": 255,
   "id": "e2581d0c-af3f-4158-a614-076614aaa3da",
   "metadata": {},
   "outputs": [
    {
     "name": "stdout",
     "output_type": "stream",
     "text": [
      "Updated odd_set: {1, 3, 5, 7, 9, 11, 13}\n"
     ]
    }
   ],
   "source": [
    "# 20. Update a set with elements from another set.\n",
    "odd_set.update([11, 13])\n",
    "print(\"Updated odd_set:\", odd_set)\n"
   ]
  },
  {
   "cell_type": "code",
   "execution_count": 256,
   "id": "7093640f-64e8-4471-9d63-e22bd25936c3",
   "metadata": {},
   "outputs": [
    {
     "name": "stdout",
     "output_type": "stream",
     "text": [
      "First 5 prime numbers: {2, 3, 5, 7, 11}\n"
     ]
    }
   ],
   "source": [
    "# 21. Create a set of the first 5 prime numbers.\n",
    "prime_set = {2, 3, 5, 7, 11}\n",
    "print(\"First 5 prime numbers:\", prime_set)"
   ]
  },
  {
   "cell_type": "code",
   "execution_count": 257,
   "id": "67d07b7f-0845-47e7-b97b-e853b3d339b6",
   "metadata": {},
   "outputs": [
    {
     "name": "stdout",
     "output_type": "stream",
     "text": [
      "Are prime_set and odd_set identical? False\n"
     ]
    }
   ],
   "source": [
    "# 22. Check if two sets are identical.\n",
    "print(\"Are prime_set and odd_set identical?\", prime_set == odd_set)\n"
   ]
  },
  {
   "cell_type": "code",
   "execution_count": 258,
   "id": "7da4d454-5b2d-4bd8-9527-76f5217e3940",
   "metadata": {},
   "outputs": [
    {
     "name": "stdout",
     "output_type": "stream",
     "text": [
      "Frozen set example: frozenset({1, 2, 3})\n"
     ]
    }
   ],
   "source": [
    "# 23. Create a frozen set.\n",
    "frozen_set_example = frozenset([1, 2, 3])\n",
    "print(\"Frozen set example:\", frozen_set_example)\n"
   ]
  },
  {
   "cell_type": "code",
   "execution_count": 259,
   "id": "fc142284-e013-4d7c-81d8-10ff16b46c68",
   "metadata": {},
   "outputs": [
    {
     "name": "stdout",
     "output_type": "stream",
     "text": [
      "Is prime_set disjoint with even_set? True\n"
     ]
    }
   ],
   "source": [
    "# 24. Check if a set is disjoint with another set.\n",
    "print(\"Is prime_set disjoint with even_set?\", prime_set.isdisjoint(even_set))\n"
   ]
  },
  {
   "cell_type": "code",
   "execution_count": 260,
   "id": "3a608e9f-5561-46a6-84f3-bd9c716d8e11",
   "metadata": {},
   "outputs": [
    {
     "name": "stdout",
     "output_type": "stream",
     "text": [
      "Squares set from 1 to 5: {1, 4, 9, 16, 25}\n"
     ]
    }
   ],
   "source": [
    "# 25. Create a set of squares of numbers from 1 to 5.\n",
    "squares_set = {x ** 2 for x in range(1, 6)}\n",
    "print(\"Squares set from 1 to 5:\", squares_set)\n"
   ]
  },
  {
   "cell_type": "code",
   "execution_count": 261,
   "id": "b4d0d0b2-52f1-4048-b133-4448c4ef5ccb",
   "metadata": {},
   "outputs": [
    {
     "name": "stdout",
     "output_type": "stream",
     "text": [
      "Filtered odd numbers from prime_set: {11, 3, 5, 7}\n"
     ]
    }
   ],
   "source": [
    "# 26. Filter out all even numbers from a set.\n",
    "filtered_odd_set = {x for x in prime_set if x % 2 != 0}\n",
    "print(\"Filtered odd numbers from prime_set:\", filtered_odd_set)\n"
   ]
  },
  {
   "cell_type": "code",
   "execution_count": 262,
   "id": "c816a09b-3257-4ad8-a77f-8c42a3908c46",
   "metadata": {},
   "outputs": [
    {
     "name": "stdout",
     "output_type": "stream",
     "text": [
      "Multiplied set: {4, 6, 10, 14, 22}\n"
     ]
    }
   ],
   "source": [
    "# 27. Multiply all elements in a set by 2.\n",
    "multiplied_set = {x * 2 for x in prime_set}\n",
    "print(\"Multiplied set:\", multiplied_set)"
   ]
  },
  {
   "cell_type": "code",
   "execution_count": 263,
   "id": "e6bff6b4-69f8-4753-9c6a-726bbe56617e",
   "metadata": {},
   "outputs": [
    {
     "name": "stdout",
     "output_type": "stream",
     "text": [
      "Random set: {64, 10, 61, 84, 29}\n"
     ]
    }
   ],
   "source": [
    "# 28. Create a set of random numbers.\n",
    "import random\n",
    "random_set = {random.randint(1, 100) for _ in range(5)}\n",
    "print(\"Random set:\", random_set)\n"
   ]
  },
  {
   "cell_type": "code",
   "execution_count": 264,
   "id": "fc0b30ce-e622-4f1b-906e-c9e357a256ad",
   "metadata": {},
   "outputs": [
    {
     "name": "stdout",
     "output_type": "stream",
     "text": [
      "Is set_1_to_5 empty? True\n"
     ]
    }
   ],
   "source": [
    "# 29. Check if a set is empty.\n",
    "empty_check = not set_1_to_5\n",
    "print(\"Is set_1_to_5 empty?\", empty_check)\n"
   ]
  },
  {
   "cell_type": "code",
   "execution_count": 265,
   "id": "3151c93f-0bb7-4b36-a107-d99e380ecc31",
   "metadata": {},
   "outputs": [
    {
     "name": "stdout",
     "output_type": "stream",
     "text": [
      "Nested set with frozensets: {frozenset({3, 4}), frozenset({1, 2})}\n"
     ]
    }
   ],
   "source": [
    "# 30. Create a nested set (hint: use frozenset).\n",
    "nested_set = {frozenset([1, 2]), frozenset([3, 4])}\n",
    "print(\"Nested set with frozensets:\", nested_set)\n",
    "\n"
   ]
  },
  {
   "cell_type": "code",
   "execution_count": 266,
   "id": "80528b94-8402-4a3e-baa2-0e04a823373b",
   "metadata": {},
   "outputs": [
    {
     "name": "stdout",
     "output_type": "stream",
     "text": [
      "After discarding 7: {2, 3, 5, 11}\n"
     ]
    }
   ],
   "source": [
    "# 31. Remove an element from a set using the discard method.\n",
    "prime_set.discard(7)\n",
    "print(\"After discarding 7:\", prime_set)\n"
   ]
  },
  {
   "cell_type": "code",
   "execution_count": 267,
   "id": "0dd464ea-1afe-419f-9ee3-7dde8217964a",
   "metadata": {},
   "outputs": [
    {
     "name": "stdout",
     "output_type": "stream",
     "text": [
      "Are prime_set and odd_set equal? False\n"
     ]
    }
   ],
   "source": [
    "# 32. Compare two sets.\n",
    "comparison_result = prime_set == odd_set\n",
    "print(\"Are prime_set and odd_set equal?\", comparison_result)\n"
   ]
  },
  {
   "cell_type": "code",
   "execution_count": 268,
   "id": "8bb3c7e3-9aa6-4ec9-88eb-f97587ea2a5b",
   "metadata": {},
   "outputs": [
    {
     "name": "stdout",
     "output_type": "stream",
     "text": [
      "Set from string 'hello': {'l', 'o', 'e', 'h'}\n"
     ]
    }
   ],
   "source": [
    "# 33. Create a set from a string.\n",
    "set_from_string = set(\"hello\")\n",
    "print(\"Set from string 'hello':\", set_from_string)\n"
   ]
  },
  {
   "cell_type": "code",
   "execution_count": 269,
   "id": "561ec507-9ee1-4d3d-bb34-ed25dea4e47c",
   "metadata": {},
   "outputs": [
    {
     "name": "stdout",
     "output_type": "stream",
     "text": [
      "Converted to integers: {1, 2, 3}\n"
     ]
    }
   ],
   "source": [
    "# 34. Convert a set of strings to a set of integers.\n",
    "string_set = {\"1\", \"2\", \"3\"}\n",
    "integer_set = {int(x) for x in string_set}\n",
    "print(\"Converted to integers:\", integer_set)\n"
   ]
  },
  {
   "cell_type": "code",
   "execution_count": 270,
   "id": "af3c0d22-5336-4314-97a3-aa207e89efcf",
   "metadata": {},
   "outputs": [
    {
     "name": "stdout",
     "output_type": "stream",
     "text": [
      "Converted to strings: {'1', '3', '2'}\n"
     ]
    }
   ],
   "source": [
    "# 35. Convert a set of integers to a set of strings.\n",
    "string_converted_set = {str(x) for x in integer_set}\n",
    "print(\"Converted to strings:\", string_converted_set)\n"
   ]
  },
  {
   "cell_type": "code",
   "execution_count": 271,
   "id": "f2fb38e6-6add-4af9-8f47-e5d03927e3aa",
   "metadata": {},
   "outputs": [
    {
     "name": "stdout",
     "output_type": "stream",
     "text": [
      "Set from tuple: {1, 2, 3}\n"
     ]
    }
   ],
   "source": [
    "# 36. Create a set from a tuple.\n",
    "set_from_tuple = set((1, 2, 3))\n",
    "print(\"Set from tuple:\", set_from_tuple)\n"
   ]
  },
  {
   "cell_type": "code",
   "execution_count": 272,
   "id": "034a6ea5-336a-45df-a33e-bdf00e36ab86",
   "metadata": {},
   "outputs": [
    {
     "name": "stdout",
     "output_type": "stream",
     "text": [
      "Tuple from set: (1, 2, 3)\n"
     ]
    }
   ],
   "source": [
    "# 37. Convert a set to a tuple.\n",
    "tuple_from_set = tuple(set_from_tuple)\n",
    "print(\"Tuple from set:\", tuple_from_set)"
   ]
  },
  {
   "cell_type": "code",
   "execution_count": 273,
   "id": "14809c40-aead-4199-8e96-4d2fb49c6e92",
   "metadata": {},
   "outputs": [
    {
     "name": "stdout",
     "output_type": "stream",
     "text": [
      "Maximum value in set: 3\n"
     ]
    }
   ],
   "source": [
    "# 38. Find the maximum value in a set.\n",
    "max_value = max(set_from_tuple)\n",
    "print(\"Maximum value in set:\", max_value)\n"
   ]
  },
  {
   "cell_type": "code",
   "execution_count": 274,
   "id": "cba13ec6-ff40-45ff-840f-a80f102c222e",
   "metadata": {},
   "outputs": [
    {
     "name": "stdout",
     "output_type": "stream",
     "text": [
      "Minimum value in set: 1\n"
     ]
    }
   ],
   "source": [
    "# 39. Find the minimum value in a set.\n",
    "min_value = min(set_from_tuple)\n",
    "print(\"Minimum value in set:\", min_value)\n"
   ]
  },
  {
   "cell_type": "code",
   "execution_count": 276,
   "id": "a7b93a99-8fd5-4132-8546-0c523ec69d66",
   "metadata": {},
   "outputs": [
    {
     "name": "stdin",
     "output_type": "stream",
     "text": [
      "Enter numbers separated by spaces:  2 3 4 5\n"
     ]
    },
    {
     "name": "stdout",
     "output_type": "stream",
     "text": [
      "Set from user input: {2, 3, 4, 5}\n"
     ]
    }
   ],
   "source": [
    "# 40. Create a set from user input.\n",
    "user_input_set = set(map(int, input(\"Enter numbers separated by spaces: \").split()))\n",
    "print(\"Set from user input:\", user_input_set)\n"
   ]
  },
  {
   "cell_type": "code",
   "execution_count": 277,
   "id": "427cc7d3-449a-40aa-beed-33859e953965",
   "metadata": {},
   "outputs": [
    {
     "name": "stdout",
     "output_type": "stream",
     "text": [
      "Is intersection empty? True\n"
     ]
    }
   ],
   "source": [
    "# 41. Check if the intersection of two sets is empty.\n",
    "intersection_empty = not (prime_set & even_set)\n",
    "print(\"Is intersection empty?\", intersection_empty)\n"
   ]
  },
  {
   "cell_type": "code",
   "execution_count": 278,
   "id": "4e019c1e-97c6-4f6c-b93c-c91309776c87",
   "metadata": {},
   "outputs": [
    {
     "name": "stdout",
     "output_type": "stream",
     "text": [
      "First 5 Fibonacci numbers: {0, 1, 2, 3}\n"
     ]
    }
   ],
   "source": [
    "# 42. Create a set of the first 5 Fibonacci numbers.\n",
    "fib_set = {0, 1}\n",
    "a, b = 0, 1\n",
    "for _ in range(3):\n",
    "    a, b = b, a + b\n",
    "    fib_set.add(b)\n",
    "print(\"First 5 Fibonacci numbers:\", fib_set)\n"
   ]
  },
  {
   "cell_type": "code",
   "execution_count": 279,
   "id": "4193596c-0f9c-426b-83b4-759ff9e950c4",
   "metadata": {},
   "outputs": [
    {
     "name": "stdout",
     "output_type": "stream",
     "text": [
      "Unique list: [1, 2, 3, 4, 5]\n"
     ]
    }
   ],
   "source": [
    "# 43. Remove duplicates from a list using sets.\n",
    "list_with_duplicates = [1, 2, 2, 3, 4, 4, 5]\n",
    "unique_list = list(set(list_with_duplicates))\n",
    "print(\"Unique list:\", unique_list)\n",
    "\n"
   ]
  },
  {
   "cell_type": "code",
   "execution_count": 280,
   "id": "5c03e39a-a687-42ea-80cb-7c81fab64f73",
   "metadata": {},
   "outputs": [
    {
     "name": "stdout",
     "output_type": "stream",
     "text": [
      "Do set_a and set_b have the same elements? True\n"
     ]
    }
   ],
   "source": [
    "# 44. Check if two sets have the same elements, regardless of their count.\n",
    "set_a = {1, 2, 3}\n",
    "set_b = {3, 2, 1}\n",
    "print(\"Do set_a and set_b have the same elements?\", set_a == set_b)\n"
   ]
  },
  {
   "cell_type": "code",
   "execution_count": 281,
   "id": "8c88e4c2-5fc3-40fc-9bc7-41b5b41e88a9",
   "metadata": {},
   "outputs": [
    {
     "name": "stdout",
     "output_type": "stream",
     "text": [
      "First 5 powers of 2: {1, 2, 4, 8, 16}\n"
     ]
    }
   ],
   "source": [
    "# 45. Create a set of the first `n` powers of 2.\n",
    "n = 5\n",
    "powers_of_2_set = {2 ** x for x in range(n)}\n",
    "print(\"First 5 powers of 2:\", powers_of_2_set)\n"
   ]
  },
  {
   "cell_type": "code",
   "execution_count": 282,
   "id": "df19e624-b9e9-4c59-be61-a93c1555a4b2",
   "metadata": {},
   "outputs": [
    {
     "name": "stdout",
     "output_type": "stream",
     "text": [
      "Common elements between set_a and list: {2, 3}\n"
     ]
    }
   ],
   "source": [
    "# 46. Find the common elements between a set and a list.\n",
    "common_elements = set_a.intersection([2, 3, 4])\n",
    "print(\"Common elements between set_a and list:\", common_elements)\n"
   ]
  },
  {
   "cell_type": "code",
   "execution_count": 283,
   "id": "aa89d97f-b884-4b4c-9306-c7c1f2fce9d4",
   "metadata": {},
   "outputs": [
    {
     "name": "stdout",
     "output_type": "stream",
     "text": [
      "First 5 triangular numbers: {1, 3, 6, 10, 15}\n"
     ]
    }
   ],
   "source": [
    "# 47. Create a set of the first `n` triangular numbers.\n",
    "n = 5\n",
    "triangular_set = {x * (x + 1) // 2 for x in range(1, n + 1)}\n",
    "print(\"First 5 triangular numbers:\", triangular_set)\n",
    "\n"
   ]
  },
  {
   "cell_type": "code",
   "execution_count": 284,
   "id": "b4e57bff-1821-4e8f-aea0-b294a7322930",
   "metadata": {},
   "outputs": [
    {
     "name": "stdout",
     "output_type": "stream",
     "text": [
      "Is set_b a subset of set_a? True\n"
     ]
    }
   ],
   "source": [
    "# 48. Check if a set contains another set as a subset.\n",
    "print(\"Is set_b a subset of set_a?\", set_b.issubset(set_a))\n"
   ]
  },
  {
   "cell_type": "code",
   "execution_count": 285,
   "id": "da0e0e73-0297-40cc-9399-ba4f9652108b",
   "metadata": {},
   "outputs": [
    {
     "name": "stdout",
     "output_type": "stream",
     "text": [
      "Set of alternating 1s and 0s: {0, 1}\n"
     ]
    }
   ],
   "source": [
    "# 49. Create a set of alternating 1s and 0s of length `n`.\n",
    "n = 6\n",
    "alternating_set = {i % 2 for i in range(n)}\n",
    "print(\"Set of alternating 1s and 0s:\", alternating_set)\n"
   ]
  },
  {
   "cell_type": "code",
   "execution_count": 286,
   "id": "c839d5c6-565a-4a53-b99b-90cc83568ac5",
   "metadata": {},
   "outputs": [
    {
     "name": "stdout",
     "output_type": "stream",
     "text": [
      "Merged sets: {1, 2, 3, 4, 5, 6}\n"
     ]
    }
   ],
   "source": [
    "# 50. Merge multiple sets into one.\n",
    "merged_sets = set_a.union(set_b, {4, 5, 6})\n",
    "print(\"Merged sets:\", merged_sets)\n"
   ]
  }
 ],
 "metadata": {
  "kernelspec": {
   "display_name": "Python 3 (ipykernel)",
   "language": "python",
   "name": "python3"
  },
  "language_info": {
   "codemirror_mode": {
    "name": "ipython",
    "version": 3
   },
   "file_extension": ".py",
   "mimetype": "text/x-python",
   "name": "python",
   "nbconvert_exporter": "python",
   "pygments_lexer": "ipython3",
   "version": "3.11.7"
  }
 },
 "nbformat": 4,
 "nbformat_minor": 5
}
