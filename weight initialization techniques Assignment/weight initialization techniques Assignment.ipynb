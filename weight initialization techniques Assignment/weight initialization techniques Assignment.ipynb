{
 "cells": [
  {
   "cell_type": "code",
   "execution_count": 5,
   "id": "9da7b8eb-3392-4343-b492-b0c60ddd6c7f",
   "metadata": {},
   "outputs": [],
   "source": [
    "# Implement He initialization in Python using TensorFlow or PyTorch.\n",
    "# Answer: He initialization sets weights by drawing random values from a distribution scaled by the square root of 2 divided by the number of input units.\n",
    "# Example in PyTorch:"
   ]
  },
  {
   "cell_type": "code",
   "execution_count": 6,
   "id": "705379f5-76b0-4224-a4db-9abcfede7e11",
   "metadata": {},
   "outputs": [
    {
     "name": "stdout",
     "output_type": "stream",
     "text": [
      "Defaulting to user installation because normal site-packages is not writeable\n",
      "Requirement already satisfied: torch in c:\\users\\nagavardhan\\appdata\\roaming\\python\\python311\\site-packages (2.6.0)\n",
      "Requirement already satisfied: filelock in c:\\programdata\\anaconda3\\lib\\site-packages (from torch) (3.13.1)\n",
      "Requirement already satisfied: typing-extensions>=4.10.0 in c:\\users\\nagavardhan\\appdata\\roaming\\python\\python311\\site-packages (from torch) (4.12.2)\n",
      "Requirement already satisfied: networkx in c:\\programdata\\anaconda3\\lib\\site-packages (from torch) (3.1)\n",
      "Requirement already satisfied: jinja2 in c:\\programdata\\anaconda3\\lib\\site-packages (from torch) (3.1.3)\n",
      "Requirement already satisfied: fsspec in c:\\programdata\\anaconda3\\lib\\site-packages (from torch) (2023.10.0)\n",
      "Requirement already satisfied: sympy==1.13.1 in c:\\users\\nagavardhan\\appdata\\roaming\\python\\python311\\site-packages (from torch) (1.13.1)\n",
      "Requirement already satisfied: mpmath<1.4,>=1.1.0 in c:\\programdata\\anaconda3\\lib\\site-packages (from sympy==1.13.1->torch) (1.3.0)\n",
      "Requirement already satisfied: MarkupSafe>=2.0 in c:\\programdata\\anaconda3\\lib\\site-packages (from jinja2->torch) (2.1.3)\n",
      "Note: you may need to restart the kernel to use updated packages.\n"
     ]
    }
   ],
   "source": [
    "pip install torch\n"
   ]
  },
  {
   "cell_type": "code",
   "execution_count": 7,
   "id": "3920aa43-493c-4a84-b098-76402f9f7437",
   "metadata": {},
   "outputs": [
    {
     "data": {
      "text/plain": [
       "Parameter containing:\n",
       "tensor([[-0.3954, -0.0716, -0.2098,  ..., -0.1734, -0.2067,  0.2366],\n",
       "        [-0.0706, -0.4934, -0.0866,  ..., -0.1575,  0.0072, -0.3088],\n",
       "        [-0.1074, -0.0017,  0.0297,  ..., -0.0738,  0.2206, -0.0344],\n",
       "        ...,\n",
       "        [ 0.1978, -0.0680,  0.0939,  ...,  0.2791,  0.2813, -0.1519],\n",
       "        [-0.1492, -0.3354,  0.1527,  ..., -0.2109, -0.0987, -0.0596],\n",
       "        [ 0.0611, -0.2426, -0.2421,  ...,  0.1154,  0.3743,  0.1241]],\n",
       "       requires_grad=True)"
      ]
     },
     "execution_count": 7,
     "metadata": {},
     "output_type": "execute_result"
    }
   ],
   "source": [
    "import torch\n",
    "import torch.nn as nn\n",
    "\n",
    "layer = nn.Linear(in_features=64, out_features=128)\n",
    "nn.init.kaiming_normal_(layer.weight, mode='fan_in', nonlinearity='relu')\n"
   ]
  },
  {
   "cell_type": "code",
   "execution_count": null,
   "id": "e1718831-fc2c-416d-a0e9-5ec9e5e6c1a3",
   "metadata": {},
   "outputs": [],
   "source": []
  }
 ],
 "metadata": {
  "kernelspec": {
   "display_name": "Python 3 (ipykernel)",
   "language": "python",
   "name": "python3"
  },
  "language_info": {
   "codemirror_mode": {
    "name": "ipython",
    "version": 3
   },
   "file_extension": ".py",
   "mimetype": "text/x-python",
   "name": "python",
   "nbconvert_exporter": "python",
   "pygments_lexer": "ipython3",
   "version": "3.11.7"
  }
 },
 "nbformat": 4,
 "nbformat_minor": 5
}
