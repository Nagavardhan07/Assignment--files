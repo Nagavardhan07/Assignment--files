{
 "cells": [
  {
   "cell_type": "code",
   "execution_count": 1,
   "id": "2e0680be-13a6-48a2-b669-7a467bd51c01",
   "metadata": {},
   "outputs": [],
   "source": [
    "#TOPIC: Python Basics Variable"
   ]
  },
  {
   "cell_type": "code",
   "execution_count": 2,
   "id": "e3522d5a-b432-45e7-beca-f71a567cbaa6",
   "metadata": {},
   "outputs": [],
   "source": [
    "#1. Declare two variables, `x` and `y`, and assign them integer values. Swap the values of these variables without using any temporary variable."
   ]
  },
  {
   "cell_type": "code",
   "execution_count": 3,
   "id": "959a6002-9342-4682-aaff-8417acbe2198",
   "metadata": {},
   "outputs": [],
   "source": [
    "x,y = 2, 3 # Declared two variables\n"
   ]
  },
  {
   "cell_type": "code",
   "execution_count": 4,
   "id": "d5dda72c-3207-4c87-ab7f-f8bbcebae4e0",
   "metadata": {},
   "outputs": [
    {
     "data": {
      "text/plain": [
       "(int, int)"
      ]
     },
     "execution_count": 4,
     "metadata": {},
     "output_type": "execute_result"
    }
   ],
   "source": [
    "type(x), type(y) #checking if it is int "
   ]
  },
  {
   "cell_type": "code",
   "execution_count": 5,
   "id": "c5113fee-11d1-4e2d-a2cc-5b89b38c1822",
   "metadata": {},
   "outputs": [],
   "source": [
    "x,y = y,x #swapping without using any temporary value"
   ]
  },
  {
   "cell_type": "code",
   "execution_count": 6,
   "id": "f56efbaa-ed9e-41e7-aa28-64a850494879",
   "metadata": {},
   "outputs": [
    {
     "data": {
      "text/plain": [
       "3"
      ]
     },
     "execution_count": 6,
     "metadata": {},
     "output_type": "execute_result"
    }
   ],
   "source": [
    "x #or print(x)"
   ]
  },
  {
   "cell_type": "code",
   "execution_count": 7,
   "id": "7206a53f-c9c9-4a2c-9ce3-078d5a71c77c",
   "metadata": {},
   "outputs": [
    {
     "data": {
      "text/plain": [
       "2"
      ]
     },
     "execution_count": 7,
     "metadata": {},
     "output_type": "execute_result"
    }
   ],
   "source": [
    "y #or print(y)"
   ]
  },
  {
   "cell_type": "code",
   "execution_count": 8,
   "id": "4a9a7f6c-228f-4795-aa82-74bc66b62dbc",
   "metadata": {},
   "outputs": [],
   "source": [
    "#2. Create a program that calculates the area of a rectangle. Take the length and width as inputs from the user and store them in variables. Calculate and display the area."
   ]
  },
  {
   "cell_type": "code",
   "execution_count": 9,
   "id": "dde304e8-2a58-4c4f-ab54-a2ba4f91b9c5",
   "metadata": {},
   "outputs": [
    {
     "name": "stdin",
     "output_type": "stream",
     "text": [
      "Length of the Rectangle:  12\n",
      "Width of the Rectangle:  10\n"
     ]
    },
    {
     "name": "stdout",
     "output_type": "stream",
     "text": [
      "The area of rectangle is 120\n"
     ]
    },
    {
     "data": {
      "text/plain": [
       "'or we can type as in jupyter notebook as\\ndirectly f\"The area of rectangle is {Area_of_Rectangle}\" to print the output'"
      ]
     },
     "execution_count": 9,
     "metadata": {},
     "output_type": "execute_result"
    }
   ],
   "source": [
    "#input for calculating area of rectangle\n",
    "\n",
    "length = int(input(\"Length of the Rectangle: \"))\n",
    "Width = int(input(\"Width of the Rectangle: \"))\n",
    "\n",
    "Area_of_Rectangle = length * Width   #formula \n",
    "\n",
    "print(f\"The area of rectangle is {Area_of_Rectangle}\" )\n",
    "\n",
    "\n",
    "'''or we can type as in jupyter notebook as\n",
    "directly f\"The area of rectangle is {Area_of_Rectangle}\" to print the output'''"
   ]
  },
  {
   "cell_type": "code",
   "execution_count": 10,
   "id": "4217bc21-fecc-42e2-bab0-9b1342f831f2",
   "metadata": {},
   "outputs": [],
   "source": [
    "#3. Write a Python program that converts temperatures from Celsius to Fahrenheit. Take the temperature in Celsius as input, store it in a variable, convert it to Fahrenheit, and display the result."
   ]
  },
  {
   "cell_type": "code",
   "execution_count": 11,
   "id": "fc880759-5a10-49cf-8d2e-b5d3f4df8a7b",
   "metadata": {},
   "outputs": [
    {
     "name": "stdin",
     "output_type": "stream",
     "text": [
      "Enter the Temperature in Celsius:  100\n"
     ]
    },
    {
     "name": "stdout",
     "output_type": "stream",
     "text": [
      "100.0 degrees celsius is equals to 212.0 degrees farenheit \n"
     ]
    }
   ],
   "source": [
    "#Temperature in Celsius\n",
    "C = float(input(\"Enter the Temperature in Celsius: \"))\n",
    "# Here C is Temperature in Celsius\n",
    "\n",
    "#formula for converting Temperature from Celsius to Farenheit\n",
    "F = (C * 9/5) +32   \n",
    "#here F is Temperature in Farenheit.\n",
    "\n",
    "print(f\"{C} degrees celsius is equals to {F} degrees farenheit \")"
   ]
  },
  {
   "cell_type": "code",
   "execution_count": 12,
   "id": "f0d0335b-c40f-4f49-8b6a-3354ab48e280",
   "metadata": {},
   "outputs": [],
   "source": [
    "#String Based Questions"
   ]
  },
  {
   "cell_type": "code",
   "execution_count": 13,
   "id": "c0f7e917-6bc3-44ff-96ed-c3f3c0f2001a",
   "metadata": {},
   "outputs": [],
   "source": [
    "#1. Write a Python program that takes a string as input and prints the length of the string."
   ]
  },
  {
   "cell_type": "code",
   "execution_count": 14,
   "id": "5534c4ae-5f91-4035-8909-5f9a90627c81",
   "metadata": {},
   "outputs": [
    {
     "name": "stdin",
     "output_type": "stream",
     "text": [
      "Enter the string:  apple\n"
     ]
    },
    {
     "name": "stdout",
     "output_type": "stream",
     "text": [
      "The length of the given string is: 5\n"
     ]
    }
   ],
   "source": [
    "string = str(input(\"Enter the string: \"))\n",
    "length = len(string)\n",
    "print(f\"The length of the given string is: {length}\")"
   ]
  },
  {
   "cell_type": "code",
   "execution_count": 15,
   "id": "ca83698a-12cf-48aa-8501-f09a1fdb20e1",
   "metadata": {},
   "outputs": [],
   "source": [
    "#2. Create a program that takes a sentence from the user and counts the number of vowels (a, e, i, o, u) in the string."
   ]
  },
  {
   "cell_type": "code",
   "execution_count": 16,
   "id": "a599a39f-a381-4b42-8bf4-8b77f92f883d",
   "metadata": {},
   "outputs": [
    {
     "name": "stdin",
     "output_type": "stream",
     "text": [
      "Enter the sentence:  dosa of the year\n"
     ]
    },
    {
     "name": "stdout",
     "output_type": "stream",
     "text": [
      "dosa of the year\n"
     ]
    }
   ],
   "source": [
    "sentence = str(input(\"Enter the sentence: \"))\n",
    "print(sentence)"
   ]
  },
  {
   "cell_type": "code",
   "execution_count": 17,
   "id": "9d0d841a-bcff-475e-9396-70378d96fc51",
   "metadata": {},
   "outputs": [],
   "source": [
    "vowels = \"aeiouAEIOU\" #took another string of all vowels of lowercase and uppercase"
   ]
  },
  {
   "cell_type": "code",
   "execution_count": 18,
   "id": "ac461eaf-39ea-4f51-8869-0ad8d152bca7",
   "metadata": {},
   "outputs": [
    {
     "name": "stdout",
     "output_type": "stream",
     "text": [
      "6\n"
     ]
    }
   ],
   "source": [
    "count = sum(sentence.count(vowel) for vowel in vowels) # it checks for the same letters in both vowels and sentence and stores in vowel and counts the total number\n",
    "print(count)\n"
   ]
  },
  {
   "cell_type": "code",
   "execution_count": 19,
   "id": "d5b96402-c5db-47e7-9cd1-da1ea9f79718",
   "metadata": {},
   "outputs": [],
   "source": [
    "#3. Given a string, reverse the order of characters using string slicing and print the reversed string."
   ]
  },
  {
   "cell_type": "code",
   "execution_count": 20,
   "id": "76e87db2-ee10-49b1-98a8-1af8801906e1",
   "metadata": {},
   "outputs": [
    {
     "name": "stdin",
     "output_type": "stream",
     "text": [
      "Enter the string:  vardhana\n"
     ]
    },
    {
     "data": {
      "text/plain": [
       "'anahdrav'"
      ]
     },
     "execution_count": 20,
     "metadata": {},
     "output_type": "execute_result"
    }
   ],
   "source": [
    "Word = str(input(\"Enter the string: \"))\n",
    "Word[::-1]  #or print(Word[::-1])\n",
    "#here in slicing-1 represents reverse order and before first colon it the number till where we wanna print the number if it is blank it means it goes on and before the second colon it is the ending point till where it should print"
   ]
  },
  {
   "cell_type": "code",
   "execution_count": 21,
   "id": "6b4c21f2-b613-48c3-acd5-053388d133d7",
   "metadata": {},
   "outputs": [],
   "source": [
    "#4. Write a program that takes a string as input and checks if it is a palindrome (reads the same forwards and backwards)."
   ]
  },
  {
   "cell_type": "code",
   "execution_count": 22,
   "id": "ef92ee83-1a63-4455-bc9d-70c1ea562b26",
   "metadata": {},
   "outputs": [
    {
     "name": "stdin",
     "output_type": "stream",
     "text": [
      "Enter the string:  assa\n"
     ]
    },
    {
     "name": "stdout",
     "output_type": "stream",
     "text": [
      "The given String assa is palindrome.\n"
     ]
    }
   ],
   "source": [
    "String = str(input(\"Enter the string: \"))\n",
    "if String[::-1] == String[::1]:  # condition we checking using slicing. \n",
    "# It means here the string from starting and ending in the sense reading from backwards or forward should be equal to be palindrome.\n",
    "    print(f\"The given String {String} is palindrome.\")\n",
    "else:\n",
    "    print(f\"The given String {String} is not a palindrome.\")"
   ]
  },
  {
   "cell_type": "code",
   "execution_count": 23,
   "id": "31783a4f-58d4-4029-b840-ad162d014b78",
   "metadata": {},
   "outputs": [],
   "source": [
    "#5. Create a program that takes a string as input and removes all the spaces from it. Print the modified string without spaces."
   ]
  },
  {
   "cell_type": "code",
   "execution_count": 24,
   "id": "abf18275-0d72-42b1-b279-d04d85ca1c23",
   "metadata": {},
   "outputs": [
    {
     "name": "stdin",
     "output_type": "stream",
     "text": [
      "Enter the string you wanna print without spaces:  pu ll m e if y o u can\n"
     ]
    },
    {
     "name": "stdout",
     "output_type": "stream",
     "text": [
      "The string given is: pu ll m e if y o u can\n",
      "The modified string without spaces is: pullmeifyoucan\n"
     ]
    }
   ],
   "source": [
    "STRING = str(input(\"Enter the string you wanna print without spaces: \")) # input\n",
    "print(f\"The string given is: {STRING}\")\n",
    "STRING = STRING.replace(' ', '')  # here we just replaced the space with none.\n",
    "print(f\"The modified string without spaces is: {STRING}\")"
   ]
  }
 ],
 "metadata": {
  "kernelspec": {
   "display_name": "Python 3 (ipykernel)",
   "language": "python",
   "name": "python3"
  },
  "language_info": {
   "codemirror_mode": {
    "name": "ipython",
    "version": 3
   },
   "file_extension": ".py",
   "mimetype": "text/x-python",
   "name": "python",
   "nbconvert_exporter": "python",
   "pygments_lexer": "ipython3",
   "version": "3.10.8"
  }
 },
 "nbformat": 4,
 "nbformat_minor": 5
}
