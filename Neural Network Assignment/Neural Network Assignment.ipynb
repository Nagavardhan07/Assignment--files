{
 "cells": [
  {
   "cell_type": "code",
   "execution_count": 1,
   "id": "f4a749ed-a338-4e26-b513-41a49aa34bbf",
   "metadata": {},
   "outputs": [],
   "source": [
    "# Assignment Questions on Forward and Backward Propagation\n",
    "\n",
    "\n"
   ]
  },
  {
   "cell_type": "code",
   "execution_count": 2,
   "id": "5f69811e-fbf6-4c85-bd03-33136c429479",
   "metadata": {},
   "outputs": [],
   "source": [
    "# 5. Implement the forward propagation process for a simple neural network with one hidden layer using NumPy."
   ]
  },
  {
   "cell_type": "code",
   "execution_count": 3,
   "id": "0e1cd68e-0874-4363-81c6-3ac0d97b8b11",
   "metadata": {},
   "outputs": [
    {
     "name": "stdout",
     "output_type": "stream",
     "text": [
      "Output: [0.81177467]\n"
     ]
    }
   ],
   "source": [
    "import numpy as np\n",
    "\n",
    "# Inputs, weights, and biases\n",
    "X = np.array([1, 2])\n",
    "W1 = np.array([[0.1, 0.2], [0.3, 0.4]])\n",
    "b1 = np.array([0.1, 0.2])\n",
    "W2 = np.array([[0.5], [0.6]])\n",
    "b2 = np.array([0.3])\n",
    "\n",
    "# Forward propagation\n",
    "hidden_layer = np.dot(X, W1) + b1\n",
    "hidden_activation = np.tanh(hidden_layer)\n",
    "output_layer = np.dot(hidden_activation, W2) + b2\n",
    "output = np.tanh(output_layer)\n",
    "\n",
    "print(\"Output:\", output)\n"
   ]
  },
  {
   "cell_type": "code",
   "execution_count": 4,
   "id": "7afdf922-09dd-4179-b2bd-09e20d281b2f",
   "metadata": {},
   "outputs": [],
   "source": [
    "# Assignment on weight initialization techniques"
   ]
  },
  {
   "cell_type": "code",
   "execution_count": 5,
   "id": "da7f6256-43bf-41a7-9fbf-13915b337edc",
   "metadata": {},
   "outputs": [],
   "source": [
    "#7. Implement He initialization in Python using TensorFlow or PyTorch."
   ]
  },
  {
   "cell_type": "code",
   "execution_count": null,
   "id": "63ce98b5-d96b-48c2-b4a0-078561cd9595",
   "metadata": {},
   "outputs": [],
   "source": [
    "import tensorflow as tf\n",
    "\n",
    "# He initialization\n",
    "initializer = tf.keras.initializers.HeNormal()\n",
    "\n",
    "# Example layer with He initialization\n",
    "layer = tf.keras.layers.Dense(10, kernel_initializer=initializer)\n",
    "\n",
    "print(\"He-initialized weights:\", layer.kernel)\n"
   ]
  },
  {
   "cell_type": "code",
   "execution_count": null,
   "id": "d4c4bc1a-fd58-478a-a822-e16970e942ea",
   "metadata": {},
   "outputs": [],
   "source": []
  }
 ],
 "metadata": {
  "kernelspec": {
   "display_name": "Python 3 (ipykernel)",
   "language": "python",
   "name": "python3"
  },
  "language_info": {
   "codemirror_mode": {
    "name": "ipython",
    "version": 3
   },
   "file_extension": ".py",
   "mimetype": "text/x-python",
   "name": "python",
   "nbconvert_exporter": "python",
   "pygments_lexer": "ipython3",
   "version": "3.11.7"
  }
 },
 "nbformat": 4,
 "nbformat_minor": 5
}
