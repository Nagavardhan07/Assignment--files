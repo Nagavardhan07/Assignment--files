{
 "cells": [
  {
   "cell_type": "code",
   "execution_count": 1,
   "id": "03adae40-c3eb-41e4-8c51-b57c94eb090a",
   "metadata": {},
   "outputs": [],
   "source": [
    "#5. Implement the forward propagation process for a simple neural network with one hidden layer using NumPy"
   ]
  },
  {
   "cell_type": "code",
   "execution_count": 2,
   "id": "67b4893f-a023-4107-8074-9cdae82db622",
   "metadata": {},
   "outputs": [
    {
     "name": "stdout",
     "output_type": "stream",
     "text": [
      "[[0.6451986]]\n"
     ]
    }
   ],
   "source": [
    "import numpy as np\n",
    "\n",
    "# Define input, weights, and biases\n",
    "X = np.array([[0.1, 0.2]])  # Example input\n",
    "W1 = np.array([[0.5, 0.3], [0.2, 0.7]])  # Weights for input to hidden layer\n",
    "b1 = np.array([[0.1, 0.2]])  # Bias for hidden layer\n",
    "W2 = np.array([[0.4], [0.6]])  # Weights for hidden layer to output layer\n",
    "b2 = np.array([[0.3]])  # Bias for output layer\n",
    "\n",
    "# Define activation function (ReLU for hidden layer and Sigmoid for output layer)\n",
    "def relu(x):\n",
    "    return np.maximum(0, x)\n",
    "\n",
    "def sigmoid(x):\n",
    "    return 1 / (1 + np.exp(-x))\n",
    "\n",
    "# Forward propagation\n",
    "hidden_layer_input = np.dot(X, W1) + b1\n",
    "hidden_layer_output = relu(hidden_layer_input)\n",
    "output_layer_input = np.dot(hidden_layer_output, W2) + b2\n",
    "output_layer_output = sigmoid(output_layer_input)\n",
    "\n",
    "print(output_layer_output)  # Final output\n"
   ]
  },
  {
   "cell_type": "code",
   "execution_count": null,
   "id": "e26f436a-62c1-483e-b221-c52c6615d005",
   "metadata": {},
   "outputs": [],
   "source": []
  }
 ],
 "metadata": {
  "kernelspec": {
   "display_name": "Python 3 (ipykernel)",
   "language": "python",
   "name": "python3"
  },
  "language_info": {
   "codemirror_mode": {
    "name": "ipython",
    "version": 3
   },
   "file_extension": ".py",
   "mimetype": "text/x-python",
   "name": "python",
   "nbconvert_exporter": "python",
   "pygments_lexer": "ipython3",
   "version": "3.11.7"
  }
 },
 "nbformat": 4,
 "nbformat_minor": 5
}
