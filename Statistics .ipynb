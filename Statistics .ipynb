{
 "cells": [
  {
   "cell_type": "code",
   "execution_count": 326,
   "id": "43cafee0-40bc-4e1f-b3a2-00519628ffcf",
   "metadata": {},
   "outputs": [],
   "source": [
    "# #Q= Generate a list of 100 integers containing values between 90 to 130 and store it in the variable `int_list`.\n",
    "# #After generating the list, find the following:\n",
    "# #\n",
    "  \n",
    "\n",
    "#  # (i) Write a Python function to calculate the mean of a given list of numbers.\n",
    "\n",
    "# # Create a function to find the median of a list of numbers.\n",
    "\n",
    "  \n",
    "\n",
    "#   (ii) Develop a program to compute the mode of a list of integers.\n",
    "\n",
    "  \n",
    "\n",
    "#   (iii) Implement a function to calculate the weighted mean of a list of values and their corresponding weights.\n",
    "\n",
    "  \n",
    "\n",
    "#   (iv) Write a Python function to find the geometric mean of a list of positive numbers.\n",
    "\n",
    "  \n",
    "\n",
    "#   (v) Create a program to calculate the harmonic mean of a list of values.\n",
    "\n",
    "  \n",
    "\n",
    "#   (vi) Build a function to determine the midrange of a list of numbers (average of the minimum and maximum).\n",
    "\n",
    "  \n",
    "\n",
    "#   (vii) Implement a Python program to find the trimmed mean of a list, excluding a certain percentage of\n",
    "# outliers."
   ]
  },
  {
   "cell_type": "code",
   "execution_count": 327,
   "id": "63820891-10cf-4302-a288-c14109e1f57f",
   "metadata": {},
   "outputs": [
    {
     "name": "stdout",
     "output_type": "stream",
     "text": [
      "Generated List (100 values between 90 and 130): [117 126 112  99 110  90 105 101 102 109 118  97 101 117 108 129 123  90\n",
      " 109 114  96 115  90 124 111 125  90 112  96  95  93 123 127 123 127 122\n",
      "  91 107  93  97  98 124 110 101  99 118 108 109  92 102 106  91 127 127\n",
      " 126 113  90  92 107  97 130 101  99  97 125 124 120  90 113  96 104 107\n",
      "  97 115  96  99 107 121 109  93 108 114  92 121  94 130 121 125 110  98\n",
      " 113  99  92 128 105  94 127 109 126 116]\n"
     ]
    }
   ],
   "source": [
    "import numpy as np\n",
    "import pandas as pd\n",
    "import seaborn as sns\n",
    "import matplotlib.pyplot as plt\n",
    "from scipy import stats\n",
    "\n",
    "# Task 1: Generating a list of 100 integers between 90 and 130\n",
    "int_list = np.random.randint(90, 131, 100)\n",
    "print(\"Generated List (100 values between 90 and 130):\", int_list)\n"
   ]
  },
  {
   "cell_type": "code",
   "execution_count": 328,
   "id": "b991751f-ed33-4e11-95f4-a0a014fe5cf2",
   "metadata": {},
   "outputs": [
    {
     "name": "stdout",
     "output_type": "stream",
     "text": [
      "Mean of int_list: 108.36\n",
      "Median of int_list: 108.0\n"
     ]
    }
   ],
   "source": [
    "# Part (i): Calculating the Mean\n",
    "def calculate_mean(values):\n",
    "    return np.mean(values)\n",
    "\n",
    "print(\"Mean of int_list:\", calculate_mean(int_list))\n",
    "\n",
    "# Calculating the Median\n",
    "def calculate_median(values):\n",
    "    return np.median(values)\n",
    "\n",
    "print(\"Median of int_list:\", calculate_median(int_list))\n",
    "\n"
   ]
  },
  {
   "cell_type": "code",
   "execution_count": 329,
   "id": "cede5fb7-4204-4905-af82-c3a2d3a5c183",
   "metadata": {},
   "outputs": [
    {
     "name": "stdout",
     "output_type": "stream",
     "text": [
      "Mode of int_list: 90 (Count: 6 )\n"
     ]
    }
   ],
   "source": [
    "# Part (ii): Computing the Mode\n",
    "def calculate_mode(values):\n",
    "    mode_val = stats.mode(values, keepdims=True)\n",
    "    return mode_val.mode[0], mode_val.count[0]\n",
    "\n",
    "mode, count = calculate_mode(int_list)\n",
    "print(\"Mode of int_list:\", mode, \"(Count:\", count, \")\")\n"
   ]
  },
  {
   "cell_type": "code",
   "execution_count": 330,
   "id": "7024fccc-87d6-4b46-a24a-0fc34c44dbfe",
   "metadata": {},
   "outputs": [
    {
     "name": "stdout",
     "output_type": "stream",
     "text": [
      "Weighted Mean of int_list: 107.89300411522633\n"
     ]
    }
   ],
   "source": [
    "# Part (iii): Weighted Mean Calculation\n",
    "def weighted_mean(values, weights):\n",
    "    return np.average(values, weights=weights)\n",
    "\n",
    "weights = np.random.randint(1, 5, 100)\n",
    "print(\"Weighted Mean of int_list:\", weighted_mean(int_list, weights))\n"
   ]
  },
  {
   "cell_type": "code",
   "execution_count": 331,
   "id": "7ff477d8-1604-482d-b365-9bafea731936",
   "metadata": {},
   "outputs": [
    {
     "name": "stdout",
     "output_type": "stream",
     "text": [
      "Geometric Mean of int_list: 107.65452103333179\n"
     ]
    }
   ],
   "source": [
    "# Part (iv): Geometric Mean Calculation\n",
    "def geometric_mean(values):\n",
    "    return stats.gmean(values)\n",
    "\n",
    "print(\"Geometric Mean of int_list:\", geometric_mean(int_list))\n",
    "\n"
   ]
  },
  {
   "cell_type": "code",
   "execution_count": 332,
   "id": "82e7ecd0-9c6c-411c-9bff-ba55d52f1823",
   "metadata": {},
   "outputs": [
    {
     "name": "stdout",
     "output_type": "stream",
     "text": [
      "Harmonic Mean of int_list: 106.95485169764603\n"
     ]
    }
   ],
   "source": [
    "# Part (v): Harmonic Mean Calculation\n",
    "def harmonic_mean(values):\n",
    "    return stats.hmean(values)\n",
    "\n",
    "print(\"Harmonic Mean of int_list:\", harmonic_mean(int_list))\n",
    "\n"
   ]
  },
  {
   "cell_type": "code",
   "execution_count": 333,
   "id": "4a5ae2aa-5a7a-4844-ae81-c344fc1f655c",
   "metadata": {},
   "outputs": [
    {
     "name": "stdout",
     "output_type": "stream",
     "text": [
      "Midrange of int_list: 110.0\n"
     ]
    }
   ],
   "source": [
    "# Part (vi): Midrange Calculation\n",
    "def midrange(values):\n",
    "    return (np.min(values) + np.max(values)) / 2\n",
    "\n",
    "print(\"Midrange of int_list:\", midrange(int_list))\n",
    "\n"
   ]
  },
  {
   "cell_type": "code",
   "execution_count": 334,
   "id": "b3ca3d7d-29f1-41a1-8c9a-261d9a59ef5b",
   "metadata": {},
   "outputs": [
    {
     "name": "stdout",
     "output_type": "stream",
     "text": [
      "Trimmed Mean (5% Trim) of int_list: 108.24444444444444\n"
     ]
    }
   ],
   "source": [
    "# Part (vii): Trimmed Mean Calculation\n",
    "def trimmed_mean(values, proportion_cut):\n",
    "    return stats.trim_mean(values, proportion_cut)\n",
    "\n",
    "print(\"Trimmed Mean (5% Trim) of int_list:\", trimmed_mean(int_list, 0.05))\n"
   ]
  },
  {
   "cell_type": "code",
   "execution_count": 335,
   "id": "e2f28096-07c4-4954-97e4-05c2746660a3",
   "metadata": {},
   "outputs": [],
   "source": [
    "#  2. Generate a list of 500 integers containing values between 200 to 300 and store it in the variable `int_list2`.\n",
    "# After generating the list, find the following:\n",
    "\n",
    "\n",
    "#   (i) Compare the given list of visualization for the given data:\n",
    "\n",
    "    \n",
    "\n",
    "#     1. Frequency & Gaussian distribution\n",
    "\n",
    "#     2. Frequency smoothened KDE plot\n",
    "\n",
    "#     3. Gaussian distribution & smoothened KDE plot\n",
    "\n",
    "\n",
    "#   (ii) Write a Python function to calculate the range of a given list of numbers.\n",
    "\n",
    "\n",
    "#   (iii) Create a program to find the variance and standard deviation of a list of numbers.\n",
    "\n",
    "\n",
    "#   (iv) Implement a function to compute the interquartile range (IQR) of a list of values.\n",
    "\n",
    "\n",
    "#   (v) Build a program to calculate the coefficient of variation for a dataset.\n",
    "\n",
    "  \n",
    "\n",
    "#   (vi) Write a Python function to find the mean absolute deviation (MAD) of a list of numbers.\n",
    "\n",
    "\n",
    "#   (vii) Create a program to calculate the quartile deviation of a list of values.\n",
    "\n",
    "  \n",
    "\n",
    "#   (viii) Implement a function to find the range-based coefficient of dispersion for a dataset"
   ]
  },
  {
   "cell_type": "code",
   "execution_count": 336,
   "id": "78f976d4-37ac-4b14-a49f-17b72ae2886d",
   "metadata": {},
   "outputs": [
    {
     "name": "stdout",
     "output_type": "stream",
     "text": [
      "Generated List (500 values between 200 and 300): [295 284 225 259 298 263 204 254 240 279] ...\n"
     ]
    }
   ],
   "source": [
    "# Generating the list\n",
    "int_list2 = np.random.randint(200, 301, 500)\n",
    "print(\"Generated List (500 values between 200 and 300):\", int_list2[:10], \"...\")\n"
   ]
  },
  {
   "cell_type": "code",
   "execution_count": 337,
   "id": "fcbaf7c5-47f7-4f84-82b4-7409e2d6bc7c",
   "metadata": {},
   "outputs": [],
   "source": [
    "#visualization"
   ]
  },
  {
   "cell_type": "code",
   "execution_count": 338,
   "id": "16d137ef-27b9-4e34-b074-f2b26dd05ba7",
   "metadata": {},
   "outputs": [],
   "source": [
    "#1. Frequency & Gaussian distribution"
   ]
  },
  {
   "cell_type": "code",
   "execution_count": 339,
   "id": "23b6cdf5-7072-47b0-a9a2-9f85b09e18bc",
   "metadata": {},
   "outputs": [
    {
     "name": "stderr",
     "output_type": "stream",
     "text": [
      "C:\\ProgramData\\anaconda3\\Lib\\site-packages\\seaborn\\_oldcore.py:1119: FutureWarning: use_inf_as_na option is deprecated and will be removed in a future version. Convert inf values to NaN before operating instead.\n",
      "  with pd.option_context('mode.use_inf_as_na', True):\n"
     ]
    },
    {
     "data": {
      "image/png": "[encoded data removed]",
      "text/plain": [
       "<Figure size 1200x600 with 1 Axes>"
      ]
     },
     "metadata": {},
     "output_type": "display_data"
    }
   ],
   "source": [
    "plt.figure(figsize=(12, 6))\n",
    "sns.histplot(int_list2, kde=True, color='skyblue')\n",
    "plt.title('Frequency & Gaussian Distribution')\n",
    "plt.show()\n"
   ]
  },
  {
   "cell_type": "code",
   "execution_count": 340,
   "id": "9788cb2a-ed58-4778-842d-ac04deec04b1",
   "metadata": {},
   "outputs": [
    {
     "name": "stderr",
     "output_type": "stream",
     "text": [
      "C:\\Users\\nagavardhan\\AppData\\Local\\Temp\\ipykernel_9280\\2133586078.py:4: FutureWarning: \n",
      "\n",
      "`shade` is now deprecated in favor of `fill`; setting `fill=True`.\n",
      "This will become an error in seaborn v0.14.0; please update your code.\n",
      "\n",
      "  sns.kdeplot(int_list2, shade=True, color='orange')\n",
      "C:\\ProgramData\\anaconda3\\Lib\\site-packages\\seaborn\\_oldcore.py:1119: FutureWarning: use_inf_as_na option is deprecated and will be removed in a future version. Convert inf values to NaN before operating instead.\n",
      "  with pd.option_context('mode.use_inf_as_na', True):\n"
     ]
    },
    {
     "data": {
      "image/png": "[encoded data removed]",
      "text/plain": [
       "<Figure size 1200x600 with 1 Axes>"
      ]
     },
     "metadata": {},
     "output_type": "display_data"
    }
   ],
   "source": [
    "#2.Frequency Smoothened KDE Plot:\n",
    "\n",
    "plt.figure(figsize=(12, 6))\n",
    "sns.kdeplot(int_list2, shade=True, color='orange')\n",
    "plt.title('Smoothened KDE Plot')\n",
    "plt.show()"
   ]
  },
  {
   "cell_type": "code",
   "execution_count": 341,
   "id": "d8c5dc33-ce4a-4958-bd7b-68425c21f584",
   "metadata": {},
   "outputs": [
    {
     "name": "stderr",
     "output_type": "stream",
     "text": [
      "C:\\ProgramData\\anaconda3\\Lib\\site-packages\\seaborn\\_oldcore.py:1119: FutureWarning: use_inf_as_na option is deprecated and will be removed in a future version. Convert inf values to NaN before operating instead.\n",
      "  with pd.option_context('mode.use_inf_as_na', True):\n",
      "C:\\ProgramData\\anaconda3\\Lib\\site-packages\\seaborn\\_oldcore.py:1119: FutureWarning: use_inf_as_na option is deprecated and will be removed in a future version. Convert inf values to NaN before operating instead.\n",
      "  with pd.option_context('mode.use_inf_as_na', True):\n"
     ]
    },
    {
     "data": {
      "image/png": "[encoded data removed]",
      "text/plain": [
       "<Figure size 1200x600 with 1 Axes>"
      ]
     },
     "metadata": {},
     "output_type": "display_data"
    }
   ],
   "source": [
    "#3.Overlay of Gaussian Distribution & Smoothened KDE Plot:\n",
    "\n",
    "plt.figure(figsize=(12, 6))\n",
    "sns.histplot(int_list2, kde=False, color='lightgrey', label='Frequency')\n",
    "sns.kdeplot(int_list2, color='darkblue', label='KDE')\n",
    "plt.legend()\n",
    "plt.title('Gaussian Distribution & Smoothened KDE Plot')\n",
    "plt.show()"
   ]
  },
  {
   "cell_type": "code",
   "execution_count": 342,
   "id": "e53f28a0-3014-471e-b0fb-04fad83fdd25",
   "metadata": {},
   "outputs": [
    {
     "name": "stdout",
     "output_type": "stream",
     "text": [
      "Range of int_list2: 100\n"
     ]
    }
   ],
   "source": [
    "#(ii) Range Calculation\n",
    "def calculate_range(values):\n",
    "    return np.max(values) - np.min(values)\n",
    "\n",
    "print(\"Range of int_list2:\", calculate_range(int_list2))\n"
   ]
  },
  {
   "cell_type": "code",
   "execution_count": 343,
   "id": "e342aada-965c-48dd-89f7-8394f48df9a8",
   "metadata": {},
   "outputs": [
    {
     "name": "stdout",
     "output_type": "stream",
     "text": [
      "Variance of int_list2: 856.7463999999999\n",
      "Standard Deviation of int_list2: 29.270230610639196\n"
     ]
    }
   ],
   "source": [
    "#(iii) Variance and Standard Deviation Calculation\n",
    "\n",
    "def calculate_variance(values):\n",
    "    return np.var(values)\n",
    "\n",
    "def calculate_std_dev(values):\n",
    "    return np.std(values)\n",
    "\n",
    "print(\"Variance of int_list2:\", calculate_variance(int_list2))\n",
    "print(\"Standard Deviation of int_list2:\", calculate_std_dev(int_list2))"
   ]
  },
  {
   "cell_type": "code",
   "execution_count": 344,
   "id": "6aaf2eb4-026b-47f0-8142-c601dbcd98dc",
   "metadata": {},
   "outputs": [
    {
     "name": "stdout",
     "output_type": "stream",
     "text": [
      "Interquartile Range (IQR) of int_list2: 52.0\n"
     ]
    }
   ],
   "source": [
    "#(iv) Interquartile Range (IQR) Calculation\n",
    "\n",
    "def calculate_iqr(values):\n",
    "    q1 = np.percentile(values, 25)\n",
    "    q3 = np.percentile(values, 75)\n",
    "    return q3 - q1\n",
    "\n",
    "print(\"Interquartile Range (IQR) of int_list2:\", calculate_iqr(int_list2))\n"
   ]
  },
  {
   "cell_type": "code",
   "execution_count": 345,
   "id": "a57dce8d-d65a-48f4-b26b-69798aeed330",
   "metadata": {},
   "outputs": [
    {
     "name": "stdout",
     "output_type": "stream",
     "text": [
      "Coefficient of Variation of int_list2: 11.813945193186631\n"
     ]
    }
   ],
   "source": [
    "#(v) Coefficient of Variation Calculation\n",
    "\n",
    "def coefficient_of_variation(values):\n",
    "    return (np.std(values) / np.mean(values)) * 100\n",
    "\n",
    "print(\"Coefficient of Variation of int_list2:\", coefficient_of_variation(int_list2))"
   ]
  },
  {
   "cell_type": "code",
   "execution_count": 346,
   "id": "e7314e80-07c9-4ec2-9731-68f802f79aec",
   "metadata": {},
   "outputs": [
    {
     "name": "stdout",
     "output_type": "stream",
     "text": [
      "Mean Absolute Deviation (MAD) of int_list2: 25.6304\n"
     ]
    }
   ],
   "source": [
    "#(vi) Mean Absolute Deviation (MAD) Calculation\n",
    "\n",
    "def mean_absolute_deviation(values):\n",
    "    return np.mean(np.abs(values - np.mean(values)))\n",
    "\n",
    "print(\"Mean Absolute Deviation (MAD) of int_list2:\", mean_absolute_deviation(int_list2))"
   ]
  },
  {
   "cell_type": "code",
   "execution_count": 347,
   "id": "cdf57c63-e8cf-416c-8102-d3598dd67596",
   "metadata": {},
   "outputs": [
    {
     "name": "stdout",
     "output_type": "stream",
     "text": [
      "Quartile Deviation of int_list2: 26.0\n"
     ]
    }
   ],
   "source": [
    "#(vii) Quartile Deviation Calculation\n",
    "\n",
    "def quartile_deviation(values):\n",
    "    q1 = np.percentile(values, 25)\n",
    "    q3 = np.percentile(values, 75)\n",
    "    return (q3 - q1) / 2\n",
    "\n",
    "print(\"Quartile Deviation of int_list2:\", quartile_deviation(int_list2))"
   ]
  },
  {
   "cell_type": "code",
   "execution_count": 348,
   "id": "7571911f-04af-4998-beec-4700d2bbd232",
   "metadata": {},
   "outputs": [
    {
     "name": "stdout",
     "output_type": "stream",
     "text": [
      "Range-based Coefficient of Dispersion of int_list2: 0.2\n"
     ]
    }
   ],
   "source": [
    "#(viii) Range-based Coefficient of Dispersion Calculation\n",
    "\n",
    "def range_coefficient_of_dispersion(values):\n",
    "    return (np.max(values) - np.min(values)) / (np.max(values) + np.min(values))\n",
    "\n",
    "print(\"Range-based Coefficient of Dispersion of int_list2:\", range_coefficient_of_dispersion(int_list2))"
   ]
  },
  {
   "cell_type": "code",
   "execution_count": 349,
   "id": "c091cded-c486-4a3d-888a-f75a7a391881",
   "metadata": {},
   "outputs": [],
   "source": [
    "# 3.Write a Python class representing a discrete random variable with methods to calculate its expected value and variance."
   ]
  },
  {
   "cell_type": "code",
   "execution_count": 350,
   "id": "ef3b6b99-a04a-4a69-8b26-e7e3a170bff3",
   "metadata": {},
   "outputs": [
    {
     "name": "stdout",
     "output_type": "stream",
     "text": [
      "Expected Value: 3.15\n",
      "Variance: 1.4275000000000002\n"
     ]
    }
   ],
   "source": [
    "class DiscreteRandomVariable:\n",
    "    def __init__(self, values, probabilities):\n",
    "        if not (len(values) == len(probabilities)):\n",
    "            raise ValueError(\"Values and probabilities must have the same length.\")\n",
    "        if not np.isclose(sum(probabilities), 1):\n",
    "            raise ValueError(\"Probabilities must sum to 1.\")\n",
    "        self.values = np.array(values)\n",
    "        self.probabilities = np.array(probabilities)\n",
    "\n",
    "    def expected_value(self):\n",
    "        \"\"\"Calculate the expected value (mean) of the random variable.\"\"\"\n",
    "        return np.sum(self.values * self.probabilities)\n",
    "\n",
    "    def variance(self):\n",
    "        \"\"\"Calculate the variance of the random variable.\"\"\"\n",
    "        mean = self.expected_value()\n",
    "        return np.sum(((self.values - mean) ** 2) * self.probabilities)\n",
    "\n",
    "\n",
    "# Example usage\n",
    "values = [1, 2, 3, 4, 5]\n",
    "probabilities = [0.1, 0.2, 0.3, 0.25, 0.15]\n",
    "\n",
    "# Create an instance of DiscreteRandomVariable\n",
    "drv = DiscreteRandomVariable(values, probabilities)\n",
    "\n",
    "print(\"Expected Value:\", drv.expected_value())\n",
    "print(\"Variance:\", drv.variance())\n"
   ]
  },
  {
   "cell_type": "code",
   "execution_count": 351,
   "id": "fde9c7c6-fea5-4e01-ad6c-9ac7003c51fb",
   "metadata": {},
   "outputs": [],
   "source": [
    "# 4.Implement a program to simulate the rolling of a fair six-sided die and calculate the expected value and variance of the outcomes"
   ]
  },
  {
   "cell_type": "code",
   "execution_count": 352,
   "id": "2d22f200-dbe8-407e-90b9-aed734865947",
   "metadata": {},
   "outputs": [
    {
     "name": "stdout",
     "output_type": "stream",
     "text": [
      "Expected Value: 3.5113\n",
      "Variance: 2.90227231\n"
     ]
    }
   ],
   "source": [
    "import numpy as np\n",
    "\n",
    "class DieSimulation:\n",
    "    def __init__(self, num_rolls=10000):\n",
    "        self.num_rolls = num_rolls\n",
    "        self.outcomes = np.random.randint(1, 7, num_rolls)  # Simulate die rolls\n",
    "\n",
    "    def expected_value(self):\n",
    "        \"\"\"Calculate the expected value of die rolls.\"\"\"\n",
    "        return np.mean(self.outcomes)\n",
    "\n",
    "    def variance(self):\n",
    "        \"\"\"Calculate the variance of die rolls.\"\"\"\n",
    "        return np.var(self.outcomes)\n",
    "\n",
    "# Simulate rolling the die\n",
    "simulation = DieSimulation(10000)\n",
    "\n",
    "print(\"Expected Value:\", simulation.expected_value())\n",
    "print(\"Variance:\", simulation.variance())\n"
   ]
  },
  {
   "cell_type": "code",
   "execution_count": 355,
   "id": "e90e86e9-b469-455e-96c2-a824b872c3a0",
   "metadata": {},
   "outputs": [],
   "source": [
    "# 5.Create a Python function to generate random samples from a given probability distribution (e.g., binomial, Poisson) and calculate their mean and variance."
   ]
  },
  {
   "cell_type": "code",
   "execution_count": 356,
   "id": "4f3b5aad-7482-44f8-b1eb-9e6199a1fa6c",
   "metadata": {},
   "outputs": [
    {
     "name": "stdout",
     "output_type": "stream",
     "text": [
      "Binomial Distribution -> Mean: 4.99 , Variance: 2.5319000000000003\n",
      "Poisson Distribution -> Mean: 3.982 , Variance: 4.131676\n"
     ]
    }
   ],
   "source": [
    "import numpy as np\n",
    "\n",
    "def generate_samples_and_statistics(distribution, params, size=1000):\n",
    "    \"\"\"\n",
    "    Generate random samples and compute the mean and variance.\n",
    "\n",
    "    Args:\n",
    "        distribution (str): The name of the distribution ('binomial' or 'poisson').\n",
    "        params (dict): Parameters for the distribution.\n",
    "            For 'binomial', pass {'n': int, 'p': float}.\n",
    "            For 'poisson', pass {'lam': float}.\n",
    "        size (int): Number of samples to generate.\n",
    "\n",
    "    Returns:\n",
    "        tuple: (mean, variance) of generated samples\n",
    "    \"\"\"\n",
    "    if distribution == 'binomial':\n",
    "        n, p = params['n'], params['p']\n",
    "        samples = np.random.binomial(n, p, size)\n",
    "    elif distribution == 'poisson':\n",
    "        lam = params['lam']\n",
    "        samples = np.random.poisson(lam, size)\n",
    "    else:\n",
    "        raise ValueError(\"Unsupported distribution. Use 'binomial' or 'poisson'.\")\n",
    "    \n",
    "    mean = np.mean(samples)\n",
    "    variance = np.var(samples)\n",
    "    return mean, variance\n",
    "\n",
    "# Example Usage:\n",
    "# Binomial distribution: n=10, p=0.5\n",
    "mean_binomial, var_binomial = generate_samples_and_statistics('binomial', {'n': 10, 'p': 0.5})\n",
    "print(\"Binomial Distribution -> Mean:\", mean_binomial, \", Variance:\", var_binomial)\n",
    "\n",
    "# Poisson distribution: lambda=4\n",
    "mean_poisson, var_poisson = generate_samples_and_statistics('poisson', {'lam': 4})\n",
    "print(\"Poisson Distribution -> Mean:\", mean_poisson, \", Variance:\", var_poisson)\n"
   ]
  },
  {
   "cell_type": "code",
   "execution_count": 357,
   "id": "02a09ee7-c8d3-4be1-aa88-ca21a6d5c520",
   "metadata": {},
   "outputs": [],
   "source": [
    "#6.Write a Python script to generate random numbers from a Gaussian (normal) distribution and compute the mean, variance, and standard deviation of the samples."
   ]
  },
  {
   "cell_type": "code",
   "execution_count": 358,
   "id": "27fb98cf-6ffe-4422-b87b-c7f88f8bd224",
   "metadata": {},
   "outputs": [
    {
     "name": "stdout",
     "output_type": "stream",
     "text": [
      "Generated 1000 samples from N(50, 10^2)\n",
      "Sample Mean: 50.53031932404485\n",
      "Sample Variance: 108.09615073316255\n",
      "Sample Standard Deviation: 10.396929870551332\n"
     ]
    }
   ],
   "source": [
    "import numpy as np\n",
    "\n",
    "def generate_gaussian_samples(mean, std_dev, size=1000):\n",
    "    \"\"\"\n",
    "    Generate random samples from a Gaussian distribution.\n",
    "\n",
    "    Args:\n",
    "        mean (float): Mean of the distribution.\n",
    "        std_dev (float): Standard deviation of the distribution.\n",
    "        size (int): Number of samples to generate.\n",
    "\n",
    "    Returns:\n",
    "        np.ndarray: Generated samples.\n",
    "    \"\"\"\n",
    "    samples = np.random.normal(loc=mean, scale=std_dev, size=size)\n",
    "    return samples\n",
    "\n",
    "def compute_statistics(samples):\n",
    "    \"\"\"\n",
    "    Compute mean, variance, and standard deviation of the samples.\n",
    "\n",
    "    Args:\n",
    "        samples (np.ndarray): List of samples.\n",
    "\n",
    "    Returns:\n",
    "        tuple: (mean, variance, standard deviation)\n",
    "    \"\"\"\n",
    "    mean = np.mean(samples)\n",
    "    variance = np.var(samples)\n",
    "    std_dev = np.std(samples)\n",
    "    return mean, variance, std_dev\n",
    "\n",
    "# Example Usage\n",
    "mean_value = 50\n",
    "std_dev_value = 10\n",
    "sample_size = 1000\n",
    "\n",
    "samples = generate_gaussian_samples(mean_value, std_dev_value, sample_size)\n",
    "mean, variance, std_dev = compute_statistics(samples)\n",
    "\n",
    "print(f\"Generated {sample_size} samples from N({mean_value}, {std_dev_value}^2)\")\n",
    "print(\"Sample Mean:\", mean)\n",
    "print(\"Sample Variance:\", variance)\n",
    "print(\"Sample Standard Deviation:\", std_dev)\n"
   ]
  },
  {
   "cell_type": "code",
   "execution_count": 359,
   "id": "f1d6f433-7172-435e-b43b-c2c5b8bd0c34",
   "metadata": {},
   "outputs": [],
   "source": [
    "# 7.Use seaborn library to load tips dataset. Find the following from the dataset for the columns total_bill\n",
    "# and tip`:\n",
    "\n",
    "  \n",
    "\n",
    "#   (i) Write a Python function that calculates their skewness.\n",
    "\n",
    "\n",
    "#   (ii) Create a program that determines whether the columns exhibit positive skewness, negative skewness, or is\n",
    "# approximately symmetric.\n",
    "\n",
    "\n",
    "#   (iii) Write a function that calculates the covariance between two columns.\n",
    "\n",
    "\n",
    "#   (iv) Implement a Python program that calculates the Pearson correlation coefficient between two columns.\n",
    "\n",
    "\n",
    "#   (v) Write a script to visualize the correlation between two specific columns in a Pandas DataFrame using\n",
    "# scatter plots."
   ]
  },
  {
   "cell_type": "code",
   "execution_count": 360,
   "id": "b4c0a350-5df3-4b3c-9803-181524b1689c",
   "metadata": {},
   "outputs": [],
   "source": [
    "import seaborn as sns\n",
    "import numpy as np\n",
    "import matplotlib.pyplot as plt\n",
    "import pandas as pd\n",
    "\n",
    "# Load the tips dataset\n",
    "tips = sns.load_dataset('tips')\n",
    "total_bill = tips['total_bill']\n",
    "tip = tips['tip']\n",
    "\n",
    "\n",
    "\n",
    "\n"
   ]
  },
  {
   "cell_type": "code",
   "execution_count": 361,
   "id": "48cf5b84-ba7c-4f8b-a9ac-765147e094de",
   "metadata": {},
   "outputs": [
    {
     "name": "stdout",
     "output_type": "stream",
     "text": [
      "Skewness of total_bill: 1.1332130376158205\n",
      "Skewness of tip: 1.4654510370979401\n"
     ]
    }
   ],
   "source": [
    "# (i) Function to calculate skewness\n",
    "def calculate_skewness(data):\n",
    "    return data.skew()\n",
    "\n",
    "print(\"Skewness of total_bill:\", calculate_skewness(total_bill))\n",
    "print(\"Skewness of tip:\", calculate_skewness(tip))\n"
   ]
  },
  {
   "cell_type": "code",
   "execution_count": 362,
   "id": "5b43cb0f-f7da-4e51-a196-b947710eaa84",
   "metadata": {},
   "outputs": [
    {
     "name": "stdout",
     "output_type": "stream",
     "text": [
      "Skewness Type of total_bill: Positive Skewness\n",
      "Skewness Type of tip: Positive Skewness\n"
     ]
    }
   ],
   "source": [
    "# (ii) Program to determine skewness type\n",
    "def skewness_type(data):\n",
    "    skewness = data.skew()\n",
    "    if skewness > 0:\n",
    "        return \"Positive Skewness\"\n",
    "    elif skewness < 0:\n",
    "        return \"Negative Skewness\"\n",
    "    else:\n",
    "        return \"Approximately Symmetric\"\n",
    "\n",
    "print(\"Skewness Type of total_bill:\", skewness_type(total_bill))\n",
    "print(\"Skewness Type of tip:\", skewness_type(tip))\n"
   ]
  },
  {
   "cell_type": "code",
   "execution_count": 363,
   "id": "187e92aa-2333-452e-8e54-48e52987be07",
   "metadata": {},
   "outputs": [
    {
     "name": "stdout",
     "output_type": "stream",
     "text": [
      "Covariance between total_bill and tip: 8.323501629224854\n"
     ]
    }
   ],
   "source": [
    "# (iii) Function to calculate covariance between two columns\n",
    "def calculate_covariance(col1, col2):\n",
    "    return np.cov(col1, col2)[0, 1]\n",
    "\n",
    "print(\"Covariance between total_bill and tip:\", calculate_covariance(total_bill, tip))\n",
    "\n"
   ]
  },
  {
   "cell_type": "code",
   "execution_count": 364,
   "id": "c4d856c8-5cd1-435a-a065-870747b5ab04",
   "metadata": {},
   "outputs": [
    {
     "name": "stdout",
     "output_type": "stream",
     "text": [
      "Pearson Correlation between total_bill and tip: 0.6757341092113641\n"
     ]
    }
   ],
   "source": [
    "# (iv) Function to calculate Pearson correlation coefficient\n",
    "def calculate_pearson_corr(col1, col2):\n",
    "    return np.corrcoef(col1, col2)[0, 1]\n",
    "\n",
    "print(\"Pearson Correlation between total_bill and tip:\", calculate_pearson_corr(total_bill, tip))\n"
   ]
  },
  {
   "cell_type": "code",
   "execution_count": 365,
   "id": "c9a84c3b-f486-4e91-b78e-d483058210ac",
   "metadata": {},
   "outputs": [
    {
     "data": {
      "image/png": "[encoded data removed]",
      "text/plain": [
       "<Figure size 800x500 with 1 Axes>"
      ]
     },
     "metadata": {},
     "output_type": "display_data"
    }
   ],
   "source": [
    "# (v) Visualization using scatter plots\n",
    "plt.figure(figsize=(8, 5))\n",
    "sns.scatterplot(x=total_bill, y=tip)\n",
    "plt.title('Correlation between Total Bill and Tip')\n",
    "plt.xlabel('Total Bill')\n",
    "plt.ylabel('Tip')\n",
    "plt.show()\n"
   ]
  },
  {
   "cell_type": "code",
   "execution_count": null,
   "id": "34f440d8-7acc-4283-b153-adc171295dab",
   "metadata": {},
   "outputs": [],
   "source": [
    "#8. Write a Python function to calculate the probability density function (PDF) of a continuous random variable for a given normal distribution."
   ]
  },
  {
   "cell_type": "code",
   "execution_count": null,
   "id": "129d844f-bb92-4e01-9d49-387ddace80d7",
   "metadata": {},
   "outputs": [],
   "source": [
    "from math import sqrt, pi, exp\n",
    "\n",
    "def normal_pdf(x, mean, std_dev):\n",
    "    \"\"\"\n",
    "    Calculate the PDF of a normal distribution for a given x.\n",
    "    \n",
    "    Parameters:\n",
    "    - x: The value at which to calculate the PDF\n",
    "    - mean: The mean of the distribution\n",
    "    - std_dev: The standard deviation of the distribution\n",
    "    \n",
    "    Returns:\n",
    "    - The PDF value at x\n",
    "    \"\"\"\n",
    "    coefficient = 1 / (std_dev * sqrt(2 * pi))\n",
    "    exponent = exp(-0.5 * ((x - mean) / std_dev) ** 2)\n",
    "    return coefficient * exponent\n",
    "\n",
    "# Example usage:\n",
    "x_value = 5\n",
    "mean_value = 4\n",
    "std_dev_value = 1.5\n",
    "\n",
    "pdf_value = normal_pdf(x_value, mean_value, std_dev_value)\n",
    "print(f\"PDF at x={x_value} for N({mean_value}, {std_dev_value}^2): {pdf_value}\")\n"
   ]
  },
  {
   "cell_type": "code",
   "execution_count": null,
   "id": "3188f5db-7408-457a-bad7-56e6f1733285",
   "metadata": {},
   "outputs": [],
   "source": [
    "#9.Create a program to calculate the cumulative distribution function (CDF) of exponential distribution.\n"
   ]
  },
  {
   "cell_type": "code",
   "execution_count": 366,
   "id": "5a7865b7-5f8d-4a99-95b7-2b0f42ec4b28",
   "metadata": {},
   "outputs": [
    {
     "name": "stdout",
     "output_type": "stream",
     "text": [
      "CDF at x = 2 for lambda = 1.5: 0.950212931632136\n"
     ]
    }
   ],
   "source": [
    "import math\n",
    "\n",
    "def exponential_cdf(x, lam):\n",
    "    \"\"\"\n",
    "    Calculate the CDF of an exponential distribution.\n",
    "    \n",
    "    :param x: The value at which to evaluate the CDF (x >= 0)\n",
    "    :param lam: The rate parameter (lambda > 0)\n",
    "    :return: The value of the CDF at x\n",
    "    \"\"\"\n",
    "    if x < 0:\n",
    "        raise ValueError(\"x must be greater than or equal to 0.\")\n",
    "    if lam <= 0:\n",
    "        raise ValueError(\"Lambda must be greater than 0.\")\n",
    "    \n",
    "    # Compute the CDF using the formula: F(x) = 1 - e^(-lambda * x)\n",
    "    return 1 - math.exp(-lam * x)\n",
    "\n",
    "# Example usage\n",
    "x_value = 2\n",
    "lambda_value = 1.5\n",
    "cdf_result = exponential_cdf(x_value, lambda_value)\n",
    "print(f\"CDF at x = {x_value} for lambda = {lambda_value}: {cdf_result}\")\n"
   ]
  },
  {
   "cell_type": "code",
   "execution_count": null,
   "id": "541f8cda-d092-4f8a-8dc2-232935ab97ef",
   "metadata": {},
   "outputs": [],
   "source": [
    "#10. Write a Python function to calculate the probability mass function (PMF) of Poisson distribution.\n"
   ]
  },
  {
   "cell_type": "code",
   "execution_count": 367,
   "id": "fc692479-b8d1-4fec-856d-0fea6b8a2661",
   "metadata": {},
   "outputs": [
    {
     "name": "stdout",
     "output_type": "stream",
     "text": [
      "PMF at k = 3 for lambda = 2.5: 0.21376301724973645\n"
     ]
    }
   ],
   "source": [
    "import math\n",
    "\n",
    "def poisson_pmf(k, lam):\n",
    "    \"\"\"\n",
    "    Calculate the PMF of a Poisson distribution.\n",
    "    \n",
    "    :param k: The number of occurrences (non-negative integer)\n",
    "    :param lam: The rate parameter (lambda > 0)\n",
    "    :return: The probability of k occurrences for a given lambda\n",
    "    \"\"\"\n",
    "    if k < 0 or not isinstance(k, int):\n",
    "        raise ValueError(\"k must be a non-negative integer.\")\n",
    "    if lam <= 0:\n",
    "        raise ValueError(\"Lambda must be greater than 0.\")\n",
    "    \n",
    "    # Compute the PMF using the formula: P(X = k) = (lambda^k * e^(-lambda)) / k!\n",
    "    return (lam**k * math.exp(-lam)) / math.factorial(k)\n",
    "\n",
    "# Example usage\n",
    "k_value = 3\n",
    "lambda_value = 2.5\n",
    "pmf_result = poisson_pmf(k_value, lambda_value)\n",
    "print(f\"PMF at k = {k_value} for lambda = {lambda_value}: {pmf_result}\")\n"
   ]
  },
  {
   "cell_type": "code",
   "execution_count": null,
   "id": "3727374d-8edd-4e36-a699-593e6e7bce15",
   "metadata": {},
   "outputs": [],
   "source": [
    "# 11. A company wants to test if a new website layout leads to a higher conversion rate (percentage of visitors\n",
    "# who make a purchase). They collect data from the old and new layouts to compare.\n",
    "\n",
    "\n",
    "# To generate the data use the following command:\n",
    "\n",
    "# ```python\n",
    "\n",
    "# import numpy as np\n",
    "\n",
    "# # 50 purchases out of 1000 visitors\n",
    "\n",
    "# old_layout = np.array([1] * 50 + [0] * 950)\n",
    "\n",
    "# # 70 purchases out of 1000 visitors  \n",
    "\n",
    "# new_layout = np.array([1] * 70 + [0] * 930)\n",
    "\n",
    "#   ```\n",
    "\n",
    "# Apply z-test to find which layout is successful"
   ]
  },
  {
   "cell_type": "code",
   "execution_count": 368,
   "id": "6c4b48ee-e86f-4b3e-b73c-73a6c481e6e0",
   "metadata": {},
   "outputs": [
    {
     "name": "stdout",
     "output_type": "stream",
     "text": [
      "Z-score: -1.883108942886774\n",
      "P-value: 0.9701571972337869\n",
      "Fail to reject the null hypothesis: No significant difference between the layouts.\n"
     ]
    }
   ],
   "source": [
    "import numpy as np\n",
    "import scipy.stats as stats\n",
    "\n",
    "# Data for old and new layout\n",
    "old_layout = np.array([1] * 50 + [0] * 950)\n",
    "new_layout = np.array([1] * 70 + [0] * 930)\n",
    "\n",
    "# Sample sizes\n",
    "n1 = len(old_layout)\n",
    "n2 = len(new_layout)\n",
    "\n",
    "# Proportions of purchases\n",
    "p1 = np.mean(old_layout)\n",
    "p2 = np.mean(new_layout)\n",
    "\n",
    "# Pooled proportion\n",
    "p = (np.sum(old_layout) + np.sum(new_layout)) / (n1 + n2)\n",
    "\n",
    "# Standard error\n",
    "SE = np.sqrt(p * (1 - p) * (1/n1 + 1/n2))\n",
    "\n",
    "# Z-score\n",
    "z = (p1 - p2) / SE\n",
    "\n",
    "# P-value (one-tailed test since we are interested in whether the new layout is better)\n",
    "p_value = 1 - stats.norm.cdf(z)\n",
    "\n",
    "# Output the results\n",
    "print(f\"Z-score: {z}\")\n",
    "print(f\"P-value: {p_value}\")\n",
    "\n",
    "# Decision\n",
    "alpha = 0.05\n",
    "if p_value < alpha:\n",
    "    print(\"Reject the null hypothesis: The new layout is significantly better.\")\n",
    "else:\n",
    "    print(\"Fail to reject the null hypothesis: No significant difference between the layouts.\")\n"
   ]
  },
  {
   "cell_type": "code",
   "execution_count": null,
   "id": "2f1aeca6-b4b5-46f1-acff-f56246319051",
   "metadata": {},
   "outputs": [],
   "source": [
    "# 12. A tutoring service claims that its program improves students' exam scores. A sample of students who\n",
    "# participated in the program was taken, and their scores before and after the program were recorded.\n",
    "\n",
    "\n",
    "# Use the below code to generate samples of respective arrays of marks:\n",
    "\n",
    "# ```python\n",
    "\n",
    "# before_program = np.array([75, 80, 85, 70, 90, 78, 92, 88, 82, 87])\n",
    "\n",
    "# after_program = np.array([80, 85, 90, 80, 92, 80, 95, 90, 85, 88])\n",
    "\n",
    "# ```\n",
    "\n",
    "# Use z-test to find if the claims made by tutor are true or false."
   ]
  },
  {
   "cell_type": "code",
   "execution_count": null,
   "id": "866b791e-1016-40d9-bd2d-a95d0f5615fb",
   "metadata": {},
   "outputs": [],
   "source": [
    "import numpy as np\n",
    "from scipy.stats import norm\n",
    "\n",
    "# Scores before and after the program\n",
    "before_program = np.array([75, 80, 85, 70, 90, 78, 92, 88, 82, 87])\n",
    "after_program = np.array([80, 85, 90, 80, 92, 80, 95, 90, 85, 88])\n",
    "\n",
    "# Calculate the differences\n",
    "differences = after_program - before_program\n",
    "\n",
    "# Mean and standard deviation of the differences\n",
    "mean_diff = np.mean(differences)\n",
    "std_diff = np.std(differences, ddof=1)\n",
    "\n",
    "# Number of samples\n",
    "n = len(differences)\n",
    "\n",
    "# Standard error\n",
    "SE = std_diff / np.sqrt(n)\n",
    "\n",
    "# Z-score\n",
    "z = mean_diff / SE\n",
    "\n",
    "# P-value for a one-tailed test\n",
    "p_value = 1 - norm.cdf(z)\n",
    "\n",
    "# Output results\n",
    "print(f\"Mean of Differences: {mean_diff}\")\n",
    "print(f\"Standard Deviation of Differences: {std_diff}\")\n",
    "print(f\"Z-score: {z}\")\n",
    "print(f\"P-value: {p_value}\")\n",
    "\n",
    "# Decision\n",
    "alpha = 0.05\n",
    "if p_value < alpha:\n",
    "    print(\"Reject the null hypothesis: The tutoring service significantly improved scores.\")\n",
    "else:\n",
    "    print(\"Fail to reject the null hypothesis: No significant improvement in scores.\")\n"
   ]
  },
  {
   "cell_type": "code",
   "execution_count": null,
   "id": "579f834a-597d-4db9-b39d-605a5b446f30",
   "metadata": {},
   "outputs": [],
   "source": [
    "# 13. A pharmaceutical company wants to determine if a new drug is effective in reducing blood pressure. They\n",
    "# conduct a study and record blood pressure measurements before and after administering the drug.\n",
    "\n",
    "\n",
    "# Use the below code to generate samples of respective arrays of blood pressure:\n",
    "\n",
    "\n",
    "# ```python\n",
    "\n",
    "# before_drug = np.array([145, 150, 140, 135, 155, 160, 152, 148, 130, 138])\n",
    "\n",
    "# after_drug = np.array([130, 140, 132, 128, 145, 148, 138, 136, 125, 130])\n",
    "\n",
    "#   ```\n",
    "\n",
    "\n",
    "# Implement z-test to find if the drug really works or not."
   ]
  },
  {
   "cell_type": "code",
   "execution_count": 369,
   "id": "1b06571b-434c-4f1a-ba5d-6cf9fd6030ce",
   "metadata": {},
   "outputs": [
    {
     "name": "stdout",
     "output_type": "stream",
     "text": [
      "Mean of Differences: 10.1\n",
      "Standard Deviation of Differences: 3.178049716414141\n",
      "Z-score: 10.049875621120888\n",
      "P-value: 0.0\n",
      "Reject the null hypothesis: The drug significantly reduces blood pressure.\n"
     ]
    }
   ],
   "source": [
    "import numpy as np\n",
    "from scipy.stats import norm\n",
    "\n",
    "# Blood pressure data before and after taking the drug\n",
    "before_drug = np.array([145, 150, 140, 135, 155, 160, 152, 148, 130, 138])\n",
    "after_drug = np.array([130, 140, 132, 128, 145, 148, 138, 136, 125, 130])\n",
    "\n",
    "# Calculate the differences\n",
    "differences = before_drug - after_drug\n",
    "\n",
    "# Mean and standard deviation of the differences\n",
    "mean_diff = np.mean(differences)\n",
    "std_diff = np.std(differences, ddof=1)\n",
    "\n",
    "# Number of samples\n",
    "n = len(differences)\n",
    "\n",
    "# Standard error\n",
    "SE = std_diff / np.sqrt(n)\n",
    "\n",
    "# Z-score\n",
    "z = mean_diff / SE\n",
    "\n",
    "# P-value for a one-tailed test\n",
    "p_value = 1 - norm.cdf(z)\n",
    "\n",
    "# Output results\n",
    "print(f\"Mean of Differences: {mean_diff}\")\n",
    "print(f\"Standard Deviation of Differences: {std_diff}\")\n",
    "print(f\"Z-score: {z}\")\n",
    "print(f\"P-value: {p_value}\")\n",
    "\n",
    "# Decision\n",
    "alpha = 0.05\n",
    "if p_value < alpha:\n",
    "    print(\"Reject the null hypothesis: The drug significantly reduces blood pressure.\")\n",
    "else:\n",
    "    print(\"Fail to reject the null hypothesis: No significant reduction in blood pressure.\")\n"
   ]
  },
  {
   "cell_type": "code",
   "execution_count": null,
   "id": "9c58bba1-86f5-481c-9eeb-afe59195abb5",
   "metadata": {},
   "outputs": [],
   "source": [
    "# 14. A customer service department claims that their average response time is less than 5 minutes. A sample\n",
    "# of recent customer interactions was taken, and the response times were recorded.\n",
    "\n",
    "\n",
    "# Implement the below code to generate the array of response time:\n",
    "\n",
    "# ```python\n",
    "\n",
    "# response_times = np.array([4.3, 3.8, 5.1, 4.9, 4.7, 4.2, 5.2, 4.5, 4.6, 4.4])\n",
    "\n",
    "# ```\n",
    "\n",
    "# Implement z-test to find the claims made by customer service department are tru or false."
   ]
  },
  {
   "cell_type": "code",
   "execution_count": 370,
   "id": "6c5eed67-964c-46dc-9eae-72d630f3e7a5",
   "metadata": {},
   "outputs": [
    {
     "name": "stdout",
     "output_type": "stream",
     "text": [
      "Z-score: -3.184457226042963\n",
      "Critical value: -1.6448536269514729\n",
      "Reject the null hypothesis: The average response time is less than 5 minutes.\n"
     ]
    }
   ],
   "source": [
    "import numpy as np\n",
    "from scipy import stats\n",
    "\n",
    "# Given sample response times\n",
    "response_times = np.array([4.3, 3.8, 5.1, 4.9, 4.7, 4.2, 5.2, 4.5, 4.6, 4.4])\n",
    "\n",
    "# Parameters\n",
    "mu = 5  # population mean (claimed)\n",
    "alpha = 0.05  # significance level (5%)\n",
    "\n",
    "# Step 1: Calculate sample mean and sample standard deviation\n",
    "sample_mean = np.mean(response_times)\n",
    "sample_std = np.std(response_times, ddof=1)  # Sample standard deviation\n",
    "n = len(response_times)  # Sample size\n",
    "\n",
    "# Step 2: Calculate z-score\n",
    "z_score = (sample_mean - mu) / (sample_std / np.sqrt(n))\n",
    "\n",
    "# Step 3: Calculate the critical z-value for a one-tailed test at 5% significance level\n",
    "critical_value = stats.norm.ppf(alpha)\n",
    "\n",
    "# Step 4: Compare z-score with critical value\n",
    "if z_score < critical_value:\n",
    "    result = \"Reject the null hypothesis: The average response time is less than 5 minutes.\"\n",
    "else:\n",
    "    result = \"Fail to reject the null hypothesis: The average response time is not less than 5 minutes.\"\n",
    "\n",
    "# Output the result\n",
    "print(f\"Z-score: {z_score}\")\n",
    "print(f\"Critical value: {critical_value}\")\n",
    "print(result)\n"
   ]
  },
  {
   "cell_type": "code",
   "execution_count": null,
   "id": "61d7d329-7eb9-4abb-ae05-e3c325a6f368",
   "metadata": {},
   "outputs": [],
   "source": [
    "# 15. A company is testing two different website layouts to see which one leads to higher click-through rates.\n",
    "# Write a Python function to perform an A/B test analysis, including calculating the t-statistic, degrees of\n",
    "# freedom, and p-value.\n",
    "\n",
    "\n",
    "# Use the following data:\n",
    "\n",
    "# ```python\n",
    "\n",
    "# layout_a_clicks = [28, 32, 33, 29, 31, 34, 30, 35, 36, 37]\n",
    "\n",
    "# layout_b_clicks = [40, 41, 38, 42, 39, 44, 43, 41, 45, 47]"
   ]
  },
  {
   "cell_type": "code",
   "execution_count": 372,
   "id": "0c80b1df-f074-4786-9aa3-70dac3d9929e",
   "metadata": {},
   "outputs": [
    {
     "name": "stdout",
     "output_type": "stream",
     "text": [
      "T-statistic: -7.298102156175071\n",
      "Degrees of freedom: 17.879871863320876\n",
      "P-value: 9.196596070789357e-07\n",
      "Reject the null hypothesis: There is a significant difference in click-through rates.\n"
     ]
    }
   ],
   "source": [
    "import numpy as np\n",
    "from scipy import stats\n",
    "\n",
    "def ab_test_analysis(layout_a_clicks, layout_b_clicks):\n",
    "    # Calculate the sample means\n",
    "    mean_a = np.mean(layout_a_clicks)\n",
    "    mean_b = np.mean(layout_b_clicks)\n",
    "    \n",
    "    # Calculate the sample standard deviations\n",
    "    std_a = np.std(layout_a_clicks, ddof=1)  # Sample standard deviation\n",
    "    std_b = np.std(layout_b_clicks, ddof=1)  # Sample standard deviation\n",
    "    \n",
    "    # Sample sizes\n",
    "    n_a = len(layout_a_clicks)\n",
    "    n_b = len(layout_b_clicks)\n",
    "    \n",
    "    # Calculate the t-statistic\n",
    "    t_statistic = (mean_a - mean_b) / np.sqrt((std_a**2 / n_a) + (std_b**2 / n_b))\n",
    "    \n",
    "    # Calculate the degrees of freedom\n",
    "    df = ((std_a**2 / n_a + std_b**2 / n_b)**2) / \\\n",
    "         ((std_a**2 / n_a)**2 / (n_a - 1) + (std_b**2 / n_b)**2 / (n_b - 1))\n",
    "    \n",
    "    # Calculate the p-value\n",
    "    p_value = stats.t.sf(np.abs(t_statistic), df) * 2  # Two-tailed test\n",
    "    \n",
    "    # Return the results\n",
    "    return t_statistic, df, p_value\n",
    "\n",
    "# Given click data for Layout A and Layout B\n",
    "layout_a_clicks = [28, 32, 33, 29, 31, 34, 30, 35, 36, 37]\n",
    "layout_b_clicks = [40, 41, 38, 42, 39, 44, 43, 41, 45, 47]\n",
    "\n",
    "# Perform the A/B test analysis\n",
    "t_statistic, df, p_value = ab_test_analysis(layout_a_clicks, layout_b_clicks)\n",
    "\n",
    "# Output the results\n",
    "print(f\"T-statistic: {t_statistic}\")\n",
    "print(f\"Degrees of freedom: {df}\")\n",
    "print(f\"P-value: {p_value}\")\n",
    "\n",
    "# Interpret the p-value\n",
    "alpha = 0.05\n",
    "if p_value < alpha:\n",
    "    result = \"Reject the null hypothesis: There is a significant difference in click-through rates.\"\n",
    "else:\n",
    "    result = \"Fail to reject the null hypothesis: There is no significant difference in click-through rates.\"\n",
    "\n",
    "print(result)\n"
   ]
  },
  {
   "cell_type": "code",
   "execution_count": null,
   "id": "e02f27cf-8a5a-4209-8b85-71cbc6c75cee",
   "metadata": {},
   "outputs": [],
   "source": [
    "# 16. U A pharmaceutical company wants to determine if a new drug is more effective than an existing drug in\n",
    "# reducing cholesterol levels. Create a program to analyze the clinical trial data and calculate the tstatistic and p-value for the treatment effect.\n",
    "\n",
    "\n",
    "# Use the following data of cholestrol level:\n",
    "\n",
    "# ```python\n",
    "\n",
    "# existing_drug_levels = [180, 182, 175, 185, 178, 176, 172, 184, 179, 183]\n",
    "\n",
    "# new_drug_levels = [170, 172, 165, 168, 175, 173, 170, 178, 172, 176]\n",
    "\n",
    "# ```"
   ]
  },
  {
   "cell_type": "code",
   "execution_count": 373,
   "id": "0cc65995-aaa0-4ffd-bdab-f31fb9f9ad58",
   "metadata": {},
   "outputs": [
    {
     "name": "stdout",
     "output_type": "stream",
     "text": [
      "T-statistic: 4.140480986208661\n",
      "Degrees of freedom: 17.866770765582338\n",
      "P-value: 0.0006229228945469307\n",
      "Reject the null hypothesis: The new drug is more effective than the existing drug.\n"
     ]
    }
   ],
   "source": [
    "import numpy as np\n",
    "from scipy import stats\n",
    "\n",
    "def ab_test_analysis(existing_drug_levels, new_drug_levels):\n",
    "    # Calculate the sample means\n",
    "    mean_existing = np.mean(existing_drug_levels)\n",
    "    mean_new = np.mean(new_drug_levels)\n",
    "    \n",
    "    # Calculate the sample standard deviations\n",
    "    std_existing = np.std(existing_drug_levels, ddof=1)  # Sample standard deviation\n",
    "    std_new = np.std(new_drug_levels, ddof=1)  # Sample standard deviation\n",
    "    \n",
    "    # Sample sizes\n",
    "    n_existing = len(existing_drug_levels)\n",
    "    n_new = len(new_drug_levels)\n",
    "    \n",
    "    # Calculate the t-statistic\n",
    "    t_statistic = (mean_existing - mean_new) / np.sqrt((std_existing**2 / n_existing) + (std_new**2 / n_new))\n",
    "    \n",
    "    # Calculate the degrees of freedom\n",
    "    df = ((std_existing**2 / n_existing + std_new**2 / n_new)**2) / \\\n",
    "         ((std_existing**2 / n_existing)**2 / (n_existing - 1) + (std_new**2 / n_new)**2 / (n_new - 1))\n",
    "    \n",
    "    # Calculate the p-value\n",
    "    p_value = stats.t.sf(np.abs(t_statistic), df) * 2  # Two-tailed test\n",
    "    \n",
    "    # Return the results\n",
    "    return t_statistic, df, p_value\n",
    "\n",
    "# Given cholesterol level data for existing and new drug\n",
    "existing_drug_levels = [180, 182, 175, 185, 178, 176, 172, 184, 179, 183]\n",
    "new_drug_levels = [170, 172, 165, 168, 175, 173, 170, 178, 172, 176]\n",
    "\n",
    "# Perform the A/B test analysis\n",
    "t_statistic, df, p_value = ab_test_analysis(existing_drug_levels, new_drug_levels)\n",
    "\n",
    "# Output the results\n",
    "print(f\"T-statistic: {t_statistic}\")\n",
    "print(f\"Degrees of freedom: {df}\")\n",
    "print(f\"P-value: {p_value}\")\n",
    "\n",
    "# Interpret the p-value\n",
    "alpha = 0.05\n",
    "if p_value < alpha:\n",
    "    result = \"Reject the null hypothesis: The new drug is more effective than the existing drug.\"\n",
    "else:\n",
    "    result = \"Fail to reject the null hypothesis: The new drug is not more effective than the existing drug.\"\n",
    "\n",
    "print(result)\n"
   ]
  },
  {
   "cell_type": "code",
   "execution_count": null,
   "id": "11928b58-c045-4c57-b094-478c1bbbe59e",
   "metadata": {},
   "outputs": [],
   "source": [
    "# 17. A school district introduces an educational intervention program to improve math scores. Write a Python\n",
    "# function to analyze pre- and post-intervention test scores, calculating the t-statistic and p-value to\n",
    "# determine if the intervention had a significant impact.\n",
    "\n",
    "\n",
    "# Use the following data of test score:\n",
    "\n",
    "\n",
    "#   ```python\n",
    "\n",
    "#   pre_intervention_scores = [80, 85, 90, 75, 88, 82, 92, 78, 85, 87]\n",
    "\n",
    "#   post_intervention_scores = [90, 92, 88, 92, 95, 91, 96, 93, 89, 93]"
   ]
  },
  {
   "cell_type": "code",
   "execution_count": 374,
   "id": "aef3bc21-71c4-44a9-83e0-a6f1ee229cf5",
   "metadata": {},
   "outputs": [
    {
     "name": "stdout",
     "output_type": "stream",
     "text": [
      "T-statistic: 4.428408839657611\n",
      "Degrees of freedom: 9\n",
      "P-value: 0.0016509548165795493\n",
      "Reject the null hypothesis: The intervention had a significant impact.\n"
     ]
    }
   ],
   "source": [
    "import numpy as np\n",
    "from scipy import stats\n",
    "\n",
    "def paired_t_test_analysis(pre_intervention_scores, post_intervention_scores):\n",
    "    # Calculate the differences between post- and pre-intervention scores\n",
    "    differences = np.array(post_intervention_scores) - np.array(pre_intervention_scores)\n",
    "    \n",
    "    # Calculate the mean and standard deviation of the differences\n",
    "    mean_difference = np.mean(differences)\n",
    "    std_difference = np.std(differences, ddof=1)  # Sample standard deviation\n",
    "    n = len(differences)  # Sample size\n",
    "    \n",
    "    # Calculate the t-statistic\n",
    "    t_statistic = mean_difference / (std_difference / np.sqrt(n))\n",
    "    \n",
    "    # Degrees of freedom\n",
    "    df = n - 1\n",
    "    \n",
    "    # Calculate the p-value for the paired t-test\n",
    "    p_value = stats.t.sf(np.abs(t_statistic), df) * 2  # Two-tailed test\n",
    "    \n",
    "    # Return the results\n",
    "    return t_statistic, df, p_value\n",
    "\n",
    "# Given pre- and post-intervention test scores\n",
    "pre_intervention_scores = [80, 85, 90, 75, 88, 82, 92, 78, 85, 87]\n",
    "post_intervention_scores = [90, 92, 88, 92, 95, 91, 96, 93, 89, 93]\n",
    "\n",
    "# Perform the paired t-test analysis\n",
    "t_statistic, df, p_value = paired_t_test_analysis(pre_intervention_scores, post_intervention_scores)\n",
    "\n",
    "# Output the results\n",
    "print(f\"T-statistic: {t_statistic}\")\n",
    "print(f\"Degrees of freedom: {df}\")\n",
    "print(f\"P-value: {p_value}\")\n",
    "\n",
    "# Interpret the p-value\n",
    "alpha = 0.05\n",
    "if p_value < alpha:\n",
    "    result = \"Reject the null hypothesis: The intervention had a significant impact.\"\n",
    "else:\n",
    "    result = \"Fail to reject the null hypothesis: The intervention did not have a significant impact.\"\n",
    "\n",
    "print(result)\n"
   ]
  },
  {
   "cell_type": "code",
   "execution_count": null,
   "id": "976d26df-af10-4cc5-aa36-5bd75b7cb624",
   "metadata": {},
   "outputs": [],
   "source": [
    "# 18. An HR department wants to investigate if there's a gender-based salary gap within the company. Develop\n",
    "# a program to analyze salary data, calculate the t-statistic, and determine if there's a statistically\n",
    "# significant difference between the average salaries of male and female employees.\n",
    "\n",
    "\n",
    "# Use the below code to generate synthetic data:\n",
    "\n",
    "\n",
    "# ```python\n",
    "\n",
    "# # Generate synthetic salary data for male and female employees\n",
    "\n",
    "# np.random.seed(0)  # For reproducibility\n",
    "\n",
    "# male_salaries = np.random.normal(loc=50000, scale=10000, size=20)\n",
    "\n",
    "# female_salaries = np.random.normal(loc=55000, scale=9000, size=20)\n",
    "\n",
    "#   ```"
   ]
  },
  {
   "cell_type": "code",
   "execution_count": 375,
   "id": "bb40bb14-c05b-4a8e-a59c-d0a2c29f1ee5",
   "metadata": {},
   "outputs": [
    {
     "name": "stdout",
     "output_type": "stream",
     "text": [
      "T-statistic: 0.061142089696313844\n",
      "Degrees of freedom: 36.166783312917644\n",
      "P-value: 0.9515826849267927\n",
      "Fail to reject the null hypothesis: There is no significant salary gap between male and female employees.\n"
     ]
    }
   ],
   "source": [
    "import numpy as np\n",
    "from scipy import stats\n",
    "\n",
    "def salary_gap_analysis(male_salaries, female_salaries):\n",
    "    # Calculate the sample means\n",
    "    mean_male = np.mean(male_salaries)\n",
    "    mean_female = np.mean(female_salaries)\n",
    "    \n",
    "    # Calculate the sample standard deviations\n",
    "    std_male = np.std(male_salaries, ddof=1)  # Sample standard deviation\n",
    "    std_female = np.std(female_salaries, ddof=1)  # Sample standard deviation\n",
    "    \n",
    "    # Sample sizes\n",
    "    n_male = len(male_salaries)\n",
    "    n_female = len(female_salaries)\n",
    "    \n",
    "    # Calculate the t-statistic\n",
    "    t_statistic = (mean_male - mean_female) / np.sqrt((std_male**2 / n_male) + (std_female**2 / n_female))\n",
    "    \n",
    "    # Calculate the degrees of freedom\n",
    "    df = ((std_male**2 / n_male + std_female**2 / n_female)**2) / \\\n",
    "         ((std_male**2 / n_male)**2 / (n_male - 1) + (std_female**2 / n_female)**2 / (n_female - 1))\n",
    "    \n",
    "    # Calculate the p-value\n",
    "    p_value = stats.t.sf(np.abs(t_statistic), df) * 2  # Two-tailed test\n",
    "    \n",
    "    # Return the results\n",
    "    return t_statistic, df, p_value\n",
    "\n",
    "# Generate synthetic salary data for male and female employees\n",
    "np.random.seed(0)  # For reproducibility\n",
    "male_salaries = np.random.normal(loc=50000, scale=10000, size=20)\n",
    "female_salaries = np.random.normal(loc=55000, scale=9000, size=20)\n",
    "\n",
    "# Perform the salary gap analysis\n",
    "t_statistic, df, p_value = salary_gap_analysis(male_salaries, female_salaries)\n",
    "\n",
    "# Output the results\n",
    "print(f\"T-statistic: {t_statistic}\")\n",
    "print(f\"Degrees of freedom: {df}\")\n",
    "print(f\"P-value: {p_value}\")\n",
    "\n",
    "# Interpret the p-value\n",
    "alpha = 0.05\n",
    "if p_value < alpha:\n",
    "    result = \"Reject the null hypothesis: There is a significant salary gap between male and female employees.\"\n",
    "else:\n",
    "    result = \"Fail to reject the null hypothesis: There is no significant salary gap between male and female employees.\"\n",
    "\n",
    "print(result)\n"
   ]
  },
  {
   "cell_type": "code",
   "execution_count": null,
   "id": "9622b5d9-d61b-4732-bbf3-392810359d4d",
   "metadata": {},
   "outputs": [],
   "source": [
    "# 19. A manufacturer produces two different versions of a product and wants to compare their quality scores.\n",
    "# Create a Python function to analyze quality assessment data, calculate the t-statistic, and decide\n",
    "# whether there's a significant difference in quality between the two versions.\n",
    "\n",
    "\n",
    "# Use the following data:\n",
    "\n",
    "\n",
    "# ```python\n",
    "\n",
    "# version1_scores = [85, 88, 82, 89, 87, 84, 90, 88, 85, 86, 91, 83, 87, 84, 89, 86, 84, 88, 85, 86, 89, 90, 87, 88, 85]\n",
    "\n",
    "# version2_scores = [80, 78, 83, 81, 79, 82, 76, 80, 78, 81, 77, 82, 80, 79, 82, 79, 80, 81, 79, 82, 79, 78, 80, 81, 82]\n",
    "\n",
    "# ```"
   ]
  },
  {
   "cell_type": "code",
   "execution_count": 376,
   "id": "587c860a-5611-43b1-8bb4-9b353e268cf0",
   "metadata": {},
   "outputs": [
    {
     "name": "stdout",
     "output_type": "stream",
     "text": [
      "T-statistic: 11.325830417646698\n",
      "Degrees of freedom: 44.47061033283036\n",
      "P-value: 1.078754084378157e-14\n",
      "Reject the null hypothesis: There is a significant difference in quality between the two versions.\n"
     ]
    }
   ],
   "source": [
    "import numpy as np\n",
    "from scipy import stats\n",
    "\n",
    "def quality_comparison(version1_scores, version2_scores):\n",
    "    # Calculate the sample means\n",
    "    mean_version1 = np.mean(version1_scores)\n",
    "    mean_version2 = np.mean(version2_scores)\n",
    "    \n",
    "    # Calculate the sample standard deviations\n",
    "    std_version1 = np.std(version1_scores, ddof=1)  # Sample standard deviation\n",
    "    std_version2 = np.std(version2_scores, ddof=1)  # Sample standard deviation\n",
    "    \n",
    "    # Sample sizes\n",
    "    n_version1 = len(version1_scores)\n",
    "    n_version2 = len(version2_scores)\n",
    "    \n",
    "    # Calculate the t-statistic\n",
    "    t_statistic = (mean_version1 - mean_version2) / np.sqrt((std_version1**2 / n_version1) + (std_version2**2 / n_version2))\n",
    "    \n",
    "    # Calculate the degrees of freedom\n",
    "    df = ((std_version1**2 / n_version1 + std_version2**2 / n_version2)**2) / \\\n",
    "         ((std_version1**2 / n_version1)**2 / (n_version1 - 1) + (std_version2**2 / n_version2)**2 / (n_version2 - 1))\n",
    "    \n",
    "    # Calculate the p-value\n",
    "    p_value = stats.t.sf(np.abs(t_statistic), df) * 2  # Two-tailed test\n",
    "    \n",
    "    # Return the results\n",
    "    return t_statistic, df, p_value\n",
    "\n",
    "# Given quality scores for version1 and version2\n",
    "version1_scores = [85, 88, 82, 89, 87, 84, 90, 88, 85, 86, 91, 83, 87, 84, 89, 86, 84, 88, 85, 86, 89, 90, 87, 88, 85]\n",
    "version2_scores = [80, 78, 83, 81, 79, 82, 76, 80, 78, 81, 77, 82, 80, 79, 82, 79, 80, 81, 79, 82, 79, 78, 80, 81, 82]\n",
    "\n",
    "# Perform the quality comparison analysis\n",
    "t_statistic, df, p_value = quality_comparison(version1_scores, version2_scores)\n",
    "\n",
    "# Output the results\n",
    "print(f\"T-statistic: {t_statistic}\")\n",
    "print(f\"Degrees of freedom: {df}\")\n",
    "print(f\"P-value: {p_value}\")\n",
    "\n",
    "# Interpret the p-value\n",
    "alpha = 0.05\n",
    "if p_value < alpha:\n",
    "    result = \"Reject the null hypothesis: There is a significant difference in quality between the two versions.\"\n",
    "else:\n",
    "    result = \"Fail to reject the null hypothesis: There is no significant difference in quality between the two versions.\"\n",
    "\n",
    "print(result)\n"
   ]
  },
  {
   "cell_type": "code",
   "execution_count": null,
   "id": "d242b13d-99d4-43f5-b28e-09ea1650e7b1",
   "metadata": {},
   "outputs": [],
   "source": [
    "# 20. A restaurant chain collects customer satisfaction scores for two different branches. Write a program to\n",
    "# analyze the scores, calculate the t-statistic, and determine if there's a statistically significant difference in\n",
    "# customer satisfaction between the branches.\n",
    "\n",
    "\n",
    "# Use the below data of scores:\n",
    "\n",
    "#   ```python\n",
    "\n",
    "# branch_a_scores = [4, 5, 3, 4, 5, 4, 5, 3, 4, 4, 5, 4, 4, 3, 4, 5, 5, 4, 3, 4, 5, 4, 3, 5, 4, 4, 5, 3, 4, 5, 4]\n",
    "\n",
    "# branch_b_scores = [3, 4, 2, 3, 4, 3, 4, 2, 3, 3, 4, 3, 3, 2, 3, 4, 4, 3, 2, 3, 4, 3, 2, 4, 3, 3, 4, 2, 3, 4, 3]"
   ]
  },
  {
   "cell_type": "code",
   "execution_count": 377,
   "id": "3d1d7562-a100-4ffa-9ba9-1fda9bb39e53",
   "metadata": {},
   "outputs": [
    {
     "name": "stdout",
     "output_type": "stream",
     "text": [
      "T-statistic: 5.480077554195743\n",
      "Degrees of freedom: 60.0\n",
      "P-value: 8.895290509945655e-07\n",
      "Reject the null hypothesis: There is a significant difference in customer satisfaction between the branches.\n"
     ]
    }
   ],
   "source": [
    "import numpy as np\n",
    "from scipy import stats\n",
    "\n",
    "def satisfaction_analysis(branch_a_scores, branch_b_scores):\n",
    "    # Calculate the sample means\n",
    "    mean_a = np.mean(branch_a_scores)\n",
    "    mean_b = np.mean(branch_b_scores)\n",
    "    \n",
    "    # Calculate the sample standard deviations\n",
    "    std_a = np.std(branch_a_scores, ddof=1)  # Sample standard deviation\n",
    "    std_b = np.std(branch_b_scores, ddof=1)  # Sample standard deviation\n",
    "    \n",
    "    # Sample sizes\n",
    "    n_a = len(branch_a_scores)\n",
    "    n_b = len(branch_b_scores)\n",
    "    \n",
    "    # Calculate the t-statistic\n",
    "    t_statistic = (mean_a - mean_b) / np.sqrt((std_a**2 / n_a) + (std_b**2 / n_b))\n",
    "    \n",
    "    # Calculate the degrees of freedom\n",
    "    df = ((std_a**2 / n_a + std_b**2 / n_b)**2) / \\\n",
    "         ((std_a**2 / n_a)**2 / (n_a - 1) + (std_b**2 / n_b)**2 / (n_b - 1))\n",
    "    \n",
    "    # Calculate the p-value\n",
    "    p_value = stats.t.sf(np.abs(t_statistic), df) * 2  # Two-tailed test\n",
    "    \n",
    "    # Return the results\n",
    "    return t_statistic, df, p_value\n",
    "\n",
    "# Given customer satisfaction scores for branch A and branch B\n",
    "branch_a_scores = [4, 5, 3, 4, 5, 4, 5, 3, 4, 4, 5, 4, 4, 3, 4, 5, 5, 4, 3, 4, 5, 4, 3, 5, 4, 4, 5, 3, 4, 5, 4]\n",
    "branch_b_scores = [3, 4, 2, 3, 4, 3, 4, 2, 3, 3, 4, 3, 3, 2, 3, 4, 4, 3, 2, 3, 4, 3, 2, 4, 3, 3, 4, 2, 3, 4, 3]\n",
    "\n",
    "# Perform the satisfaction analysis\n",
    "t_statistic, df, p_value = satisfaction_analysis(branch_a_scores, branch_b_scores)\n",
    "\n",
    "# Output the results\n",
    "print(f\"T-statistic: {t_statistic}\")\n",
    "print(f\"Degrees of freedom: {df}\")\n",
    "print(f\"P-value: {p_value}\")\n",
    "\n",
    "# Interpret the p-value\n",
    "alpha = 0.05\n",
    "if p_value < alpha:\n",
    "    result = \"Reject the null hypothesis: There is a significant difference in customer satisfaction between the branches.\"\n",
    "else:\n",
    "    result = \"Fail to reject the null hypothesis: There is no significant difference in customer satisfaction between the branches.\"\n",
    "\n",
    "print(result)\n"
   ]
  },
  {
   "cell_type": "code",
   "execution_count": null,
   "id": "c21a6f4f-fb8c-4093-ba42-4f7afbd1513a",
   "metadata": {},
   "outputs": [],
   "source": [
    "# 21. A political analyst wants to determine if there is a significant association between age groups and voter\n",
    "# preferences (Candidate A or Candidate B). They collect data from a sample of 500 voters and classify\n",
    "# them into different age groups and candidate preferences. Perform a Chi-Square test to determine if\n",
    "# there is a significant association between age groups and voter preferences.\n",
    "\n",
    "\n",
    "# Use the below code to generate data:\n",
    "\n",
    "# ```python\n",
    "\n",
    "# np.random.seed(0)\n",
    "\n",
    "# age_groups = np.random.choice([ 18 30 , 31 50 , 51+', 51+'], size=30)\n",
    "\n",
    "# voter_preferences = np.random.choice(['Candidate A', 'Candidate B'], size=30)"
   ]
  },
  {
   "cell_type": "code",
   "execution_count": 378,
   "id": "bcabaf55-8972-42ef-9420-af2f8ead7b8a",
   "metadata": {},
   "outputs": [
    {
     "name": "stdout",
     "output_type": "stream",
     "text": [
      "Chi-Square Statistic: 0.8779923945254768\n",
      "P-value: 0.6446832311860852\n",
      "Degrees of Freedom: 2\n",
      "Expected Frequencies:\n",
      "[[96.824 85.176]\n",
      " [89.908 79.092]\n",
      " [79.268 69.732]]\n",
      "Fail to reject the null hypothesis: There is no significant association between age groups and voter preferences.\n"
     ]
    }
   ],
   "source": [
    "import numpy as np\n",
    "import pandas as pd\n",
    "from scipy.stats import chi2_contingency\n",
    "\n",
    "# Generate synthetic data using the provided code\n",
    "np.random.seed(0)\n",
    "\n",
    "# Create age group and voter preference data\n",
    "age_groups = np.random.choice(['18-30', '31-50', '51+'], size=500)\n",
    "voter_preferences = np.random.choice(['Candidate A', 'Candidate B'], size=500)\n",
    "\n",
    "# Create a contingency table (cross-tabulation)\n",
    "data = pd.crosstab(age_groups, voter_preferences)\n",
    "\n",
    "# Perform the Chi-Square test of independence\n",
    "chi2_stat, p_value, dof, expected = chi2_contingency(data)\n",
    "\n",
    "# Output the results\n",
    "print(f\"Chi-Square Statistic: {chi2_stat}\")\n",
    "print(f\"P-value: {p_value}\")\n",
    "print(f\"Degrees of Freedom: {dof}\")\n",
    "print(f\"Expected Frequencies:\\n{expected}\")\n",
    "\n",
    "# Interpret the p-value\n",
    "alpha = 0.05\n",
    "if p_value < alpha:\n",
    "    result = \"Reject the null hypothesis: There is a significant association between age groups and voter preferences.\"\n",
    "else:\n",
    "    result = \"Fail to reject the null hypothesis: There is no significant association between age groups and voter preferences.\"\n",
    "\n",
    "print(result)\n"
   ]
  },
  {
   "cell_type": "code",
   "execution_count": null,
   "id": "394652ac-4fe2-4ac0-a137-74cbd8e24246",
   "metadata": {},
   "outputs": [],
   "source": [
    "# 22. A company conducted a customer satisfaction survey to determine if there is a significant relationship\n",
    "# between product satisfaction levels (Satisfied, Neutral, Dissatisfied) and the region where customers are\n",
    "# located (East, West, North, South). The survey data is summarized in a contingency table. Conduct a ChiSquare test to determine if there is a significant relationship between product satisfaction levels and\n",
    "# customer regions.\n",
    "\n",
    "\n",
    "# Sample data:\n",
    "\n",
    "# ```python\n",
    "\n",
    "# #Sample data: Product satisfaction levels (rows) vs. Customer regions (columns)\n",
    "\n",
    "# data = np.array([[50, 30, 40, 20], [30, 40, 30, 50], [20, 30, 40, 30]])\n",
    "\n",
    "# ```\n",
    "\n"
   ]
  },
  {
   "cell_type": "code",
   "execution_count": 379,
   "id": "4836fd31-8c36-4b7f-b68e-c8638c7b723f",
   "metadata": {},
   "outputs": [
    {
     "name": "stdout",
     "output_type": "stream",
     "text": [
      "Chi-Square Statistic: 27.777056277056275\n",
      "P-value: 0.00010349448486004387\n",
      "Degrees of Freedom: 6\n",
      "Expected Frequencies:\n",
      "[[34.14634146 34.14634146 37.56097561 34.14634146]\n",
      " [36.58536585 36.58536585 40.24390244 36.58536585]\n",
      " [29.26829268 29.26829268 32.19512195 29.26829268]]\n",
      "Reject the null hypothesis: There is a significant relationship between product satisfaction levels and customer regions.\n"
     ]
    }
   ],
   "source": [
    "import numpy as np\n",
    "from scipy.stats import chi2_contingency\n",
    "\n",
    "# Sample data: Product satisfaction levels (rows) vs. Customer regions (columns)\n",
    "# Rows: Satisfied, Neutral, Dissatisfied\n",
    "# Columns: East, West, North, South\n",
    "data = np.array([[50, 30, 40, 20], [30, 40, 30, 50], [20, 30, 40, 30]])\n",
    "\n",
    "# Perform the Chi-Square test of independence\n",
    "chi2_stat, p_value, dof, expected = chi2_contingency(data)\n",
    "\n",
    "# Output the results\n",
    "print(f\"Chi-Square Statistic: {chi2_stat}\")\n",
    "print(f\"P-value: {p_value}\")\n",
    "print(f\"Degrees of Freedom: {dof}\")\n",
    "print(f\"Expected Frequencies:\\n{expected}\")\n",
    "\n",
    "# Interpret the p-value\n",
    "alpha = 0.05\n",
    "if p_value < alpha:\n",
    "    result = \"Reject the null hypothesis: There is a significant relationship between product satisfaction levels and customer regions.\"\n",
    "else:\n",
    "    result = \"Fail to reject the null hypothesis: There is no significant relationship between product satisfaction levels and customer regions.\"\n",
    "\n",
    "print(result)\n"
   ]
  },
  {
   "cell_type": "code",
   "execution_count": null,
   "id": "02fff11d-5264-489b-ad27-3132eb9ae355",
   "metadata": {},
   "outputs": [],
   "source": [
    "# 23. A company implemented an employee training program to improve job performance (Effective, Neutral,\n",
    "# Ineffective). After the training, they collected data from a sample of employees and classified them based\n",
    "# on their job performance before and after the training. Perform a Chi-Square test to determine if there is a\n",
    "# significant difference between job performance levels before and after the training.\n",
    "\n",
    "\n",
    "# Sample data:\n",
    "\n",
    "# ```python\n",
    "\n",
    "# # Sample data: Job performance levels before (rows) and after (columns) training\n",
    "\n",
    "# data = np.array([[50, 30, 20], [30, 40, 30], [20, 30, 40]])\n",
    "\n",
    "# ```"
   ]
  },
  {
   "cell_type": "code",
   "execution_count": 380,
   "id": "9e7b755a-5e9d-486f-9d3a-f9a5aa46b4d4",
   "metadata": {},
   "outputs": [
    {
     "name": "stdout",
     "output_type": "stream",
     "text": [
      "Chi-Square Statistic: 22.161728395061726\n",
      "P-value: 0.00018609719479882557\n",
      "Degrees of Freedom: 4\n",
      "Expected Frequencies:\n",
      "[[34.48275862 34.48275862 31.03448276]\n",
      " [34.48275862 34.48275862 31.03448276]\n",
      " [31.03448276 31.03448276 27.93103448]]\n",
      "Reject the null hypothesis: There is a significant difference in job performance levels before and after the training.\n"
     ]
    }
   ],
   "source": [
    "import numpy as np\n",
    "from scipy.stats import chi2_contingency\n",
    "\n",
    "# Sample data: Job performance levels before (rows) and after (columns) training\n",
    "# Rows: Effective, Neutral, Ineffective (before training)\n",
    "# Columns: Effective, Neutral, Ineffective (after training)\n",
    "data = np.array([[50, 30, 20], [30, 40, 30], [20, 30, 40]])\n",
    "\n",
    "# Perform the Chi-Square test of independence\n",
    "chi2_stat, p_value, dof, expected = chi2_contingency(data)\n",
    "\n",
    "# Output the results\n",
    "print(f\"Chi-Square Statistic: {chi2_stat}\")\n",
    "print(f\"P-value: {p_value}\")\n",
    "print(f\"Degrees of Freedom: {dof}\")\n",
    "print(f\"Expected Frequencies:\\n{expected}\")\n",
    "\n",
    "# Interpret the p-value\n",
    "alpha = 0.05\n",
    "if p_value < alpha:\n",
    "    result = \"Reject the null hypothesis: There is a significant difference in job performance levels before and after the training.\"\n",
    "else:\n",
    "    result = \"Fail to reject the null hypothesis: There is no significant difference in job performance levels before and after the training.\"\n",
    "\n",
    "print(result)\n"
   ]
  },
  {
   "cell_type": "code",
   "execution_count": null,
   "id": "88f221c2-e2cd-4ffd-a540-bc61672000dc",
   "metadata": {},
   "outputs": [],
   "source": []
  }
 ],
 "metadata": {
  "kernelspec": {
   "display_name": "Python 3 (ipykernel)",
   "language": "python",
   "name": "python3"
  },
  "language_info": {
   "codemirror_mode": {
    "name": "ipython",
    "version": 3
   },
   "file_extension": ".py",
   "mimetype": "text/x-python",
   "name": "python",
   "nbconvert_exporter": "python",
   "pygments_lexer": "ipython3",
   "version": "3.11.7"
  }
 },
 "nbformat": 4,
 "nbformat_minor": 5
}
